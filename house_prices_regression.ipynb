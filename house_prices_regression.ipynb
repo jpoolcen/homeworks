{
 "cells": [
  {
   "cell_type": "code",
   "execution_count": 2,
   "metadata": {},
   "outputs": [],
   "source": [
    "# %% load Libraries\n",
    "import pandas as pd\n",
    "import numpy as np\n",
    "# visualization\n",
    "\n",
    "import matplotlib.pyplot as plt\n",
    "\n",
    "#models\n",
    "from modules.LassoRegressionClass import *\n",
    "from modules.NaiveElasticRegressionClass import *\n",
    "from modules.ElasticNetRegressionClass import *\n",
    "\n",
    "from sklearn.linear_model import LinearRegression\n",
    "from sklearn.linear_model import Lasso\n",
    "from sklearn.linear_model import Ridge\n",
    "#pipelines and preprocessing\n",
    "from sklearn.preprocessing import StandardScaler\n",
    "from sklearn.model_selection import train_test_split\n",
    "from sklearn.metrics import mean_squared_error\n",
    "from sklearn.pipeline import Pipeline \n",
    "\n"
   ]
  },
  {
   "cell_type": "code",
   "execution_count": 3,
   "metadata": {},
   "outputs": [],
   "source": [
    "# %% Load Data\n",
    "df_prosate = pd.read_csv('homeworks/data/boston.csv')\n"
   ]
  },
  {
   "cell_type": "code",
   "execution_count": 4,
   "metadata": {},
   "outputs": [],
   "source": [
    "#% Select data for the model\n",
    "X = df_prosate.iloc[:, :-1]\n",
    "y = df_prosate.iloc[:, -1]\n",
    "\n",
    "# %% Split data\n",
    "X_train, X_test, y_train, y_test = train_test_split(X, y, test_size=0.30, random_state=42)"
   ]
  },
  {
   "cell_type": "code",
   "execution_count": 5,
   "metadata": {},
   "outputs": [
    {
     "data": {
      "text/plain": [
       "((354, 12), (152, 12), (354,), (152,))"
      ]
     },
     "execution_count": 5,
     "metadata": {},
     "output_type": "execute_result"
    }
   ],
   "source": [
    "X_train.shape, X_test.shape, y_train.shape, y_test.shape"
   ]
  },
  {
   "cell_type": "code",
   "execution_count": 6,
   "metadata": {},
   "outputs": [],
   "source": [
    "\n",
    "lambda_l1_penality = 1\n",
    "\n",
    "lambda_l2_penality = 0.8 \n",
    "\n",
    "# parameters to the optimization\n",
    "\n",
    "max_iterations=10000\n",
    "\n",
    "threshold=1e-7"
   ]
  },
  {
   "cell_type": "code",
   "execution_count": 7,
   "metadata": {},
   "outputs": [
    {
     "name": "stdout",
     "output_type": "stream",
     "text": [
      "MSE OLS: 21.115450613869562\n",
      "Coeficientes OLS: [-1.16096196  0.81544469  0.25150446  0.90388642 -1.86406727  2.8008198\n",
      " -0.24506311 -2.94795852  1.89664169 -1.52987704 -2.00684723 -4.07422149]\n",
      "MSE Lasso: 26.845998033124275\n",
      "Coeficientes Lasso: [-0.0428574   0.         -0.          0.23722447 -0.          2.69587092\n",
      " -0.         -0.         -0.         -0.         -1.2605468  -3.83887414]\n",
      "MSE Ridge: 21.150634602300627\n",
      "Coeficientes Ridge: [-1.15116189  0.79899751  0.22921446  0.90788815 -1.83477688  2.80687668\n",
      " -0.24809408 -2.91545323  1.83336392 -1.47404089 -1.99840526 -4.06084384]\n"
     ]
    }
   ],
   "source": [
    "## Experiments with the prostate dataset\n",
    "\n",
    "# 1. Fitting OLS, Lasso,Ridge Naive Elastic Net and Elastic Net with the prostate dataset\n",
    "\n",
    "# 1.1 Fitting OLS\n",
    "steps_ols = [\n",
    "    ('scaler', StandardScaler()),  # Normaliza los datos como primer paso\n",
    "    ('linear_reg', LinearRegression())  # Aplica la regresión lineal como segundo paso\n",
    "]\n",
    "\n",
    "OLS_pipeline = Pipeline(steps_ols)\n",
    "\n",
    "OLS_pipeline.fit(X_train, y_train)\n",
    "\n",
    "OLS_predict = OLS_pipeline.predict(X_test)\n",
    "\n",
    "print('MSE OLS:',mean_squared_error(OLS_predict,y_test))\n",
    "\n",
    "print('Coeficientes OLS:',OLS_pipeline.named_steps['linear_reg'].coef_)\n",
    "\n",
    "\n",
    "# 1.2 Fitting Lasso\n",
    "\n",
    "steps_lasso = [\n",
    "    ('scaler', StandardScaler()),  # Normaliza los datos como primer paso\n",
    "    ('lasso_reg', Lasso(alpha=lambda_l1_penality))  # Aplica la regresión Lasso con el parámetro alpha aleatorio\n",
    "]\n",
    "\n",
    "# Define el pipeline\n",
    "lasso_pipeline = Pipeline(steps_lasso)\n",
    "\n",
    "lasso_pipeline.fit(X_train, y_train)\n",
    "\n",
    "lasso_predict = lasso_pipeline.predict(X_test)\n",
    "\n",
    "print('MSE Lasso:',mean_squared_error(lasso_predict,y_test))\n",
    "print('Coeficientes Lasso:',lasso_pipeline.named_steps['lasso_reg'].coef_)\n",
    "\n",
    "\n",
    "# 1.3 Fitting Ridge\n",
    "\n",
    "steps_ridge = [\n",
    "    ('scaler', StandardScaler()),  # Normaliza los datos como primer paso\n",
    "    ('ridge_reg', Ridge(alpha=lambda_l2_penality))  # Aplica la regresión Ridge como segundo paso\n",
    "]\n",
    "\n",
    "ridge_pipeline = Pipeline(steps_ridge)\n",
    "\n",
    "ridge_pipeline.fit(X_train, y_train)\n",
    "\n",
    "ridge_predict = ridge_pipeline.predict(X_test)\n",
    "\n",
    "print('MSE Ridge:',mean_squared_error(ridge_predict,y_test))\n",
    "print('Coeficientes Ridge:',ridge_pipeline.named_steps['ridge_reg'].coef_)\n",
    "\n"
   ]
  },
  {
   "cell_type": "code",
   "execution_count": 8,
   "metadata": {},
   "outputs": [
    {
     "name": "stdout",
     "output_type": "stream",
     "text": [
      "MSE Naive Elastic: 30.85850093928342\n",
      "Coeficientes with Naive: [-0.11679819  0.          0.          0.22114865  0.          2.82965261\n",
      "  0.          0.          0.          0.         -1.25016112 -3.60769337]\n",
      "MSE ElasticNet: 111.81454421827756\n",
      "Coefficients elasticnet [-0.21023674  0.          0.          0.39806757  0.          5.0933747\n",
      "  0.          0.          0.          0.         -2.25029001 -6.49384807]\n"
     ]
    }
   ],
   "source": [
    "# 1.4 Fitting Naive Elastic Net\n",
    "\n",
    "\n",
    "naive_elastic_reg = NaiveElasticRegression(lambda_l1_penality,lambda_l2_penality,max_iterations=max_iterations,threshold=threshold)\n",
    "## Testing Implementation Naive Elastics Regression\n",
    "# Make a pipeline\n",
    "\n",
    "my_naive_pipeline = Pipeline([\n",
    "    ('std_scaler', StandardScaler()),\n",
    "    ('naive_elasticnet', naive_elastic_reg),\n",
    "])\n",
    "\n",
    "# fitting the model\n",
    "my_naive_pipeline.fit(X_train, y_train)\n",
    "\n",
    "scaler = StandardScaler()\n",
    "\n",
    "# Ajusta y transforma los datos de entrenamiento\n",
    "y_train_scaled = scaler.fit_transform(y_train.values.reshape(-1,1))\n",
    "\n",
    "# Transforma los datos de prueba\n",
    "y_test_scaled = scaler.transform(y_test.values.reshape(-1,1))\n",
    "\n",
    "y_predict_naive = my_naive_pipeline.predict(X_test)\n",
    "\n",
    "print('MSE Naive Elastic:',mean_squared_error(y_predict_naive,y_test_scaled))\n",
    "print('Coeficientes with Naive:',my_naive_pipeline.named_steps['naive_elasticnet'].coef_)\n",
    "\n",
    "\n",
    "# 1.5 Fitting Elastic Net\n",
    "\n",
    "model_elasticnet = ElasticNetRegression(lambda_l1_penality,lambda_l2_penality,max_iterations=max_iterations, threshold=threshold)\n",
    "\n",
    "my_elasticnet_pipeline = Pipeline(\n",
    "    [\n",
    "        ('std_scaled',StandardScaler()),\n",
    "        ('model_elasticnet',model_elasticnet)   \n",
    "    ])\n",
    "\n",
    "my_elasticnet_pipeline.fit(X_train,y_train)\n",
    "\n",
    "y_predict_elasticnet = my_elasticnet_pipeline.predict(X_test)\n",
    "print('MSE ElasticNet:',mean_squared_error(y_predict_elasticnet,y_test_scaled))\n",
    "print('Coefficients elasticnet',my_elasticnet_pipeline.named_steps['model_elasticnet'].coef_)"
   ]
  },
  {
   "cell_type": "code",
   "execution_count": 10,
   "metadata": {},
   "outputs": [
    {
     "data": {
      "image/png": "[encoded data removed]",
      "text/plain": [
       "<Figure size 640x480 with 1 Axes>"
      ]
     },
     "metadata": {},
     "output_type": "display_data"
    }
   ],
   "source": [
    "\n",
    "## Visualization of Coefficients\n",
    "\n",
    "\n",
    "\n",
    "plt.plot(OLS_pipeline.named_steps['linear_reg'].coef_, '*', label='OLS')\n",
    "plt.plot(lasso_pipeline.named_steps['lasso_reg'].coef_, '+', label='Lasso')\n",
    "plt.plot(ridge_pipeline.named_steps['ridge_reg'].coef_, 'x', label='Ridge')\n",
    "plt.plot(my_naive_pipeline.named_steps['naive_elasticnet'].coef_,'^',label='Naive ElasticNet ')\n",
    "plt.plot(my_elasticnet_pipeline.named_steps['model_elasticnet'].coef_,'d',label='ElasticNet ')\n",
    "\n",
    "plt.title(\"Comparative Analysis of Regressor Coefficients\")\n",
    "plt.xlabel('Number of Coefficient')\n",
    "plt.ylabel('Value of Coefficient')\n",
    "plt.xticks(range(0, 13))  # Cambia los ticks del eje x para que vayan de 1 a 13\n",
    "plt.axhline(0, color='black', linewidth=0.5)  # Dibuja una línea horizontal en el valor 0\n",
    "plt.legend()\n",
    "plt.savefig('house_models_regression.png')\n",
    "plt.show()"
   ]
  }
 ],
 "metadata": {
  "language_info": {
   "name": "python"
  }
 },
 "nbformat": 4,
 "nbformat_minor": 2
}
