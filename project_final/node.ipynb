{
 "cells": [
  {
   "cell_type": "markdown",
   "metadata": {},
   "source": [
    "# NODE \n",
    "\n",
    "Neural Oblivious Decision Ensembles\n",
    "\n",
    "differentiable oblivious desicion trees (ODT) that are trained end-to-end by backpropagation.\n",
    "\n",
    "https://paperswithcode.com/method/node\n"
   ]
  },
  {
   "cell_type": "markdown",
   "metadata": {},
   "source": [
    "## Node Multiclass Classification\n"
   ]
  },
  {
   "cell_type": "code",
   "execution_count": 1,
   "metadata": {},
   "outputs": [],
   "source": [
    "## Librerias\n",
    "import torch\n",
    "import torch.nn as nn\n",
    "import torch.optim as optim\n",
    "from sklearn.model_selection import train_test_split\n",
    "from sklearn.datasets import make_classification\n",
    "from sklearn.metrics import accuracy_score\n",
    "from sklearn.preprocessing import LabelEncoder\n",
    "from sklearn.metrics import log_loss\n",
    "from sklearn.metrics import classification_report\n",
    "from sklearn.metrics import confusion_matrix\n",
    "from sklearn.preprocessing import StandardScaler, OneHotEncoder\n",
    "\n",
    "## Optimization\n",
    "from hyperopt import hp, fmin, tpe, Trials, STATUS_OK\n",
    "\n",
    "## visualization\n",
    "import seaborn as sns\n",
    "import matplotlib.pyplot as plt\n",
    "\n",
    "## preprocessing\n",
    "import pandas as pd\n",
    "import numpy as np"
   ]
  },
  {
   "cell_type": "markdown",
   "metadata": {},
   "source": [
    "## Class Node Multiclass Classification"
   ]
  },
  {
   "cell_type": "code",
   "execution_count": 2,
   "metadata": {},
   "outputs": [],
   "source": [
    "class NODEModel(nn.Module):\n",
    "    def __init__(self, input_dim, num_classes, hidden_dim=64, num_trees=10):\n",
    "        super(NODEModel, self).__init__()\n",
    "        self.trees = nn.ModuleList([nn.Linear(input_dim, hidden_dim) for _ in range(num_trees)])\n",
    "        self.hidden_dim = hidden_dim\n",
    "        self.num_classes = num_classes\n",
    "        self.output_layer = nn.Linear(hidden_dim * num_trees, num_classes)\n",
    "        self.softmax = nn.Softmax(dim=1)\n",
    "\n",
    "    def forward(self, x):\n",
    "        # Pass through each tree and concatenate outputs\n",
    "        tree_outputs = [torch.relu(tree(x)) for tree in self.trees]\n",
    "        x = torch.cat(tree_outputs, dim=1)\n",
    "        # Final multiclass prediction\n",
    "        x = self.output_layer(x)\n",
    "        return self.softmax(x)\n"
   ]
  },
  {
   "cell_type": "markdown",
   "metadata": {},
   "source": [
    "### Experiment Gesture Phase"
   ]
  },
  {
   "cell_type": "code",
   "execution_count": 31,
   "metadata": {},
   "outputs": [],
   "source": [
    "## Load data\n",
    "base_path = 'homeworks/data/project/gesture_phase/'\n",
    "df = pd.read_csv(base_path + 'gesture_phase.csv')"
   ]
  },
  {
   "cell_type": "code",
   "execution_count": 41,
   "metadata": {},
   "outputs": [
    {
     "data": {
      "text/plain": [
       "Index(['1', '2', '3', '4', '5', '6', '7', '8', '9', '10', '11', '12', '13',\n",
       "       '14', '15', '16', '17', '18', '19', '20', '21', '22', '23', '24', '25',\n",
       "       '26', '27', '28', '29', '30', '31', '32', 'Phase'],\n",
       "      dtype='object')"
      ]
     },
     "execution_count": 41,
     "metadata": {},
     "output_type": "execute_result"
    }
   ],
   "source": [
    "df.columns"
   ]
  },
  {
   "cell_type": "code",
   "execution_count": 50,
   "metadata": {},
   "outputs": [
    {
     "name": "stdout",
     "output_type": "stream",
     "text": [
      "Labels: tensor([2, 2, 4, 3, 0, 2, 3, 1, 0, 0, 2, 2, 0, 2, 1, 5, 4, 4, 5, 1, 2, 3, 5, 0,\n",
      "        4, 4, 5, 0, 3, 0, 3, 0])\n"
     ]
    }
   ],
   "source": [
    "## Preprocessing\n",
    "X = df.drop('Phase',axis=1).values\n",
    "y = df['Phase'].values\n",
    "le = LabelEncoder()\n",
    "# Fit and transform the data to the label encoder\n",
    "y = le.fit_transform(y_target)\n",
    "print('Labels:', labels)\n",
    "#X = df.values[:, :-1]\n",
    "#y_target = df.values[:, -1]\n",
    "labels = np.unique(y_target)\n",
    "\n",
    "# Initialize the LabelEncoder\n",
    "\n",
    "# Convertir a tensores de PyTorch\n",
    "X = torch.FloatTensor(X)\n",
    "y = torch.LongTensor(y)\n"
   ]
  },
  {
   "cell_type": "code",
   "execution_count": 51,
   "metadata": {},
   "outputs": [],
   "source": [
    "\n",
    "## Split into train and validation sets\n",
    "X_train_val, X_test, y_train_val, y_test = train_test_split(X, y, test_size=0.2, random_state=42)\n",
    "# Step 2:Train and validation data  70% train y 10% validation\n",
    "X_train, X_val, y_train, y_val = train_test_split(X_train_val, y_train_val, test_size=0.125, random_state=42)"
   ]
  },
  {
   "cell_type": "code",
   "execution_count": 59,
   "metadata": {},
   "outputs": [
    {
     "name": "stdout",
     "output_type": "stream",
     "text": [
      "Epoch 1/20, Loss: 1.5516\n",
      "Epoch 2/20, Loss: 1.5116\n",
      "Epoch 3/20, Loss: 1.4779\n",
      "Epoch 4/20, Loss: 1.4616\n",
      "Epoch 5/20, Loss: 1.4547\n",
      "Epoch 6/20, Loss: 1.4495\n",
      "Epoch 7/20, Loss: 1.4462\n",
      "Epoch 8/20, Loss: 1.4424\n",
      "Epoch 9/20, Loss: 1.4397\n",
      "Epoch 10/20, Loss: 1.4370\n",
      "Epoch 11/20, Loss: 1.4337\n",
      "Epoch 12/20, Loss: 1.4293\n",
      "Epoch 13/20, Loss: 1.4267\n",
      "Epoch 14/20, Loss: 1.4233\n",
      "Epoch 15/20, Loss: 1.4214\n",
      "Epoch 16/20, Loss: 1.4190\n",
      "Epoch 17/20, Loss: 1.4181\n",
      "Epoch 18/20, Loss: 1.4159\n",
      "Epoch 19/20, Loss: 1.4153\n",
      "Epoch 20/20, Loss: 1.4144\n",
      "Accuracy on Test Set: 0.4922\n",
      "Log Loss on Test Set: 1.4121\n"
     ]
    },
    {
     "name": "stderr",
     "output_type": "stream",
     "text": [
      "/home/zeus/miniconda3/envs/cloudspace/lib/python3.10/site-packages/sklearn/metrics/_classification.py:2922: UserWarning: The y_pred values do not sum to one. Starting from 1.5 thiswill result in an error.\n",
      "  warnings.warn(\n"
     ]
    }
   ],
   "source": [
    "input_dim = X_train.shape[1]\n",
    "num_classes = 5\n",
    "\n",
    "model = NODEModel(input_dim=input_dim, num_classes=num_classes)\n",
    "criterion = nn.CrossEntropyLoss()  # Cross-Entropy Loss for multiclass classification\n",
    "optimizer = optim.Adam(model.parameters(), lr=0.001)\n",
    "\n",
    "# Step 4: Training loop\n",
    "num_epochs = 20\n",
    "batch_size = 32\n",
    "\n",
    "train_dataset = torch.utils.data.TensorDataset(X_train, y_train)\n",
    "train_loader = torch.utils.data.DataLoader(train_dataset, batch_size=batch_size, shuffle=True)\n",
    "\n",
    "# store log losses\n",
    "log_losses = []\n",
    "\n",
    "for epoch in range(num_epochs):\n",
    "    model.train()\n",
    "    running_loss = 0.0\n",
    "    for inputs, labels in train_loader:\n",
    "        optimizer.zero_grad()\n",
    "        outputs = model(inputs)\n",
    "        loss = criterion(outputs, labels)\n",
    "        log_losses.append(loss.item())\n",
    "        loss.backward()\n",
    "        optimizer.step()\n",
    "        running_loss += loss.item()\n",
    "\n",
    "    print(f'Epoch {epoch+1}/{num_epochs}, Loss: {running_loss/len(train_loader):.4f}')\n",
    "\n",
    "# Step 5: Evaluation on the test set\n",
    "model.eval()\n",
    "with torch.no_grad():\n",
    "    test_outputs = model(X_test)\n",
    "    test_probs = torch.nn.functional.softmax(test_outputs, dim=1)\n",
    "    test_preds = torch.argmax(test_outputs, dim=1)\n",
    "    test_accuracy = accuracy_score(y_test, test_preds)\n",
    "    test_log_loss = log_loss(y_test, test_probs)\n",
    "\n",
    "print(f'Accuracy on Test Set: {test_accuracy:.4f}')\n",
    "print(f'Log Loss on Test Set: {test_log_loss:.4f}')\n"
   ]
  },
  {
   "cell_type": "code",
   "execution_count": 10,
   "metadata": {},
   "outputs": [
    {
     "data": {
      "image/png": "[encoded data removed]",
      "text/plain": [
       "<Figure size 1000x600 with 1 Axes>"
      ]
     },
     "metadata": {},
     "output_type": "display_data"
    }
   ],
   "source": [
    "## Log loss visualization\n",
    "plt.figure(figsize=(10, 6))\n",
    "plt.plot(log_losses)\n",
    "plt.xlabel('Epoch')\n",
    "plt.ylabel('Log Loss')\n",
    "plt.title('Log Loss Over Time')\n",
    "plt.show()"
   ]
  },
  {
   "cell_type": "code",
   "execution_count": 11,
   "metadata": {},
   "outputs": [
    {
     "name": "stdout",
     "output_type": "stream",
     "text": [
      "              precision    recall  f1-score   support\n",
      "\n",
      "           0       0.00      0.00      0.00       448\n",
      "           1       0.00      0.00      0.00       426\n",
      "           2       0.00      0.00      0.00       440\n",
      "           3       0.00      0.00      0.00       422\n",
      "           4       0.00      0.00      0.00       452\n",
      "           5       0.00      0.00      0.00       417\n",
      "           6       0.00      0.00      0.00       411\n",
      "           7       0.97      1.00      0.99    113187\n",
      "\n",
      "    accuracy                           0.97    116203\n",
      "   macro avg       0.12      0.12      0.12    116203\n",
      "weighted avg       0.95      0.97      0.96    116203\n",
      "\n"
     ]
    },
    {
     "name": "stderr",
     "output_type": "stream",
     "text": [
      "/home/zeus/miniconda3/envs/cloudspace/lib/python3.10/site-packages/sklearn/metrics/_classification.py:1471: UndefinedMetricWarning: Precision and F-score are ill-defined and being set to 0.0 in labels with no predicted samples. Use `zero_division` parameter to control this behavior.\n",
      "  _warn_prf(average, modifier, msg_start, len(result))\n",
      "/home/zeus/miniconda3/envs/cloudspace/lib/python3.10/site-packages/sklearn/metrics/_classification.py:1471: UndefinedMetricWarning: Precision and F-score are ill-defined and being set to 0.0 in labels with no predicted samples. Use `zero_division` parameter to control this behavior.\n",
      "  _warn_prf(average, modifier, msg_start, len(result))\n",
      "/home/zeus/miniconda3/envs/cloudspace/lib/python3.10/site-packages/sklearn/metrics/_classification.py:1471: UndefinedMetricWarning: Precision and F-score are ill-defined and being set to 0.0 in labels with no predicted samples. Use `zero_division` parameter to control this behavior.\n",
      "  _warn_prf(average, modifier, msg_start, len(result))\n"
     ]
    }
   ],
   "source": [
    "report = classification_report(y_test, test_preds)\n",
    "print(report)"
   ]
  },
  {
   "cell_type": "code",
   "execution_count": 58,
   "metadata": {},
   "outputs": [
    {
     "data": {
      "image/png": "[encoded data removed]",
      "text/plain": [
       "<Figure size 1000x1000 with 2 Axes>"
      ]
     },
     "metadata": {},
     "output_type": "display_data"
    }
   ],
   "source": [
    "# Compute confusion matrix\n",
    "cm = confusion_matrix(y_test, test_preds)\n",
    "\n",
    "# Plot confusion matrix\n",
    "plt.figure(figsize=(10, 10))\n",
    "sns.heatmap(cm, annot=True, fmt='d', cmap='Blues')\n",
    "plt.xlabel('Predicted')\n",
    "plt.ylabel('True')\n",
    "plt.show()"
   ]
  },
  {
   "cell_type": "markdown",
   "metadata": {},
   "source": [
    "## Experiments with Cover Type\n"
   ]
  },
  {
   "cell_type": "code",
   "execution_count": 3,
   "metadata": {},
   "outputs": [],
   "source": [
    "base_path = 'homeworks/data/project/'\n",
    "df_cover = pd.read_csv(base_path + 'forest_cover.csv')"
   ]
  },
  {
   "cell_type": "code",
   "execution_count": 4,
   "metadata": {},
   "outputs": [],
   "source": [
    "df_cover = df_cover.drop('Id', axis=1)"
   ]
  },
  {
   "cell_type": "code",
   "execution_count": 5,
   "metadata": {},
   "outputs": [
    {
     "data": {
      "text/plain": [
       "Index(['Elevation', 'Aspect', 'Slope', 'Horizontal_Distance_To_Hydrology',\n",
       "       'Vertical_Distance_To_Hydrology', 'Horizontal_Distance_To_Roadways',\n",
       "       'Hillshade_9am', 'Hillshade_Noon', 'Hillshade_3pm',\n",
       "       'Horizontal_Distance_To_Fire_Points', 'Wilderness_Area1',\n",
       "       'Wilderness_Area2', 'Wilderness_Area3', 'Wilderness_Area4',\n",
       "       'Soil_Type1', 'Soil_Type2', 'Soil_Type3', 'Soil_Type4', 'Soil_Type5',\n",
       "       'Soil_Type6', 'Soil_Type7', 'Soil_Type8', 'Soil_Type9', 'Soil_Type10',\n",
       "       'Soil_Type11', 'Soil_Type12', 'Soil_Type13', 'Soil_Type14',\n",
       "       'Soil_Type15', 'Soil_Type16', 'Soil_Type17', 'Soil_Type18',\n",
       "       'Soil_Type19', 'Soil_Type20', 'Soil_Type21', 'Soil_Type22',\n",
       "       'Soil_Type23', 'Soil_Type24', 'Soil_Type25', 'Soil_Type26',\n",
       "       'Soil_Type27', 'Soil_Type28', 'Soil_Type29', 'Soil_Type30',\n",
       "       'Soil_Type31', 'Soil_Type32', 'Soil_Type33', 'Soil_Type34',\n",
       "       'Soil_Type35', 'Soil_Type36', 'Soil_Type37', 'Soil_Type38',\n",
       "       'Soil_Type39', 'Soil_Type40', 'Cover_Type'],\n",
       "      dtype='object')"
      ]
     },
     "execution_count": 5,
     "metadata": {},
     "output_type": "execute_result"
    }
   ],
   "source": [
    "df_cover.columns"
   ]
  },
  {
   "cell_type": "code",
   "execution_count": 26,
   "metadata": {},
   "outputs": [
    {
     "name": "stdout",
     "output_type": "stream",
     "text": [
      "[0 1 2 3 4 5 6 7]\n"
     ]
    }
   ],
   "source": [
    "## Preprocessing\n",
    "X = df_cover.drop('Cover_Type',axis=1).values\n",
    "y = df_cover['Cover_Type'].values\n",
    "\n",
    "## Stadarize X\n",
    "scaler = StandardScaler()\n",
    "X = scaler.fit_transform(X)\n",
    "\n",
    "le = LabelEncoder()\n",
    "# Fit and transform the data to the label encoder\n",
    "y = le.fit_transform(y)\n",
    "print(np.unique(y))\n",
    "\n",
    "X = torch.FloatTensor(X)\n",
    "y = torch.LongTensor(y)"
   ]
  },
  {
   "cell_type": "code",
   "execution_count": 27,
   "metadata": {},
   "outputs": [
    {
     "data": {
      "text/plain": [
       "(torch.Size([581012, 54]), torch.Size([581012]))"
      ]
     },
     "execution_count": 27,
     "metadata": {},
     "output_type": "execute_result"
    }
   ],
   "source": [
    "X.shape, y.shape"
   ]
  },
  {
   "cell_type": "code",
   "execution_count": 28,
   "metadata": {},
   "outputs": [],
   "source": [
    "## Split into train and validation sets\n",
    "X_train_val, X_test, y_train_val, y_test = train_test_split(X, y, test_size=0.2, random_state=42)\n",
    "# Step 2:Train and validation data  70% train y 10% validation\n",
    "X_train, X_val, y_train, y_val = train_test_split(X_train_val, y_train_val, test_size=0.125, random_state=42)"
   ]
  },
  {
   "cell_type": "code",
   "execution_count": 29,
   "metadata": {},
   "outputs": [
    {
     "name": "stdout",
     "output_type": "stream",
     "text": [
      "Epoch 1/20, Loss: 1.3006\n",
      "Epoch 2/20, Loss: 1.3000\n",
      "Epoch 3/20, Loss: 1.3000\n",
      "Epoch 4/20, Loss: 1.3000\n",
      "Epoch 5/20, Loss: 1.3000\n",
      "Epoch 6/20, Loss: 1.3000\n",
      "Epoch 7/20, Loss: 1.3000\n",
      "Epoch 8/20, Loss: 1.3000\n",
      "Epoch 9/20, Loss: 1.3000\n",
      "Epoch 10/20, Loss: 1.3000\n",
      "Epoch 11/20, Loss: 1.3000\n",
      "Epoch 12/20, Loss: 1.3000\n",
      "Epoch 13/20, Loss: 1.3000\n",
      "Epoch 14/20, Loss: 1.3000\n",
      "Epoch 15/20, Loss: 1.3000\n",
      "Epoch 16/20, Loss: 1.3000\n",
      "Epoch 17/20, Loss: 1.3000\n",
      "Epoch 18/20, Loss: 1.3000\n",
      "Epoch 19/20, Loss: 1.3000\n",
      "Epoch 20/20, Loss: 1.3000\n",
      "Accuracy on Test Set: 0.9740\n",
      "Log Loss on Test Set: 1.3000\n"
     ]
    },
    {
     "name": "stderr",
     "output_type": "stream",
     "text": [
      "/home/zeus/miniconda3/envs/cloudspace/lib/python3.10/site-packages/sklearn/metrics/_classification.py:2922: UserWarning: The y_pred values do not sum to one. Starting from 1.5 thiswill result in an error.\n",
      "  warnings.warn(\n"
     ]
    }
   ],
   "source": [
    "## Train the model\n",
    "\n",
    "input_dim = X_train.shape[1]\n",
    "num_classes = 8\n",
    "\n",
    "model = NODEModel(input_dim=input_dim, num_classes=num_classes)\n",
    "criterion = nn.CrossEntropyLoss()  # Cross-Entropy Loss for multiclass classification\n",
    "optimizer = optim.Adam(model.parameters(), lr=0.001)\n",
    "\n",
    "# Step 4: Training loop\n",
    "num_epochs = 20\n",
    "batch_size = 32\n",
    "\n",
    "train_dataset = torch.utils.data.TensorDataset(X_train, y_train)\n",
    "train_loader = torch.utils.data.DataLoader(train_dataset, batch_size=batch_size, shuffle=True)\n",
    "\n",
    "# store log losses\n",
    "log_losses = []\n",
    "\n",
    "for epoch in range(num_epochs):\n",
    "    model.train()\n",
    "    running_loss = 0.0\n",
    "    for inputs, labels in train_loader:\n",
    "        optimizer.zero_grad()\n",
    "        outputs = model(inputs)\n",
    "        loss = criterion(outputs, labels)\n",
    "        log_losses.append(loss.item())\n",
    "        loss.backward()\n",
    "        optimizer.step()\n",
    "        running_loss += loss.item()\n",
    "\n",
    "    print(f'Epoch {epoch+1}/{num_epochs}, Loss: {running_loss/len(train_loader):.4f}')\n",
    "\n",
    "# Step 5: Evaluation on the test set\n",
    "model.eval()\n",
    "with torch.no_grad():\n",
    "    test_outputs = model(X_test)\n",
    "    test_probs = torch.nn.functional.softmax(test_outputs, dim=1)\n",
    "    test_preds = torch.argmax(test_outputs, dim=1)\n",
    "    test_accuracy = accuracy_score(y_test, test_preds)\n",
    "    test_log_loss = log_loss(y_test, test_probs)\n",
    "\n",
    "print(f'Accuracy on Test Set: {test_accuracy:.4f}')\n",
    "print(f'Log Loss on Test Set: {test_log_loss:.4f}')\n"
   ]
  },
  {
   "cell_type": "code",
   "execution_count": null,
   "metadata": {},
   "outputs": [],
   "source": []
  },
  {
   "cell_type": "code",
   "execution_count": 12,
   "metadata": {},
   "outputs": [
    {
     "name": "stdout",
     "output_type": "stream",
     "text": [
      "              precision    recall  f1-score   support\n",
      "\n",
      "           0       0.00      0.00      0.00       448\n",
      "           1       0.00      0.00      0.00       426\n",
      "           2       0.00      0.00      0.00       440\n",
      "           3       0.00      0.00      0.00       422\n",
      "           4       0.00      0.00      0.00       452\n",
      "           5       0.00      0.00      0.00       417\n",
      "           6       0.00      0.00      0.00       411\n",
      "           7       0.97      1.00      0.99    113187\n",
      "\n",
      "    accuracy                           0.97    116203\n",
      "   macro avg       0.12      0.12      0.12    116203\n",
      "weighted avg       0.95      0.97      0.96    116203\n",
      "\n"
     ]
    },
    {
     "name": "stderr",
     "output_type": "stream",
     "text": [
      "/home/zeus/miniconda3/envs/cloudspace/lib/python3.10/site-packages/sklearn/metrics/_classification.py:1471: UndefinedMetricWarning: Precision and F-score are ill-defined and being set to 0.0 in labels with no predicted samples. Use `zero_division` parameter to control this behavior.\n",
      "  _warn_prf(average, modifier, msg_start, len(result))\n",
      "/home/zeus/miniconda3/envs/cloudspace/lib/python3.10/site-packages/sklearn/metrics/_classification.py:1471: UndefinedMetricWarning: Precision and F-score are ill-defined and being set to 0.0 in labels with no predicted samples. Use `zero_division` parameter to control this behavior.\n",
      "  _warn_prf(average, modifier, msg_start, len(result))\n",
      "/home/zeus/miniconda3/envs/cloudspace/lib/python3.10/site-packages/sklearn/metrics/_classification.py:1471: UndefinedMetricWarning: Precision and F-score are ill-defined and being set to 0.0 in labels with no predicted samples. Use `zero_division` parameter to control this behavior.\n",
      "  _warn_prf(average, modifier, msg_start, len(result))\n"
     ]
    }
   ],
   "source": [
    "report = classification_report(y_test, test_preds)\n",
    "print(report)"
   ]
  },
  {
   "cell_type": "markdown",
   "metadata": {},
   "source": [
    "## Experiments Binary Classification"
   ]
  },
  {
   "cell_type": "code",
   "execution_count": 30,
   "metadata": {},
   "outputs": [],
   "source": [
    "# Paso 1:Model Architecture and Initialization Node\n",
    "class BinaryNODEModel(nn.Module):\n",
    "    def __init__(self, input_dim, hidden_dim=64, num_trees=10):\n",
    "        super(BinaryNODEModel, self).__init__()\n",
    "        self.trees = nn.ModuleList([nn.Linear(input_dim, hidden_dim) for _ in range(num_trees)])\n",
    "        self.hidden_dim = hidden_dim\n",
    "        self.output_layer = nn.Linear(hidden_dim * num_trees, 1)  # Una sola neurona para salida binaria\n",
    "        self.sigmoid = nn.Sigmoid()\n",
    "\n",
    "    def forward(self, x):\n",
    "        tree_outputs = [torch.relu(tree(x)) for tree in self.trees]\n",
    "        x = torch.cat(tree_outputs, dim=1)\n",
    "        x = self.output_layer(x)\n",
    "        return self.sigmoid(x)"
   ]
  },
  {
   "cell_type": "code",
   "execution_count": 31,
   "metadata": {},
   "outputs": [],
   "source": [
    "## Load data\n",
    "base_path = 'homeworks/data/project/'\n",
    "df = pd.read_csv(base_path + 'shrutime_encoded.csv')\n",
    "X = df.values[:, :-1]\n",
    "y = df.values[:, -1].astype(int)\n"
   ]
  },
  {
   "cell_type": "code",
   "execution_count": 32,
   "metadata": {},
   "outputs": [],
   "source": [
    "## Data Standardization\n",
    "\n",
    "scaler = StandardScaler()\n",
    "X_standardized = scaler.fit_transform(X)\n",
    "\n",
    "X = torch.FloatTensor(X_standardized)\n",
    "y = torch.FloatTensor(y).unsqueeze(1)"
   ]
  },
  {
   "cell_type": "code",
   "execution_count": 33,
   "metadata": {},
   "outputs": [],
   "source": [
    "## Split into train and validation sets\n",
    "X_train_val, X_test, y_train_val, y_test = train_test_split(X, y, test_size=0.2, random_state=42)\n",
    "# Step 2:Train and validation data  70% train y 10% validation\n",
    "X_train, X_val, y_train, y_val = train_test_split(X_train_val, y_train_val, test_size=0.125, random_state=42)"
   ]
  },
  {
   "cell_type": "code",
   "execution_count": 34,
   "metadata": {},
   "outputs": [
    {
     "name": "stdout",
     "output_type": "stream",
     "text": [
      "Log Loss: 0.3481, Accuracy: 0.8550\n"
     ]
    }
   ],
   "source": [
    "model = BinaryNODEModel(input_dim=X_train.shape[1], hidden_dim=6, num_trees=10)\n",
    "criterion = nn.BCELoss()\n",
    "optimizer = optim.Adam(model.parameters(), lr=0.001)\n",
    "    \n",
    "train_dataset = torch.utils.data.TensorDataset(X_train, y_train)\n",
    "train_loader = torch.utils.data.DataLoader(train_dataset, batch_size=32, shuffle=True)\n",
    "    \n",
    "model.train()\n",
    "for epoch in range(10):  # 10 epochs para optimización\n",
    "    running_loss = 0.0\n",
    "    for inputs, labels in train_loader:\n",
    "        optimizer.zero_grad()\n",
    "        outputs = model(inputs)\n",
    "        loss = criterion(outputs, labels)\n",
    "        loss.backward()\n",
    "        optimizer.step()\n",
    "        running_loss += loss.item()\n",
    "    \n",
    "model.eval()\n",
    "with torch.no_grad():\n",
    "    test_outputs = model(X_test)\n",
    "    log_loss_value = log_loss(y_test, test_outputs)\n",
    "    test_preds = (test_outputs >= 0.5).float()\n",
    "    accuracy = accuracy_score(y_test, test_preds)\n",
    "    print(f'Log Loss: {log_loss_value:.4f}, Accuracy: {accuracy:.4f}')"
   ]
  },
  {
   "cell_type": "code",
   "execution_count": 35,
   "metadata": {},
   "outputs": [
    {
     "name": "stdout",
     "output_type": "stream",
     "text": [
      "              precision    recall  f1-score   support\n",
      "\n",
      "         0.0       0.89      0.94      0.91      1607\n",
      "         1.0       0.68      0.50      0.58       393\n",
      "\n",
      "    accuracy                           0.85      2000\n",
      "   macro avg       0.78      0.72      0.74      2000\n",
      "weighted avg       0.84      0.85      0.85      2000\n",
      "\n"
     ]
    }
   ],
   "source": [
    "\n",
    "report = classification_report(y_test, test_preds)\n",
    "print(report)"
   ]
  },
  {
   "cell_type": "code",
   "execution_count": 17,
   "metadata": {},
   "outputs": [],
   "source": [
    "## Bayesian Optimization to seach for the best hyperparameters\n",
    "\n",
    "space = {\n",
    "    'hidden_dim': hp.choice('hidden_dim', range(1,100)),\n",
    "    'num_trees': hp.choice('num_trees', range(1,100)),\n",
    "    'output_dim': hp.choice('output_dim', [1]),\n",
    "    'learning_rate': hp.loguniform('learning_rate', -5, 0),\n",
    "    'batch_size': hp.choice('batch_size', [16,32,64,128]),\n",
    "    \n",
    "}\n"
   ]
  },
  {
   "cell_type": "code",
   "execution_count": 18,
   "metadata": {},
   "outputs": [
    {
     "name": "stdout",
     "output_type": "stream",
     "text": [
      "  0%|          | 0/50 [00:00<?, ?trial/s, best loss=?]"
     ]
    },
    {
     "name": "stderr",
     "output_type": "stream",
     "text": [
      "job exception: 'int' object is not callable\n",
      "\n"
     ]
    },
    {
     "name": "stdout",
     "output_type": "stream",
     "text": [
      "  0%|          | 0/50 [00:00<?, ?trial/s, best loss=?]"
     ]
    },
    {
     "name": "stdout",
     "output_type": "stream",
     "text": [
      "\n"
     ]
    },
    {
     "ename": "TypeError",
     "evalue": "'int' object is not callable",
     "output_type": "error",
     "traceback": [
      "\u001b[0;31m---------------------------------------------------------------------------\u001b[0m",
      "\u001b[0;31mTypeError\u001b[0m                                 Traceback (most recent call last)",
      "Cell \u001b[0;32mIn[18], line 39\u001b[0m\n\u001b[1;32m     37\u001b[0m \u001b[38;5;66;03m# Paso 5: Optimización con hyperopt\u001b[39;00m\n\u001b[1;32m     38\u001b[0m trials \u001b[38;5;241m=\u001b[39m Trials()\n\u001b[0;32m---> 39\u001b[0m best \u001b[38;5;241m=\u001b[39m \u001b[43mfmin\u001b[49m\u001b[43m(\u001b[49m\u001b[43mfn\u001b[49m\u001b[38;5;241;43m=\u001b[39;49m\u001b[43mobjective\u001b[49m\u001b[43m,\u001b[49m\n\u001b[1;32m     40\u001b[0m \u001b[43m            \u001b[49m\u001b[43mspace\u001b[49m\u001b[38;5;241;43m=\u001b[39;49m\u001b[43mspace\u001b[49m\u001b[43m,\u001b[49m\n\u001b[1;32m     41\u001b[0m \u001b[43m            \u001b[49m\u001b[43malgo\u001b[49m\u001b[38;5;241;43m=\u001b[39;49m\u001b[43mtpe\u001b[49m\u001b[38;5;241;43m.\u001b[39;49m\u001b[43msuggest\u001b[49m\u001b[43m,\u001b[49m\n\u001b[1;32m     42\u001b[0m \u001b[43m            \u001b[49m\u001b[43mmax_evals\u001b[49m\u001b[38;5;241;43m=\u001b[39;49m\u001b[38;5;241;43m50\u001b[39;49m\u001b[43m,\u001b[49m\u001b[43m  \u001b[49m\u001b[38;5;66;43;03m# Número de evaluaciones\u001b[39;49;00m\n\u001b[1;32m     43\u001b[0m \u001b[43m            \u001b[49m\u001b[43mtrials\u001b[49m\u001b[38;5;241;43m=\u001b[39;49m\u001b[43mtrials\u001b[49m\u001b[43m)\u001b[49m\n\u001b[1;32m     45\u001b[0m \u001b[38;5;28mprint\u001b[39m(\u001b[38;5;124m\"\u001b[39m\u001b[38;5;124mBest Hyperparameters:\u001b[39m\u001b[38;5;124m\"\u001b[39m, best)\n",
      "File \u001b[0;32m/home/zeus/miniconda3/envs/cloudspace/lib/python3.10/site-packages/hyperopt/fmin.py:540\u001b[0m, in \u001b[0;36mfmin\u001b[0;34m(fn, space, algo, max_evals, timeout, loss_threshold, trials, rstate, allow_trials_fmin, pass_expr_memo_ctrl, catch_eval_exceptions, verbose, return_argmin, points_to_evaluate, max_queue_len, show_progressbar, early_stop_fn, trials_save_file)\u001b[0m\n\u001b[1;32m    537\u001b[0m     fn \u001b[38;5;241m=\u001b[39m __objective_fmin_wrapper(fn)\n\u001b[1;32m    539\u001b[0m \u001b[38;5;28;01mif\u001b[39;00m allow_trials_fmin \u001b[38;5;129;01mand\u001b[39;00m \u001b[38;5;28mhasattr\u001b[39m(trials, \u001b[38;5;124m\"\u001b[39m\u001b[38;5;124mfmin\u001b[39m\u001b[38;5;124m\"\u001b[39m):\n\u001b[0;32m--> 540\u001b[0m     \u001b[38;5;28;01mreturn\u001b[39;00m \u001b[43mtrials\u001b[49m\u001b[38;5;241;43m.\u001b[39;49m\u001b[43mfmin\u001b[49m\u001b[43m(\u001b[49m\n\u001b[1;32m    541\u001b[0m \u001b[43m        \u001b[49m\u001b[43mfn\u001b[49m\u001b[43m,\u001b[49m\n\u001b[1;32m    542\u001b[0m \u001b[43m        \u001b[49m\u001b[43mspace\u001b[49m\u001b[43m,\u001b[49m\n\u001b[1;32m    543\u001b[0m \u001b[43m        \u001b[49m\u001b[43malgo\u001b[49m\u001b[38;5;241;43m=\u001b[39;49m\u001b[43malgo\u001b[49m\u001b[43m,\u001b[49m\n\u001b[1;32m    544\u001b[0m \u001b[43m        \u001b[49m\u001b[43mmax_evals\u001b[49m\u001b[38;5;241;43m=\u001b[39;49m\u001b[43mmax_evals\u001b[49m\u001b[43m,\u001b[49m\n\u001b[1;32m    545\u001b[0m \u001b[43m        \u001b[49m\u001b[43mtimeout\u001b[49m\u001b[38;5;241;43m=\u001b[39;49m\u001b[43mtimeout\u001b[49m\u001b[43m,\u001b[49m\n\u001b[1;32m    546\u001b[0m \u001b[43m        \u001b[49m\u001b[43mloss_threshold\u001b[49m\u001b[38;5;241;43m=\u001b[39;49m\u001b[43mloss_threshold\u001b[49m\u001b[43m,\u001b[49m\n\u001b[1;32m    547\u001b[0m \u001b[43m        \u001b[49m\u001b[43mmax_queue_len\u001b[49m\u001b[38;5;241;43m=\u001b[39;49m\u001b[43mmax_queue_len\u001b[49m\u001b[43m,\u001b[49m\n\u001b[1;32m    548\u001b[0m \u001b[43m        \u001b[49m\u001b[43mrstate\u001b[49m\u001b[38;5;241;43m=\u001b[39;49m\u001b[43mrstate\u001b[49m\u001b[43m,\u001b[49m\n\u001b[1;32m    549\u001b[0m \u001b[43m        \u001b[49m\u001b[43mpass_expr_memo_ctrl\u001b[49m\u001b[38;5;241;43m=\u001b[39;49m\u001b[43mpass_expr_memo_ctrl\u001b[49m\u001b[43m,\u001b[49m\n\u001b[1;32m    550\u001b[0m \u001b[43m        \u001b[49m\u001b[43mverbose\u001b[49m\u001b[38;5;241;43m=\u001b[39;49m\u001b[43mverbose\u001b[49m\u001b[43m,\u001b[49m\n\u001b[1;32m    551\u001b[0m \u001b[43m        \u001b[49m\u001b[43mcatch_eval_exceptions\u001b[49m\u001b[38;5;241;43m=\u001b[39;49m\u001b[43mcatch_eval_exceptions\u001b[49m\u001b[43m,\u001b[49m\n\u001b[1;32m    552\u001b[0m \u001b[43m        \u001b[49m\u001b[43mreturn_argmin\u001b[49m\u001b[38;5;241;43m=\u001b[39;49m\u001b[43mreturn_argmin\u001b[49m\u001b[43m,\u001b[49m\n\u001b[1;32m    553\u001b[0m \u001b[43m        \u001b[49m\u001b[43mshow_progressbar\u001b[49m\u001b[38;5;241;43m=\u001b[39;49m\u001b[43mshow_progressbar\u001b[49m\u001b[43m,\u001b[49m\n\u001b[1;32m    554\u001b[0m \u001b[43m        \u001b[49m\u001b[43mearly_stop_fn\u001b[49m\u001b[38;5;241;43m=\u001b[39;49m\u001b[43mearly_stop_fn\u001b[49m\u001b[43m,\u001b[49m\n\u001b[1;32m    555\u001b[0m \u001b[43m        \u001b[49m\u001b[43mtrials_save_file\u001b[49m\u001b[38;5;241;43m=\u001b[39;49m\u001b[43mtrials_save_file\u001b[49m\u001b[43m,\u001b[49m\n\u001b[1;32m    556\u001b[0m \u001b[43m    \u001b[49m\u001b[43m)\u001b[49m\n\u001b[1;32m    558\u001b[0m \u001b[38;5;28;01mif\u001b[39;00m trials \u001b[38;5;129;01mis\u001b[39;00m \u001b[38;5;28;01mNone\u001b[39;00m:\n\u001b[1;32m    559\u001b[0m     \u001b[38;5;28;01mif\u001b[39;00m os\u001b[38;5;241m.\u001b[39mpath\u001b[38;5;241m.\u001b[39mexists(trials_save_file):\n",
      "File \u001b[0;32m/home/zeus/miniconda3/envs/cloudspace/lib/python3.10/site-packages/hyperopt/base.py:671\u001b[0m, in \u001b[0;36mTrials.fmin\u001b[0;34m(self, fn, space, algo, max_evals, timeout, loss_threshold, max_queue_len, rstate, verbose, pass_expr_memo_ctrl, catch_eval_exceptions, return_argmin, show_progressbar, early_stop_fn, trials_save_file)\u001b[0m\n\u001b[1;32m    666\u001b[0m \u001b[38;5;66;03m# -- Stop-gap implementation!\u001b[39;00m\n\u001b[1;32m    667\u001b[0m \u001b[38;5;66;03m#    fmin should have been a Trials method in the first place\u001b[39;00m\n\u001b[1;32m    668\u001b[0m \u001b[38;5;66;03m#    but for now it's still sitting in another file.\u001b[39;00m\n\u001b[1;32m    669\u001b[0m \u001b[38;5;28;01mfrom\u001b[39;00m \u001b[38;5;21;01m.\u001b[39;00m\u001b[38;5;21;01mfmin\u001b[39;00m \u001b[38;5;28;01mimport\u001b[39;00m fmin\n\u001b[0;32m--> 671\u001b[0m \u001b[38;5;28;01mreturn\u001b[39;00m \u001b[43mfmin\u001b[49m\u001b[43m(\u001b[49m\n\u001b[1;32m    672\u001b[0m \u001b[43m    \u001b[49m\u001b[43mfn\u001b[49m\u001b[43m,\u001b[49m\n\u001b[1;32m    673\u001b[0m \u001b[43m    \u001b[49m\u001b[43mspace\u001b[49m\u001b[43m,\u001b[49m\n\u001b[1;32m    674\u001b[0m \u001b[43m    \u001b[49m\u001b[43malgo\u001b[49m\u001b[38;5;241;43m=\u001b[39;49m\u001b[43malgo\u001b[49m\u001b[43m,\u001b[49m\n\u001b[1;32m    675\u001b[0m \u001b[43m    \u001b[49m\u001b[43mmax_evals\u001b[49m\u001b[38;5;241;43m=\u001b[39;49m\u001b[43mmax_evals\u001b[49m\u001b[43m,\u001b[49m\n\u001b[1;32m    676\u001b[0m \u001b[43m    \u001b[49m\u001b[43mtimeout\u001b[49m\u001b[38;5;241;43m=\u001b[39;49m\u001b[43mtimeout\u001b[49m\u001b[43m,\u001b[49m\n\u001b[1;32m    677\u001b[0m \u001b[43m    \u001b[49m\u001b[43mloss_threshold\u001b[49m\u001b[38;5;241;43m=\u001b[39;49m\u001b[43mloss_threshold\u001b[49m\u001b[43m,\u001b[49m\n\u001b[1;32m    678\u001b[0m \u001b[43m    \u001b[49m\u001b[43mtrials\u001b[49m\u001b[38;5;241;43m=\u001b[39;49m\u001b[38;5;28;43mself\u001b[39;49m\u001b[43m,\u001b[49m\n\u001b[1;32m    679\u001b[0m \u001b[43m    \u001b[49m\u001b[43mrstate\u001b[49m\u001b[38;5;241;43m=\u001b[39;49m\u001b[43mrstate\u001b[49m\u001b[43m,\u001b[49m\n\u001b[1;32m    680\u001b[0m \u001b[43m    \u001b[49m\u001b[43mverbose\u001b[49m\u001b[38;5;241;43m=\u001b[39;49m\u001b[43mverbose\u001b[49m\u001b[43m,\u001b[49m\n\u001b[1;32m    681\u001b[0m \u001b[43m    \u001b[49m\u001b[43mmax_queue_len\u001b[49m\u001b[38;5;241;43m=\u001b[39;49m\u001b[43mmax_queue_len\u001b[49m\u001b[43m,\u001b[49m\n\u001b[1;32m    682\u001b[0m \u001b[43m    \u001b[49m\u001b[43mallow_trials_fmin\u001b[49m\u001b[38;5;241;43m=\u001b[39;49m\u001b[38;5;28;43;01mFalse\u001b[39;49;00m\u001b[43m,\u001b[49m\u001b[43m  \u001b[49m\u001b[38;5;66;43;03m# -- prevent recursion\u001b[39;49;00m\n\u001b[1;32m    683\u001b[0m \u001b[43m    \u001b[49m\u001b[43mpass_expr_memo_ctrl\u001b[49m\u001b[38;5;241;43m=\u001b[39;49m\u001b[43mpass_expr_memo_ctrl\u001b[49m\u001b[43m,\u001b[49m\n\u001b[1;32m    684\u001b[0m \u001b[43m    \u001b[49m\u001b[43mcatch_eval_exceptions\u001b[49m\u001b[38;5;241;43m=\u001b[39;49m\u001b[43mcatch_eval_exceptions\u001b[49m\u001b[43m,\u001b[49m\n\u001b[1;32m    685\u001b[0m \u001b[43m    \u001b[49m\u001b[43mreturn_argmin\u001b[49m\u001b[38;5;241;43m=\u001b[39;49m\u001b[43mreturn_argmin\u001b[49m\u001b[43m,\u001b[49m\n\u001b[1;32m    686\u001b[0m \u001b[43m    \u001b[49m\u001b[43mshow_progressbar\u001b[49m\u001b[38;5;241;43m=\u001b[39;49m\u001b[43mshow_progressbar\u001b[49m\u001b[43m,\u001b[49m\n\u001b[1;32m    687\u001b[0m \u001b[43m    \u001b[49m\u001b[43mearly_stop_fn\u001b[49m\u001b[38;5;241;43m=\u001b[39;49m\u001b[43mearly_stop_fn\u001b[49m\u001b[43m,\u001b[49m\n\u001b[1;32m    688\u001b[0m \u001b[43m    \u001b[49m\u001b[43mtrials_save_file\u001b[49m\u001b[38;5;241;43m=\u001b[39;49m\u001b[43mtrials_save_file\u001b[49m\u001b[43m,\u001b[49m\n\u001b[1;32m    689\u001b[0m \u001b[43m\u001b[49m\u001b[43m)\u001b[49m\n",
      "File \u001b[0;32m/home/zeus/miniconda3/envs/cloudspace/lib/python3.10/site-packages/hyperopt/fmin.py:586\u001b[0m, in \u001b[0;36mfmin\u001b[0;34m(fn, space, algo, max_evals, timeout, loss_threshold, trials, rstate, allow_trials_fmin, pass_expr_memo_ctrl, catch_eval_exceptions, verbose, return_argmin, points_to_evaluate, max_queue_len, show_progressbar, early_stop_fn, trials_save_file)\u001b[0m\n\u001b[1;32m    583\u001b[0m rval\u001b[38;5;241m.\u001b[39mcatch_eval_exceptions \u001b[38;5;241m=\u001b[39m catch_eval_exceptions\n\u001b[1;32m    585\u001b[0m \u001b[38;5;66;03m# next line is where the fmin is actually executed\u001b[39;00m\n\u001b[0;32m--> 586\u001b[0m \u001b[43mrval\u001b[49m\u001b[38;5;241;43m.\u001b[39;49m\u001b[43mexhaust\u001b[49m\u001b[43m(\u001b[49m\u001b[43m)\u001b[49m\n\u001b[1;32m    588\u001b[0m \u001b[38;5;28;01mif\u001b[39;00m return_argmin:\n\u001b[1;32m    589\u001b[0m     \u001b[38;5;28;01mif\u001b[39;00m \u001b[38;5;28mlen\u001b[39m(trials\u001b[38;5;241m.\u001b[39mtrials) \u001b[38;5;241m==\u001b[39m \u001b[38;5;241m0\u001b[39m:\n",
      "File \u001b[0;32m/home/zeus/miniconda3/envs/cloudspace/lib/python3.10/site-packages/hyperopt/fmin.py:364\u001b[0m, in \u001b[0;36mFMinIter.exhaust\u001b[0;34m(self)\u001b[0m\n\u001b[1;32m    362\u001b[0m \u001b[38;5;28;01mdef\u001b[39;00m \u001b[38;5;21mexhaust\u001b[39m(\u001b[38;5;28mself\u001b[39m):\n\u001b[1;32m    363\u001b[0m     n_done \u001b[38;5;241m=\u001b[39m \u001b[38;5;28mlen\u001b[39m(\u001b[38;5;28mself\u001b[39m\u001b[38;5;241m.\u001b[39mtrials)\n\u001b[0;32m--> 364\u001b[0m     \u001b[38;5;28;43mself\u001b[39;49m\u001b[38;5;241;43m.\u001b[39;49m\u001b[43mrun\u001b[49m\u001b[43m(\u001b[49m\u001b[38;5;28;43mself\u001b[39;49m\u001b[38;5;241;43m.\u001b[39;49m\u001b[43mmax_evals\u001b[49m\u001b[43m \u001b[49m\u001b[38;5;241;43m-\u001b[39;49m\u001b[43m \u001b[49m\u001b[43mn_done\u001b[49m\u001b[43m,\u001b[49m\u001b[43m \u001b[49m\u001b[43mblock_until_done\u001b[49m\u001b[38;5;241;43m=\u001b[39;49m\u001b[38;5;28;43mself\u001b[39;49m\u001b[38;5;241;43m.\u001b[39;49m\u001b[43masynchronous\u001b[49m\u001b[43m)\u001b[49m\n\u001b[1;32m    365\u001b[0m     \u001b[38;5;28mself\u001b[39m\u001b[38;5;241m.\u001b[39mtrials\u001b[38;5;241m.\u001b[39mrefresh()\n\u001b[1;32m    366\u001b[0m     \u001b[38;5;28;01mreturn\u001b[39;00m \u001b[38;5;28mself\u001b[39m\n",
      "File \u001b[0;32m/home/zeus/miniconda3/envs/cloudspace/lib/python3.10/site-packages/hyperopt/fmin.py:300\u001b[0m, in \u001b[0;36mFMinIter.run\u001b[0;34m(self, N, block_until_done)\u001b[0m\n\u001b[1;32m    297\u001b[0m     time\u001b[38;5;241m.\u001b[39msleep(\u001b[38;5;28mself\u001b[39m\u001b[38;5;241m.\u001b[39mpoll_interval_secs)\n\u001b[1;32m    298\u001b[0m \u001b[38;5;28;01melse\u001b[39;00m:\n\u001b[1;32m    299\u001b[0m     \u001b[38;5;66;03m# -- loop over trials and do the jobs directly\u001b[39;00m\n\u001b[0;32m--> 300\u001b[0m     \u001b[38;5;28;43mself\u001b[39;49m\u001b[38;5;241;43m.\u001b[39;49m\u001b[43mserial_evaluate\u001b[49m\u001b[43m(\u001b[49m\u001b[43m)\u001b[49m\n\u001b[1;32m    302\u001b[0m \u001b[38;5;28mself\u001b[39m\u001b[38;5;241m.\u001b[39mtrials\u001b[38;5;241m.\u001b[39mrefresh()\n\u001b[1;32m    303\u001b[0m \u001b[38;5;28;01mif\u001b[39;00m \u001b[38;5;28mself\u001b[39m\u001b[38;5;241m.\u001b[39mtrials_save_file \u001b[38;5;241m!=\u001b[39m \u001b[38;5;124m\"\u001b[39m\u001b[38;5;124m\"\u001b[39m:\n",
      "File \u001b[0;32m/home/zeus/miniconda3/envs/cloudspace/lib/python3.10/site-packages/hyperopt/fmin.py:178\u001b[0m, in \u001b[0;36mFMinIter.serial_evaluate\u001b[0;34m(self, N)\u001b[0m\n\u001b[1;32m    176\u001b[0m ctrl \u001b[38;5;241m=\u001b[39m base\u001b[38;5;241m.\u001b[39mCtrl(\u001b[38;5;28mself\u001b[39m\u001b[38;5;241m.\u001b[39mtrials, current_trial\u001b[38;5;241m=\u001b[39mtrial)\n\u001b[1;32m    177\u001b[0m \u001b[38;5;28;01mtry\u001b[39;00m:\n\u001b[0;32m--> 178\u001b[0m     result \u001b[38;5;241m=\u001b[39m \u001b[38;5;28;43mself\u001b[39;49m\u001b[38;5;241;43m.\u001b[39;49m\u001b[43mdomain\u001b[49m\u001b[38;5;241;43m.\u001b[39;49m\u001b[43mevaluate\u001b[49m\u001b[43m(\u001b[49m\u001b[43mspec\u001b[49m\u001b[43m,\u001b[49m\u001b[43m \u001b[49m\u001b[43mctrl\u001b[49m\u001b[43m)\u001b[49m\n\u001b[1;32m    179\u001b[0m \u001b[38;5;28;01mexcept\u001b[39;00m \u001b[38;5;167;01mException\u001b[39;00m \u001b[38;5;28;01mas\u001b[39;00m e:\n\u001b[1;32m    180\u001b[0m     logger\u001b[38;5;241m.\u001b[39merror(\u001b[38;5;124m\"\u001b[39m\u001b[38;5;124mjob exception: \u001b[39m\u001b[38;5;132;01m%s\u001b[39;00m\u001b[38;5;124m\"\u001b[39m \u001b[38;5;241m%\u001b[39m \u001b[38;5;28mstr\u001b[39m(e))\n",
      "File \u001b[0;32m/home/zeus/miniconda3/envs/cloudspace/lib/python3.10/site-packages/hyperopt/base.py:892\u001b[0m, in \u001b[0;36mDomain.evaluate\u001b[0;34m(self, config, ctrl, attach_attachments)\u001b[0m\n\u001b[1;32m    883\u001b[0m \u001b[38;5;28;01melse\u001b[39;00m:\n\u001b[1;32m    884\u001b[0m     \u001b[38;5;66;03m# -- the \"work\" of evaluating `config` can be written\u001b[39;00m\n\u001b[1;32m    885\u001b[0m     \u001b[38;5;66;03m#    either into the pyll part (self.expr)\u001b[39;00m\n\u001b[1;32m    886\u001b[0m     \u001b[38;5;66;03m#    or the normal Python part (self.fn)\u001b[39;00m\n\u001b[1;32m    887\u001b[0m     pyll_rval \u001b[38;5;241m=\u001b[39m pyll\u001b[38;5;241m.\u001b[39mrec_eval(\n\u001b[1;32m    888\u001b[0m         \u001b[38;5;28mself\u001b[39m\u001b[38;5;241m.\u001b[39mexpr,\n\u001b[1;32m    889\u001b[0m         memo\u001b[38;5;241m=\u001b[39mmemo,\n\u001b[1;32m    890\u001b[0m         print_node_on_error\u001b[38;5;241m=\u001b[39m\u001b[38;5;28mself\u001b[39m\u001b[38;5;241m.\u001b[39mrec_eval_print_node_on_error,\n\u001b[1;32m    891\u001b[0m     )\n\u001b[0;32m--> 892\u001b[0m     rval \u001b[38;5;241m=\u001b[39m \u001b[38;5;28;43mself\u001b[39;49m\u001b[38;5;241;43m.\u001b[39;49m\u001b[43mfn\u001b[49m\u001b[43m(\u001b[49m\u001b[43mpyll_rval\u001b[49m\u001b[43m)\u001b[49m\n\u001b[1;32m    894\u001b[0m \u001b[38;5;28;01mif\u001b[39;00m \u001b[38;5;28misinstance\u001b[39m(rval, (\u001b[38;5;28mfloat\u001b[39m, \u001b[38;5;28mint\u001b[39m, np\u001b[38;5;241m.\u001b[39mnumber)):\n\u001b[1;32m    895\u001b[0m     dict_rval \u001b[38;5;241m=\u001b[39m {\u001b[38;5;124m\"\u001b[39m\u001b[38;5;124mloss\u001b[39m\u001b[38;5;124m\"\u001b[39m: \u001b[38;5;28mfloat\u001b[39m(rval), \u001b[38;5;124m\"\u001b[39m\u001b[38;5;124mstatus\u001b[39m\u001b[38;5;124m\"\u001b[39m: STATUS_OK}\n",
      "Cell \u001b[0;32mIn[18], line 14\u001b[0m, in \u001b[0;36mobjective\u001b[0;34m(params)\u001b[0m\n\u001b[1;32m     11\u001b[0m criterion \u001b[38;5;241m=\u001b[39m nn\u001b[38;5;241m.\u001b[39mBCELoss()\n\u001b[1;32m     12\u001b[0m optimizer \u001b[38;5;241m=\u001b[39m optim\u001b[38;5;241m.\u001b[39mAdam(model\u001b[38;5;241m.\u001b[39mparameters(), lr\u001b[38;5;241m=\u001b[39mlearning_rate)\n\u001b[0;32m---> 14\u001b[0m train_dataset \u001b[38;5;241m=\u001b[39m \u001b[43mtorch\u001b[49m\u001b[38;5;241;43m.\u001b[39;49m\u001b[43mutils\u001b[49m\u001b[38;5;241;43m.\u001b[39;49m\u001b[43mdata\u001b[49m\u001b[38;5;241;43m.\u001b[39;49m\u001b[43mTensorDataset\u001b[49m\u001b[43m(\u001b[49m\u001b[43mX_train\u001b[49m\u001b[43m,\u001b[49m\u001b[43m \u001b[49m\u001b[43my_train\u001b[49m\u001b[43m)\u001b[49m\n\u001b[1;32m     15\u001b[0m train_loader \u001b[38;5;241m=\u001b[39m torch\u001b[38;5;241m.\u001b[39mutils\u001b[38;5;241m.\u001b[39mdata\u001b[38;5;241m.\u001b[39mDataLoader(train_dataset, batch_size\u001b[38;5;241m=\u001b[39mbatch_size, shuffle\u001b[38;5;241m=\u001b[39m\u001b[38;5;28;01mTrue\u001b[39;00m)\n\u001b[1;32m     17\u001b[0m model\u001b[38;5;241m.\u001b[39mtrain()\n",
      "File \u001b[0;32m/home/zeus/miniconda3/envs/cloudspace/lib/python3.10/site-packages/torch/utils/data/dataset.py:204\u001b[0m, in \u001b[0;36mTensorDataset.__init__\u001b[0;34m(self, *tensors)\u001b[0m\n\u001b[1;32m    203\u001b[0m \u001b[38;5;28;01mdef\u001b[39;00m \u001b[38;5;21m__init__\u001b[39m(\u001b[38;5;28mself\u001b[39m, \u001b[38;5;241m*\u001b[39mtensors: Tensor) \u001b[38;5;241m-\u001b[39m\u001b[38;5;241m>\u001b[39m \u001b[38;5;28;01mNone\u001b[39;00m:\n\u001b[0;32m--> 204\u001b[0m     \u001b[38;5;28;01massert\u001b[39;00m \u001b[38;5;28;43mall\u001b[39;49m\u001b[43m(\u001b[49m\u001b[43mtensors\u001b[49m\u001b[43m[\u001b[49m\u001b[38;5;241;43m0\u001b[39;49m\u001b[43m]\u001b[49m\u001b[38;5;241;43m.\u001b[39;49m\u001b[43msize\u001b[49m\u001b[43m(\u001b[49m\u001b[38;5;241;43m0\u001b[39;49m\u001b[43m)\u001b[49m\u001b[43m \u001b[49m\u001b[38;5;241;43m==\u001b[39;49m\u001b[43m \u001b[49m\u001b[43mtensor\u001b[49m\u001b[38;5;241;43m.\u001b[39;49m\u001b[43msize\u001b[49m\u001b[43m(\u001b[49m\u001b[38;5;241;43m0\u001b[39;49m\u001b[43m)\u001b[49m\u001b[43m \u001b[49m\u001b[38;5;28;43;01mfor\u001b[39;49;00m\u001b[43m \u001b[49m\u001b[43mtensor\u001b[49m\u001b[43m \u001b[49m\u001b[38;5;129;43;01min\u001b[39;49;00m\u001b[43m \u001b[49m\u001b[43mtensors\u001b[49m\u001b[43m)\u001b[49m, \u001b[38;5;124m\"\u001b[39m\u001b[38;5;124mSize mismatch between tensors\u001b[39m\u001b[38;5;124m\"\u001b[39m\n\u001b[1;32m    205\u001b[0m     \u001b[38;5;28mself\u001b[39m\u001b[38;5;241m.\u001b[39mtensors \u001b[38;5;241m=\u001b[39m tensors\n",
      "File \u001b[0;32m/home/zeus/miniconda3/envs/cloudspace/lib/python3.10/site-packages/torch/utils/data/dataset.py:204\u001b[0m, in \u001b[0;36m<genexpr>\u001b[0;34m(.0)\u001b[0m\n\u001b[1;32m    203\u001b[0m \u001b[38;5;28;01mdef\u001b[39;00m \u001b[38;5;21m__init__\u001b[39m(\u001b[38;5;28mself\u001b[39m, \u001b[38;5;241m*\u001b[39mtensors: Tensor) \u001b[38;5;241m-\u001b[39m\u001b[38;5;241m>\u001b[39m \u001b[38;5;28;01mNone\u001b[39;00m:\n\u001b[0;32m--> 204\u001b[0m     \u001b[38;5;28;01massert\u001b[39;00m \u001b[38;5;28mall\u001b[39m(\u001b[43mtensors\u001b[49m\u001b[43m[\u001b[49m\u001b[38;5;241;43m0\u001b[39;49m\u001b[43m]\u001b[49m\u001b[38;5;241;43m.\u001b[39;49m\u001b[43msize\u001b[49m\u001b[43m(\u001b[49m\u001b[38;5;241;43m0\u001b[39;49m\u001b[43m)\u001b[49m \u001b[38;5;241m==\u001b[39m tensor\u001b[38;5;241m.\u001b[39msize(\u001b[38;5;241m0\u001b[39m) \u001b[38;5;28;01mfor\u001b[39;00m tensor \u001b[38;5;129;01min\u001b[39;00m tensors), \u001b[38;5;124m\"\u001b[39m\u001b[38;5;124mSize mismatch between tensors\u001b[39m\u001b[38;5;124m\"\u001b[39m\n\u001b[1;32m    205\u001b[0m     \u001b[38;5;28mself\u001b[39m\u001b[38;5;241m.\u001b[39mtensors \u001b[38;5;241m=\u001b[39m tensors\n",
      "\u001b[0;31mTypeError\u001b[0m: 'int' object is not callable"
     ]
    }
   ],
   "source": [
    "## Objective function to optimization\n",
    "def objective(params):\n",
    "    hidden_dim = int(params['hidden_dim'])\n",
    "    num_trees = int(params['num_trees'])\n",
    "    output_dim = int(params['output_dim'])\n",
    "    learning_rate = params['learning_rate']\n",
    "    batch_size = int(params['batch_size'])\n",
    "    \n",
    "    \n",
    "    model = BinaryNODEModel(input_dim=X_train.shape[1], hidden_dim=hidden_dim, num_trees=num_trees)\n",
    "    criterion = nn.BCELoss()\n",
    "    optimizer = optim.Adam(model.parameters(), lr=learning_rate)\n",
    "    \n",
    "    train_dataset = torch.utils.data.TensorDataset(X_train, y_train)\n",
    "    train_loader = torch.utils.data.DataLoader(train_dataset, batch_size=batch_size, shuffle=True)\n",
    "    \n",
    "    model.train()\n",
    "    for epoch in range(10):  # 10 epochs para optimización\n",
    "        running_loss = 0.0\n",
    "        for inputs, labels in train_loader:\n",
    "            optimizer.zero_grad()\n",
    "            outputs = model(inputs)\n",
    "            loss = criterion(outputs, labels)\n",
    "            loss.backward()\n",
    "            optimizer.step()\n",
    "            running_loss += loss.item()\n",
    "    \n",
    "    model.eval()\n",
    "    with torch.no_grad():\n",
    "        test_outputs = model(X_test)\n",
    "        log_loss_value = log_loss(y_test, test_outputs)\n",
    "        test_preds = (test_outputs >= 0.5).float()\n",
    "        accuracy = accuracy_score(y_test, test_preds)\n",
    "    \n",
    "    return {'accuracy': accuracy,'loss':log_loss_value, 'status': STATUS_OK}\n",
    "\n",
    "# Paso 5: Optimización con hyperopt\n",
    "trials = Trials()\n",
    "best = fmin(fn=objective,\n",
    "            space=space,\n",
    "            algo=tpe.suggest,\n",
    "            max_evals=50,  # Número de evaluaciones\n",
    "            trials=trials)\n",
    "\n",
    "print(\"Best Hyperparameters:\", best)"
   ]
  },
  {
   "cell_type": "code",
   "execution_count": 82,
   "metadata": {},
   "outputs": [
    {
     "data": {
      "image/png": "[encoded data removed]",
      "text/plain": [
       "<Figure size 640x480 with 1 Axes>"
      ]
     },
     "metadata": {},
     "output_type": "display_data"
    }
   ],
   "source": [
    "## Visualization of the loss and accuracy\n",
    "loss_values = [result['accuracy'] for result in trials.results]\n",
    "plt.plot(loss_values)\n",
    "plt.xlabel('Iteration')\n",
    "plt.ylabel('Log Loss')\n",
    "plt.title('Convergence of Log Loss')\n",
    "plt.show()"
   ]
  },
  {
   "cell_type": "code",
   "execution_count": 77,
   "metadata": {},
   "outputs": [
    {
     "data": {
      "text/plain": [
       "[{'accuracy': -0.856, 'loss': 0.3856357004169644, 'status': 'ok'},\n",
       " {'accuracy': -0.867, 'loss': 0.3413570601778917, 'status': 'ok'},\n",
       " {'accuracy': -0.857, 'loss': 0.3631687423969487, 'status': 'ok'},\n",
       " {'accuracy': -0.8035, 'loss': 7.08257789096152, 'status': 'ok'},\n",
       " {'accuracy': -0.8035, 'loss': 7.08257789096152, 'status': 'ok'},\n",
       " {'accuracy': -0.8035, 'loss': 7.08257789096152, 'status': 'ok'},\n",
       " {'accuracy': -0.861, 'loss': 0.3528270399524896, 'status': 'ok'},\n",
       " {'accuracy': -0.8615, 'loss': 0.33859699370041774, 'status': 'ok'},\n",
       " {'accuracy': -0.857, 'loss': 0.36692609699157847, 'status': 'ok'},\n",
       " {'accuracy': -0.8035, 'loss': 7.08257789096152, 'status': 'ok'},\n",
       " {'accuracy': -0.8625, 'loss': 0.3417723591439652, 'status': 'ok'},\n",
       " {'accuracy': -0.8035, 'loss': 7.08257789096152, 'status': 'ok'},\n",
       " {'accuracy': -0.8035, 'loss': 7.08257789096152, 'status': 'ok'},\n",
       " {'accuracy': -0.8035, 'loss': 7.08257789096152, 'status': 'ok'},\n",
       " {'accuracy': -0.8035, 'loss': 7.08257789096152, 'status': 'ok'},\n",
       " {'accuracy': -0.853, 'loss': 0.3827389377637019, 'status': 'ok'},\n",
       " {'accuracy': -0.8035, 'loss': 7.08257789096152, 'status': 'ok'},\n",
       " {'accuracy': -0.8035, 'loss': 7.08257789096152, 'status': 'ok'},\n",
       " {'accuracy': -0.844, 'loss': 0.3801544836870504, 'status': 'ok'},\n",
       " {'accuracy': -0.852, 'loss': 0.37272007654308004, 'status': 'ok'},\n",
       " {'accuracy': -0.857, 'loss': 0.3406580885033932, 'status': 'ok'},\n",
       " {'accuracy': -0.8575, 'loss': 0.34695684954053396, 'status': 'ok'},\n",
       " {'accuracy': -0.857, 'loss': 0.3558173282718107, 'status': 'ok'},\n",
       " {'accuracy': -0.8345, 'loss': 0.4459168495498076, 'status': 'ok'},\n",
       " {'accuracy': -0.86, 'loss': 0.3434627652387194, 'status': 'ok'},\n",
       " {'accuracy': -0.856, 'loss': 0.34696642867865535, 'status': 'ok'},\n",
       " {'accuracy': -0.8485, 'loss': 0.36378025569664224, 'status': 'ok'},\n",
       " {'accuracy': -0.86, 'loss': 0.3416659541777657, 'status': 'ok'},\n",
       " {'accuracy': -0.8035, 'loss': 7.08257789096152, 'status': 'ok'},\n",
       " {'accuracy': -0.858, 'loss': 0.360475552825911, 'status': 'ok'},\n",
       " {'accuracy': -0.86, 'loss': 0.3586649530279168, 'status': 'ok'},\n",
       " {'accuracy': -0.859, 'loss': 0.3375042114599044, 'status': 'ok'},\n",
       " {'accuracy': -0.8615, 'loss': 0.34432435558338476, 'status': 'ok'},\n",
       " {'accuracy': -0.854, 'loss': 0.351703549618516, 'status': 'ok'},\n",
       " {'accuracy': -0.8515, 'loss': 0.3635974582045659, 'status': 'ok'},\n",
       " {'accuracy': -0.8595, 'loss': 0.3541156021241945, 'status': 'ok'},\n",
       " {'accuracy': -0.8605, 'loss': 0.3439860339757299, 'status': 'ok'},\n",
       " {'accuracy': -0.8475, 'loss': 0.36012168331852795, 'status': 'ok'},\n",
       " {'accuracy': -0.8555, 'loss': 0.3662218458502554, 'status': 'ok'},\n",
       " {'accuracy': -0.8035, 'loss': 7.08257789096152, 'status': 'ok'},\n",
       " {'accuracy': -0.8035, 'loss': 7.08257789096152, 'status': 'ok'},\n",
       " {'accuracy': -0.8035, 'loss': 7.08257789096152, 'status': 'ok'},\n",
       " {'accuracy': -0.861, 'loss': 0.34010132831914575, 'status': 'ok'},\n",
       " {'accuracy': -0.856, 'loss': 0.36415709974043897, 'status': 'ok'},\n",
       " {'accuracy': -0.8035, 'loss': 7.08257789096152, 'status': 'ok'},\n",
       " {'accuracy': -0.8035, 'loss': 7.08257789096152, 'status': 'ok'},\n",
       " {'accuracy': -0.862, 'loss': 0.3415795374975573, 'status': 'ok'},\n",
       " {'accuracy': -0.865, 'loss': 0.33630187566036784, 'status': 'ok'},\n",
       " {'accuracy': -0.8575, 'loss': 0.3411897607154294, 'status': 'ok'},\n",
       " {'accuracy': -0.8515, 'loss': 0.3600352617992421, 'status': 'ok'}]"
      ]
     },
     "execution_count": 77,
     "metadata": {},
     "output_type": "execute_result"
    }
   ],
   "source": [
    "trials.results"
   ]
  },
  {
   "cell_type": "code",
   "execution_count": 60,
   "metadata": {},
   "outputs": [
    {
     "name": "stdout",
     "output_type": "stream",
     "text": [
      "[{'accuracy': -0.8035, 'loss': 7.08257789096152, 'status': 'ok'}, {'accuracy': -0.8035, 'loss': 7.08257789096152, 'status': 'ok'}, {'accuracy': -0.859, 'loss': 0.35421306650574286, 'status': 'ok'}, {'accuracy': -0.861, 'loss': 0.3496942024290504, 'status': 'ok'}, {'accuracy': -0.8035, 'loss': 7.08257789096152, 'status': 'ok'}, {'accuracy': -0.8535, 'loss': 0.3649782237644119, 'status': 'ok'}, {'accuracy': -0.851, 'loss': 0.3628934043319686, 'status': 'ok'}, {'accuracy': -0.867, 'loss': 0.3439170453087051, 'status': 'ok'}, {'accuracy': -0.8605, 'loss': 0.36252188035667987, 'status': 'ok'}, {'accuracy': -0.8625, 'loss': 0.34639938652604096, 'status': 'ok'}, {'accuracy': -0.854, 'loss': 0.34560904231500095, 'status': 'ok'}, {'accuracy': -0.8525, 'loss': 0.3549265724052794, 'status': 'ok'}, {'accuracy': -0.855, 'loss': 0.36822862292879627, 'status': 'ok'}, {'accuracy': -0.8035, 'loss': 7.08257789096152, 'status': 'ok'}, {'accuracy': -0.862, 'loss': 0.3429148362624013, 'status': 'ok'}, {'accuracy': -0.8035, 'loss': 7.08257789096152, 'status': 'ok'}, {'accuracy': -0.861, 'loss': 0.3444175510645321, 'status': 'ok'}, {'accuracy': -0.8535, 'loss': 0.4032301065276668, 'status': 'ok'}, {'accuracy': -0.858, 'loss': 0.34944433954210574, 'status': 'ok'}, {'accuracy': -0.854, 'loss': 0.6197542069922156, 'status': 'ok'}, {'accuracy': -0.8655, 'loss': 0.3427805476533884, 'status': 'ok'}, {'accuracy': -0.863, 'loss': 0.3564609686633229, 'status': 'ok'}, {'accuracy': -0.8615, 'loss': 0.34336794056103725, 'status': 'ok'}, {'accuracy': -0.8035, 'loss': 7.08257789096152, 'status': 'ok'}, {'accuracy': -0.8575, 'loss': 0.3500233329978249, 'status': 'ok'}, {'accuracy': -0.863, 'loss': 0.3430181582580289, 'status': 'ok'}, {'accuracy': -0.861, 'loss': 0.33978866529058827, 'status': 'ok'}, {'accuracy': -0.8035, 'loss': 7.08257789096152, 'status': 'ok'}, {'accuracy': -0.8035, 'loss': 7.08257789096152, 'status': 'ok'}, {'accuracy': -0.8345, 'loss': 0.3866136904876645, 'status': 'ok'}, {'accuracy': -0.8035, 'loss': 7.08257789096152, 'status': 'ok'}, {'accuracy': -0.8485, 'loss': 0.3649899382306414, 'status': 'ok'}, {'accuracy': -0.8375, 'loss': 0.39443397769154304, 'status': 'ok'}, {'accuracy': -0.8035, 'loss': 7.08257789096152, 'status': 'ok'}, {'accuracy': -0.8035, 'loss': 7.08257789096152, 'status': 'ok'}, {'accuracy': -0.847, 'loss': 0.36738795414986686, 'status': 'ok'}, {'accuracy': -0.8035, 'loss': 7.08257789096152, 'status': 'ok'}, {'accuracy': -0.8035, 'loss': 7.08257789096152, 'status': 'ok'}, {'accuracy': -0.852, 'loss': 0.3538107704289548, 'status': 'ok'}, {'accuracy': -0.8035, 'loss': 7.08257789096152, 'status': 'ok'}, {'accuracy': -0.8605, 'loss': 0.3464685736101989, 'status': 'ok'}, {'accuracy': -0.8585, 'loss': 0.36097755758947314, 'status': 'ok'}, {'accuracy': -0.863, 'loss': 0.3400935118597398, 'status': 'ok'}, {'accuracy': -0.849, 'loss': 0.35182402692964704, 'status': 'ok'}, {'accuracy': -0.8035, 'loss': 7.08257789096152, 'status': 'ok'}, {'accuracy': -0.8035, 'loss': 7.08257789096152, 'status': 'ok'}, {'accuracy': -0.8655, 'loss': 0.34513868032982475, 'status': 'ok'}, {'accuracy': -0.8035, 'loss': 7.08257789096152, 'status': 'ok'}, {'accuracy': -0.8595, 'loss': 0.35123157333983046, 'status': 'ok'}, {'accuracy': -0.8505, 'loss': 0.3670588725081908, 'status': 'ok'}]\n"
     ]
    }
   ],
   "source": [
    "print(trials.results)"
   ]
  },
  {
   "cell_type": "code",
   "execution_count": 79,
   "metadata": {},
   "outputs": [
    {
     "name": "stdout",
     "output_type": "stream",
     "text": [
      "Epoch 1/20, Loss: 0.4718\n",
      "Epoch 2/20, Loss: 0.4252\n",
      "Epoch 3/20, Loss: 0.4063\n",
      "Epoch 4/20, Loss: 0.3964\n",
      "Epoch 5/20, Loss: 0.3790\n",
      "Epoch 6/20, Loss: 0.3738\n",
      "Epoch 7/20, Loss: 0.3671\n",
      "Epoch 8/20, Loss: 0.3670\n",
      "Epoch 9/20, Loss: 0.3681\n",
      "Epoch 10/20, Loss: 0.3640\n",
      "Epoch 11/20, Loss: 0.3583\n",
      "Epoch 12/20, Loss: 0.3600\n",
      "Epoch 13/20, Loss: 0.3581\n",
      "Epoch 14/20, Loss: 0.3546\n",
      "Epoch 15/20, Loss: 0.3537\n",
      "Epoch 16/20, Loss: 0.3527\n",
      "Epoch 17/20, Loss: 0.3487\n",
      "Epoch 18/20, Loss: 0.3504\n",
      "Epoch 19/20, Loss: 0.3485\n",
      "Epoch 20/20, Loss: 0.3488\n"
     ]
    }
   ],
   "source": [
    "# Traininig the model with the best hyperparameters\n",
    "input_dim = X_train.shape[1]\n",
    "hidden_dim = int(best['hidden_dim'])\n",
    "num_trees = int( best['num_trees'])\n",
    "batch_size = int(best['batch_size'])\n",
    "model = BinaryNODEModel(input_dim=input_dim,hidden_dim=hidden_dim, num_trees=num_trees)\n",
    "criterion = nn.BCELoss()  # Binary Cross-Entropy Loss\n",
    "optimizer = optim.Adam(model.parameters(), lr=best['learning_rate'])\n",
    "\n",
    "num_epochs = 20\n",
    "#batch_size = 32\n",
    "\n",
    "train_dataset = torch.utils.data.TensorDataset(X_train, y_train)\n",
    "train_loader = torch.utils.data.DataLoader(train_dataset, batch_size=batch_size, shuffle=True)\n",
    "\n",
    "for epoch in range(num_epochs):\n",
    "    model.train()\n",
    "    running_loss = 0.0\n",
    "    for inputs, labels in train_loader:\n",
    "        \n",
    "        optimizer.zero_grad()\n",
    "        outputs = model(inputs)\n",
    "        loss = criterion(outputs, labels)\n",
    "        loss.backward()\n",
    "        optimizer.step()\n",
    "        running_loss += loss.item()\n",
    "\n",
    "    print(f'Epoch {epoch+1}/{num_epochs}, Loss: {running_loss/len(train_loader):.4f}')\n",
    "\n",
    "\n"
   ]
  },
  {
   "cell_type": "code",
   "execution_count": 81,
   "metadata": {},
   "outputs": [
    {
     "name": "stdout",
     "output_type": "stream",
     "text": [
      "Accuracy on Test Set: 0.8575\n",
      "Log Loss on Test: 5.1362\n"
     ]
    }
   ],
   "source": [
    "\n",
    "# Paso 5: Evaluación en el conjunto de prueba\n",
    "model.eval()\n",
    "with torch.no_grad():\n",
    "    test_outputs = model(X_test)\n",
    "    test_preds = torch.sigmoid(test_outputs)\n",
    "\n",
    "    test_preds = (test_outputs >= 0.5).float()  # Aplicar umbral para obtener predicciones binarias\n",
    "    loss = log_loss(y_test, test_preds)\n",
    "    test_accuracy = accuracy_score(y_test, test_preds)\n",
    "    print(f'Accuracy on Test Set: {test_accuracy:.4f}')\n",
    "    print(f'Log Loss on Test: {loss:.4f}')"
   ]
  }
 ],
 "metadata": {
  "language_info": {
   "name": "python"
  }
 },
 "nbformat": 4,
 "nbformat_minor": 2
}
