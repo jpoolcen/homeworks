{
 "cells": [
  {
   "cell_type": "markdown",
   "metadata": {},
   "source": [
    "# NODE \n",
    "\n",
    "Neural Oblivious Decision Ensembles\n",
    "\n",
    "differentiable oblivious desicion trees (ODT) that are trained end-to-end by backpropagation.\n",
    "\n",
    "https://paperswithcode.com/method/node\n"
   ]
  },
  {
   "cell_type": "markdown",
   "metadata": {},
   "source": [
    "## Node Multiclass Classification\n"
   ]
  },
  {
   "cell_type": "code",
   "execution_count": 54,
   "metadata": {},
   "outputs": [],
   "source": [
    "## Librerias\n",
    "import torch\n",
    "import torch.nn as nn\n",
    "import torch.optim as optim\n",
    "from sklearn.model_selection import train_test_split\n",
    "from sklearn.datasets import make_classification\n",
    "from sklearn.metrics import accuracy_score\n",
    "from sklearn.preprocessing import LabelEncoder\n",
    "from sklearn.metrics import log_loss\n",
    "from sklearn.metrics import classification_report\n",
    "from sklearn.metrics import confusion_matrix\n",
    "from sklearn.preprocessing import StandardScaler, OneHotEncoder\n",
    "\n",
    "## Optimization\n",
    "from hyperopt import hp, fmin, tpe, Trials, STATUS_OK\n",
    "\n",
    "## visualization\n",
    "import seaborn as sns\n",
    "import matplotlib.pyplot as plt\n",
    "\n",
    "## \n",
    "import pandas as pd\n",
    "import numpy as np"
   ]
  },
  {
   "cell_type": "markdown",
   "metadata": {},
   "source": [
    "## Class Node Multiclass Classification"
   ]
  },
  {
   "cell_type": "code",
   "execution_count": 4,
   "metadata": {},
   "outputs": [],
   "source": [
    "class NODEModel(nn.Module):\n",
    "    def __init__(self, input_dim, num_classes, hidden_dim=64, num_trees=10):\n",
    "        super(NODEModel, self).__init__()\n",
    "        self.trees = nn.ModuleList([nn.Linear(input_dim, hidden_dim) for _ in range(num_trees)])\n",
    "        self.hidden_dim = hidden_dim\n",
    "        self.num_classes = num_classes\n",
    "        self.output_layer = nn.Linear(hidden_dim * num_trees, num_classes)\n",
    "        self.softmax = nn.Softmax(dim=1)\n",
    "\n",
    "    def forward(self, x):\n",
    "        # Pass through each tree and concatenate outputs\n",
    "        tree_outputs = [torch.relu(tree(x)) for tree in self.trees]\n",
    "        x = torch.cat(tree_outputs, dim=1)\n",
    "        # Final multiclass prediction\n",
    "        x = self.output_layer(x)\n",
    "        return self.softmax(x)\n"
   ]
  },
  {
   "cell_type": "markdown",
   "metadata": {},
   "source": [
    "### Experiment Gesture Phase"
   ]
  },
  {
   "cell_type": "code",
   "execution_count": 31,
   "metadata": {},
   "outputs": [],
   "source": [
    "## Load data\n",
    "base_path = 'homeworks/data/project/gesture_phase/'\n",
    "df = pd.read_csv(base_path + 'gesture_phase.csv')"
   ]
  },
  {
   "cell_type": "code",
   "execution_count": 41,
   "metadata": {},
   "outputs": [
    {
     "data": {
      "text/plain": [
       "Index(['1', '2', '3', '4', '5', '6', '7', '8', '9', '10', '11', '12', '13',\n",
       "       '14', '15', '16', '17', '18', '19', '20', '21', '22', '23', '24', '25',\n",
       "       '26', '27', '28', '29', '30', '31', '32', 'Phase'],\n",
       "      dtype='object')"
      ]
     },
     "execution_count": 41,
     "metadata": {},
     "output_type": "execute_result"
    }
   ],
   "source": [
    "df.columns"
   ]
  },
  {
   "cell_type": "code",
   "execution_count": 50,
   "metadata": {},
   "outputs": [
    {
     "name": "stdout",
     "output_type": "stream",
     "text": [
      "Labels: tensor([2, 2, 4, 3, 0, 2, 3, 1, 0, 0, 2, 2, 0, 2, 1, 5, 4, 4, 5, 1, 2, 3, 5, 0,\n",
      "        4, 4, 5, 0, 3, 0, 3, 0])\n"
     ]
    }
   ],
   "source": [
    "## Preprocessing\n",
    "X = df.drop('Phase',axis=1).values\n",
    "y = df['Phase'].values\n",
    "le = LabelEncoder()\n",
    "# Fit and transform the data to the label encoder\n",
    "y = le.fit_transform(y_target)\n",
    "print('Labels:', labels)\n",
    "#X = df.values[:, :-1]\n",
    "#y_target = df.values[:, -1]\n",
    "labels = np.unique(y_target)\n",
    "\n",
    "# Initialize the LabelEncoder\n",
    "\n",
    "# Convertir a tensores de PyTorch\n",
    "X = torch.FloatTensor(X)\n",
    "y = torch.LongTensor(y)\n"
   ]
  },
  {
   "cell_type": "code",
   "execution_count": 51,
   "metadata": {},
   "outputs": [],
   "source": [
    "\n",
    "## Split into train and validation sets\n",
    "X_train_val, X_test, y_train_val, y_test = train_test_split(X, y, test_size=0.2, random_state=42)\n",
    "# Step 2:Train and validation data  70% train y 10% validation\n",
    "X_train, X_val, y_train, y_val = train_test_split(X_train_val, y_train_val, test_size=0.125, random_state=42)"
   ]
  },
  {
   "cell_type": "code",
   "execution_count": 59,
   "metadata": {},
   "outputs": [
    {
     "name": "stdout",
     "output_type": "stream",
     "text": [
      "Epoch 1/20, Loss: 1.5516\n",
      "Epoch 2/20, Loss: 1.5116\n",
      "Epoch 3/20, Loss: 1.4779\n",
      "Epoch 4/20, Loss: 1.4616\n",
      "Epoch 5/20, Loss: 1.4547\n",
      "Epoch 6/20, Loss: 1.4495\n",
      "Epoch 7/20, Loss: 1.4462\n",
      "Epoch 8/20, Loss: 1.4424\n",
      "Epoch 9/20, Loss: 1.4397\n",
      "Epoch 10/20, Loss: 1.4370\n",
      "Epoch 11/20, Loss: 1.4337\n",
      "Epoch 12/20, Loss: 1.4293\n",
      "Epoch 13/20, Loss: 1.4267\n",
      "Epoch 14/20, Loss: 1.4233\n",
      "Epoch 15/20, Loss: 1.4214\n",
      "Epoch 16/20, Loss: 1.4190\n",
      "Epoch 17/20, Loss: 1.4181\n",
      "Epoch 18/20, Loss: 1.4159\n",
      "Epoch 19/20, Loss: 1.4153\n",
      "Epoch 20/20, Loss: 1.4144\n",
      "Accuracy on Test Set: 0.4922\n",
      "Log Loss on Test Set: 1.4121\n"
     ]
    },
    {
     "name": "stderr",
     "output_type": "stream",
     "text": [
      "/home/zeus/miniconda3/envs/cloudspace/lib/python3.10/site-packages/sklearn/metrics/_classification.py:2922: UserWarning: The y_pred values do not sum to one. Starting from 1.5 thiswill result in an error.\n",
      "  warnings.warn(\n"
     ]
    }
   ],
   "source": [
    "input_dim = X_train.shape[1]\n",
    "num_classes = 5\n",
    "\n",
    "model = NODEModel(input_dim=input_dim, num_classes=num_classes)\n",
    "criterion = nn.CrossEntropyLoss()  # Cross-Entropy Loss for multiclass classification\n",
    "optimizer = optim.Adam(model.parameters(), lr=0.001)\n",
    "\n",
    "# Step 4: Training loop\n",
    "num_epochs = 20\n",
    "batch_size = 32\n",
    "\n",
    "train_dataset = torch.utils.data.TensorDataset(X_train, y_train)\n",
    "train_loader = torch.utils.data.DataLoader(train_dataset, batch_size=batch_size, shuffle=True)\n",
    "\n",
    "# store log losses\n",
    "log_losses = []\n",
    "\n",
    "for epoch in range(num_epochs):\n",
    "    model.train()\n",
    "    running_loss = 0.0\n",
    "    for inputs, labels in train_loader:\n",
    "        optimizer.zero_grad()\n",
    "        outputs = model(inputs)\n",
    "        loss = criterion(outputs, labels)\n",
    "        log_losses.append(loss.item())\n",
    "        loss.backward()\n",
    "        optimizer.step()\n",
    "        running_loss += loss.item()\n",
    "\n",
    "    print(f'Epoch {epoch+1}/{num_epochs}, Loss: {running_loss/len(train_loader):.4f}')\n",
    "\n",
    "# Step 5: Evaluation on the test set\n",
    "model.eval()\n",
    "with torch.no_grad():\n",
    "    test_outputs = model(X_test)\n",
    "    test_probs = torch.nn.functional.softmax(test_outputs, dim=1)\n",
    "    test_preds = torch.argmax(test_outputs, dim=1)\n",
    "    test_accuracy = accuracy_score(y_test, test_preds)\n",
    "    test_log_loss = log_loss(y_test, test_probs)\n",
    "\n",
    "print(f'Accuracy on Test Set: {test_accuracy:.4f}')\n",
    "print(f'Log Loss on Test Set: {test_log_loss:.4f}')\n"
   ]
  },
  {
   "cell_type": "code",
   "execution_count": 60,
   "metadata": {},
   "outputs": [
    {
     "data": {
      "image/png": "[encoded data removed]",
      "text/plain": [
       "<Figure size 1000x600 with 1 Axes>"
      ]
     },
     "metadata": {},
     "output_type": "display_data"
    }
   ],
   "source": [
    "## Log loss visualization\n",
    "plt.figure(figsize=(10, 6))\n",
    "plt.plot(log_losses)\n",
    "plt.xlabel('Epoch')\n",
    "plt.ylabel('Log Loss')\n",
    "plt.title('Log Loss Over Time')\n",
    "plt.show()"
   ]
  },
  {
   "cell_type": "code",
   "execution_count": 55,
   "metadata": {},
   "outputs": [
    {
     "name": "stdout",
     "output_type": "stream",
     "text": [
      "              precision    recall  f1-score   support\n",
      "\n",
      "           0       0.55      0.73      0.63       551\n",
      "           1       0.00      0.00      0.00       197\n",
      "           2       0.41      0.56      0.47       418\n",
      "           3       0.00      0.00      0.00       215\n",
      "           4       0.46      0.53      0.49       594\n",
      "\n",
      "    accuracy                           0.48      1975\n",
      "   macro avg       0.28      0.36      0.32      1975\n",
      "weighted avg       0.38      0.48      0.42      1975\n",
      "\n"
     ]
    },
    {
     "name": "stderr",
     "output_type": "stream",
     "text": [
      "/home/zeus/miniconda3/envs/cloudspace/lib/python3.10/site-packages/sklearn/metrics/_classification.py:1471: UndefinedMetricWarning: Precision and F-score are ill-defined and being set to 0.0 in labels with no predicted samples. Use `zero_division` parameter to control this behavior.\n",
      "  _warn_prf(average, modifier, msg_start, len(result))\n",
      "/home/zeus/miniconda3/envs/cloudspace/lib/python3.10/site-packages/sklearn/metrics/_classification.py:1471: UndefinedMetricWarning: Precision and F-score are ill-defined and being set to 0.0 in labels with no predicted samples. Use `zero_division` parameter to control this behavior.\n",
      "  _warn_prf(average, modifier, msg_start, len(result))\n",
      "/home/zeus/miniconda3/envs/cloudspace/lib/python3.10/site-packages/sklearn/metrics/_classification.py:1471: UndefinedMetricWarning: Precision and F-score are ill-defined and being set to 0.0 in labels with no predicted samples. Use `zero_division` parameter to control this behavior.\n",
      "  _warn_prf(average, modifier, msg_start, len(result))\n"
     ]
    }
   ],
   "source": [
    "report = classification_report(y_test, test_preds)\n",
    "print(report)"
   ]
  },
  {
   "cell_type": "code",
   "execution_count": 58,
   "metadata": {},
   "outputs": [
    {
     "data": {
      "image/png": "[encoded data removed]",
      "text/plain": [
       "<Figure size 1000x1000 with 2 Axes>"
      ]
     },
     "metadata": {},
     "output_type": "display_data"
    }
   ],
   "source": [
    "# Compute confusion matrix\n",
    "cm = confusion_matrix(y_test, test_preds)\n",
    "\n",
    "# Plot confusion matrix\n",
    "plt.figure(figsize=(10, 10))\n",
    "sns.heatmap(cm, annot=True, fmt='d', cmap='Blues')\n",
    "plt.xlabel('Predicted')\n",
    "plt.ylabel('True')\n",
    "plt.show()"
   ]
  },
  {
   "cell_type": "markdown",
   "metadata": {},
   "source": [
    "## Experiments with Cover Type\n"
   ]
  },
  {
   "cell_type": "code",
   "execution_count": 67,
   "metadata": {},
   "outputs": [],
   "source": [
    "base_path = 'homeworks/data/project/'\n",
    "df_cover = pd.read_csv(base_path + 'forest_cover.csv')"
   ]
  },
  {
   "cell_type": "code",
   "execution_count": 68,
   "metadata": {},
   "outputs": [],
   "source": [
    "df_cover = df_cover.drop('Id', axis=1)"
   ]
  },
  {
   "cell_type": "code",
   "execution_count": 77,
   "metadata": {},
   "outputs": [
    {
     "data": {
      "text/plain": [
       "Index(['Elevation', 'Aspect', 'Slope', 'Horizontal_Distance_To_Hydrology',\n",
       "       'Vertical_Distance_To_Hydrology', 'Horizontal_Distance_To_Roadways',\n",
       "       'Hillshade_9am', 'Hillshade_Noon', 'Hillshade_3pm',\n",
       "       'Horizontal_Distance_To_Fire_Points', 'Wilderness_Area1',\n",
       "       'Wilderness_Area2', 'Wilderness_Area3', 'Wilderness_Area4',\n",
       "       'Soil_Type1', 'Soil_Type2', 'Soil_Type3', 'Soil_Type4', 'Soil_Type5',\n",
       "       'Soil_Type6', 'Soil_Type7', 'Soil_Type8', 'Soil_Type9', 'Soil_Type10',\n",
       "       'Soil_Type11', 'Soil_Type12', 'Soil_Type13', 'Soil_Type14',\n",
       "       'Soil_Type15', 'Soil_Type16', 'Soil_Type17', 'Soil_Type18',\n",
       "       'Soil_Type19', 'Soil_Type20', 'Soil_Type21', 'Soil_Type22',\n",
       "       'Soil_Type23', 'Soil_Type24', 'Soil_Type25', 'Soil_Type26',\n",
       "       'Soil_Type27', 'Soil_Type28', 'Soil_Type29', 'Soil_Type30',\n",
       "       'Soil_Type31', 'Soil_Type32', 'Soil_Type33', 'Soil_Type34',\n",
       "       'Soil_Type35', 'Soil_Type36', 'Soil_Type37', 'Soil_Type38',\n",
       "       'Soil_Type39', 'Soil_Type40', 'Cover_Type'],\n",
       "      dtype='object')"
      ]
     },
     "execution_count": 77,
     "metadata": {},
     "output_type": "execute_result"
    }
   ],
   "source": [
    "df_cover.columns"
   ]
  },
  {
   "cell_type": "code",
   "execution_count": 81,
   "metadata": {},
   "outputs": [
    {
     "name": "stdout",
     "output_type": "stream",
     "text": [
      "[0 1 2 3 4 5 6 7]\n"
     ]
    }
   ],
   "source": [
    "## Preprocessing\n",
    "X = df_cover.drop('Cover_Type',axis=1).values\n",
    "y = df_cover['Cover_Type'].values\n",
    "le = LabelEncoder()\n",
    "# Fit and transform the data to the label encoder\n",
    "y = le.fit_transform(y)\n",
    "print(np.unique(y))\n",
    "\n",
    "X = torch.FloatTensor(X)\n",
    "y = torch.LongTensor(y)"
   ]
  },
  {
   "cell_type": "code",
   "execution_count": 79,
   "metadata": {},
   "outputs": [
    {
     "data": {
      "text/plain": [
       "(torch.Size([581012, 54]), torch.Size([581012]))"
      ]
     },
     "execution_count": 79,
     "metadata": {},
     "output_type": "execute_result"
    }
   ],
   "source": [
    "X.shape, y.shape"
   ]
  },
  {
   "cell_type": "code",
   "execution_count": 82,
   "metadata": {},
   "outputs": [],
   "source": [
    "## Split into train and validation sets\n",
    "X_train_val, X_test, y_train_val, y_test = train_test_split(X, y, test_size=0.2, random_state=42)\n",
    "# Step 2:Train and validation data  70% train y 10% validation\n",
    "X_train, X_val, y_train, y_val = train_test_split(X_train_val, y_train_val, test_size=0.125, random_state=42)"
   ]
  },
  {
   "cell_type": "code",
   "execution_count": 85,
   "metadata": {},
   "outputs": [
    {
     "name": "stdout",
     "output_type": "stream",
     "text": [
      "Epoch 1/20, Loss: 1.3000\n",
      "Epoch 2/20, Loss: 1.3000\n",
      "Epoch 3/20, Loss: 1.3000\n",
      "Epoch 4/20, Loss: 1.3000\n",
      "Epoch 5/20, Loss: 1.3000\n",
      "Epoch 6/20, Loss: 1.3000\n",
      "Epoch 7/20, Loss: 1.3000\n",
      "Epoch 8/20, Loss: 1.3000\n",
      "Epoch 9/20, Loss: 1.3000\n",
      "Epoch 10/20, Loss: 1.3000\n",
      "Epoch 11/20, Loss: 1.3000\n",
      "Epoch 12/20, Loss: 1.3000\n",
      "Epoch 13/20, Loss: 1.3000\n",
      "Epoch 14/20, Loss: 1.3000\n",
      "Epoch 15/20, Loss: 1.3000\n",
      "Epoch 16/20, Loss: 1.3000\n",
      "Epoch 17/20, Loss: 1.3000\n",
      "Epoch 18/20, Loss: 1.3000\n",
      "Epoch 19/20, Loss: 1.3000\n",
      "Epoch 20/20, Loss: 1.3000\n",
      "Accuracy on Test Set: 0.9740\n",
      "Log Loss on Test Set: 1.3000\n"
     ]
    },
    {
     "name": "stderr",
     "output_type": "stream",
     "text": [
      "/home/zeus/miniconda3/envs/cloudspace/lib/python3.10/site-packages/sklearn/metrics/_classification.py:2922: UserWarning: The y_pred values do not sum to one. Starting from 1.5 thiswill result in an error.\n",
      "  warnings.warn(\n"
     ]
    }
   ],
   "source": [
    "## Train the model\n",
    "\n",
    "input_dim = X_train.shape[1]\n",
    "num_classes = 8\n",
    "\n",
    "model = NODEModel(input_dim=input_dim, num_classes=num_classes)\n",
    "criterion = nn.CrossEntropyLoss()  # Cross-Entropy Loss for multiclass classification\n",
    "optimizer = optim.Adam(model.parameters(), lr=0.001)\n",
    "\n",
    "# Step 4: Training loop\n",
    "num_epochs = 20\n",
    "batch_size = 32\n",
    "\n",
    "train_dataset = torch.utils.data.TensorDataset(X_train, y_train)\n",
    "train_loader = torch.utils.data.DataLoader(train_dataset, batch_size=batch_size, shuffle=True)\n",
    "\n",
    "# store log losses\n",
    "log_losses = []\n",
    "\n",
    "for epoch in range(num_epochs):\n",
    "    model.train()\n",
    "    running_loss = 0.0\n",
    "    for inputs, labels in train_loader:\n",
    "        optimizer.zero_grad()\n",
    "        outputs = model(inputs)\n",
    "        loss = criterion(outputs, labels)\n",
    "        log_losses.append(loss.item())\n",
    "        loss.backward()\n",
    "        optimizer.step()\n",
    "        running_loss += loss.item()\n",
    "\n",
    "    print(f'Epoch {epoch+1}/{num_epochs}, Loss: {running_loss/len(train_loader):.4f}')\n",
    "\n",
    "# Step 5: Evaluation on the test set\n",
    "model.eval()\n",
    "with torch.no_grad():\n",
    "    test_outputs = model(X_test)\n",
    "    test_probs = torch.nn.functional.softmax(test_outputs, dim=1)\n",
    "    test_preds = torch.argmax(test_outputs, dim=1)\n",
    "    test_accuracy = accuracy_score(y_test, test_preds)\n",
    "    test_log_loss = log_loss(y_test, test_probs)\n",
    "\n",
    "print(f'Accuracy on Test Set: {test_accuracy:.4f}')\n",
    "print(f'Log Loss on Test Set: {test_log_loss:.4f}')\n"
   ]
  },
  {
   "cell_type": "markdown",
   "metadata": {},
   "source": [
    "## Experiments Binary Classification"
   ]
  },
  {
   "cell_type": "code",
   "execution_count": 18,
   "metadata": {},
   "outputs": [],
   "source": [
    "# Paso 1:Model Architecture and Initialization Node\n",
    "class BinaryNODEModel(nn.Module):\n",
    "    def __init__(self, input_dim, hidden_dim=64, num_trees=10):\n",
    "        super(BinaryNODEModel, self).__init__()\n",
    "        self.trees = nn.ModuleList([nn.Linear(input_dim, hidden_dim) for _ in range(num_trees)])\n",
    "        self.hidden_dim = hidden_dim\n",
    "        self.output_layer = nn.Linear(hidden_dim * num_trees, 1)  # Una sola neurona para salida binaria\n",
    "        self.sigmoid = nn.Sigmoid()\n",
    "\n",
    "    def forward(self, x):\n",
    "        tree_outputs = [torch.relu(tree(x)) for tree in self.trees]\n",
    "        x = torch.cat(tree_outputs, dim=1)\n",
    "        x = self.output_layer(x)\n",
    "        return self.sigmoid(x)"
   ]
  },
  {
   "cell_type": "code",
   "execution_count": 46,
   "metadata": {},
   "outputs": [],
   "source": [
    "## Load data\n",
    "base_path = 'homeworks/data/project/'\n",
    "df = pd.read_csv(base_path + 'shrutime_encoded.csv')\n",
    "X = df.values[:, :-1]\n",
    "y = df.values[:, -1].astype(int)\n"
   ]
  },
  {
   "cell_type": "code",
   "execution_count": 47,
   "metadata": {},
   "outputs": [],
   "source": [
    "## Data Standardization\n",
    "\n",
    "scaler = StandardScaler()\n",
    "X_standardized = scaler.fit_transform(X)\n",
    "\n",
    "X = torch.FloatTensor(X_standardized)\n",
    "y = torch.FloatTensor(y).unsqueeze(1)"
   ]
  },
  {
   "cell_type": "code",
   "execution_count": 49,
   "metadata": {},
   "outputs": [],
   "source": [
    "## Split into train and validation sets\n",
    "X_train_val, X_test, y_train_val, y_test = train_test_split(X, y, test_size=0.2, random_state=42)\n",
    "# Step 2:Train and validation data  70% train y 10% validation\n",
    "X_train, X_val, y_train, y_val = train_test_split(X_train_val, y_train_val, test_size=0.125, random_state=42)"
   ]
  },
  {
   "cell_type": "code",
   "execution_count": 73,
   "metadata": {},
   "outputs": [],
   "source": [
    "## Bayesian Optimization to seach for the best hyperparameters\n",
    "\n",
    "space = {\n",
    "    'hidden_dim': hp.choice('hidden_dim', range(1,100)),\n",
    "    'num_trees': hp.choice('num_trees', range(1,100)),\n",
    "    'output_dim': hp.choice('output_dim', [1]),\n",
    "    'learning_rate': hp.loguniform('learning_rate', -5, 0),\n",
    "    'batch_size': hp.choice('batch_size', [16,32,64,128]),\n",
    "    \n",
    "}\n"
   ]
  },
  {
   "cell_type": "code",
   "execution_count": 74,
   "metadata": {},
   "outputs": [
    {
     "name": "stdout",
     "output_type": "stream",
     "text": [
      "  0%|          | 0/50 [00:00<?, ?trial/s, best loss=?]"
     ]
    },
    {
     "name": "stdout",
     "output_type": "stream",
     "text": [
      "100%|██████████| 50/50 [08:02<00:00,  9.65s/trial, best loss: 0.33630187566036784]\n",
      "Best Hyperparameters: {'batch_size': 2, 'hidden_dim': 46, 'learning_rate': 0.009808919549533189, 'num_trees': 17, 'output_dim': 0}\n"
     ]
    }
   ],
   "source": [
    "## Objective function to optimization\n",
    "def objective(params):\n",
    "    hidden_dim = int(params['hidden_dim'])\n",
    "    num_trees = int(params['num_trees'])\n",
    "    output_dim = int(params['output_dim'])\n",
    "    learning_rate = params['learning_rate']\n",
    "    batch_size = int(params['batch_size'])\n",
    "    \n",
    "    \n",
    "    model = BinaryNODEModel(input_dim=X_train.shape[1], hidden_dim=hidden_dim, num_trees=num_trees)\n",
    "    criterion = nn.BCELoss()\n",
    "    optimizer = optim.Adam(model.parameters(), lr=learning_rate)\n",
    "    \n",
    "    train_dataset = torch.utils.data.TensorDataset(X_train, y_train)\n",
    "    train_loader = torch.utils.data.DataLoader(train_dataset, batch_size=batch_size, shuffle=True)\n",
    "    \n",
    "    model.train()\n",
    "    for epoch in range(10):  # 10 epochs para optimización\n",
    "        running_loss = 0.0\n",
    "        for inputs, labels in train_loader:\n",
    "            optimizer.zero_grad()\n",
    "            outputs = model(inputs)\n",
    "            loss = criterion(outputs, labels)\n",
    "            loss.backward()\n",
    "            optimizer.step()\n",
    "            running_loss += loss.item()\n",
    "    \n",
    "    model.eval()\n",
    "    with torch.no_grad():\n",
    "        test_outputs = model(X_test)\n",
    "        log_loss_value = log_loss(y_test, test_outputs)\n",
    "        test_preds = (test_outputs >= 0.5).float()\n",
    "        accuracy = accuracy_score(y_test, test_preds)\n",
    "    \n",
    "    return {'accuracy': accuracy,'loss':log_loss_value, 'status': STATUS_OK}\n",
    "\n",
    "# Paso 5: Optimización con hyperopt\n",
    "trials = Trials()\n",
    "best = fmin(fn=objective,\n",
    "            space=space,\n",
    "            algo=tpe.suggest,\n",
    "            max_evals=50,  # Número de evaluaciones\n",
    "            trials=trials)\n",
    "\n",
    "print(\"Best Hyperparameters:\", best)"
   ]
  },
  {
   "cell_type": "code",
   "execution_count": 82,
   "metadata": {},
   "outputs": [
    {
     "data": {
      "image/png": "[encoded data removed]",
      "text/plain": [
       "<Figure size 640x480 with 1 Axes>"
      ]
     },
     "metadata": {},
     "output_type": "display_data"
    }
   ],
   "source": [
    "## Visualization of the loss and accuracy\n",
    "loss_values = [result['accuracy'] for result in trials.results]\n",
    "plt.plot(loss_values)\n",
    "plt.xlabel('Iteration')\n",
    "plt.ylabel('Log Loss')\n",
    "plt.title('Convergence of Log Loss')\n",
    "plt.show()"
   ]
  },
  {
   "cell_type": "code",
   "execution_count": 77,
   "metadata": {},
   "outputs": [
    {
     "data": {
      "text/plain": [
       "[{'accuracy': -0.856, 'loss': 0.3856357004169644, 'status': 'ok'},\n",
       " {'accuracy': -0.867, 'loss': 0.3413570601778917, 'status': 'ok'},\n",
       " {'accuracy': -0.857, 'loss': 0.3631687423969487, 'status': 'ok'},\n",
       " {'accuracy': -0.8035, 'loss': 7.08257789096152, 'status': 'ok'},\n",
       " {'accuracy': -0.8035, 'loss': 7.08257789096152, 'status': 'ok'},\n",
       " {'accuracy': -0.8035, 'loss': 7.08257789096152, 'status': 'ok'},\n",
       " {'accuracy': -0.861, 'loss': 0.3528270399524896, 'status': 'ok'},\n",
       " {'accuracy': -0.8615, 'loss': 0.33859699370041774, 'status': 'ok'},\n",
       " {'accuracy': -0.857, 'loss': 0.36692609699157847, 'status': 'ok'},\n",
       " {'accuracy': -0.8035, 'loss': 7.08257789096152, 'status': 'ok'},\n",
       " {'accuracy': -0.8625, 'loss': 0.3417723591439652, 'status': 'ok'},\n",
       " {'accuracy': -0.8035, 'loss': 7.08257789096152, 'status': 'ok'},\n",
       " {'accuracy': -0.8035, 'loss': 7.08257789096152, 'status': 'ok'},\n",
       " {'accuracy': -0.8035, 'loss': 7.08257789096152, 'status': 'ok'},\n",
       " {'accuracy': -0.8035, 'loss': 7.08257789096152, 'status': 'ok'},\n",
       " {'accuracy': -0.853, 'loss': 0.3827389377637019, 'status': 'ok'},\n",
       " {'accuracy': -0.8035, 'loss': 7.08257789096152, 'status': 'ok'},\n",
       " {'accuracy': -0.8035, 'loss': 7.08257789096152, 'status': 'ok'},\n",
       " {'accuracy': -0.844, 'loss': 0.3801544836870504, 'status': 'ok'},\n",
       " {'accuracy': -0.852, 'loss': 0.37272007654308004, 'status': 'ok'},\n",
       " {'accuracy': -0.857, 'loss': 0.3406580885033932, 'status': 'ok'},\n",
       " {'accuracy': -0.8575, 'loss': 0.34695684954053396, 'status': 'ok'},\n",
       " {'accuracy': -0.857, 'loss': 0.3558173282718107, 'status': 'ok'},\n",
       " {'accuracy': -0.8345, 'loss': 0.4459168495498076, 'status': 'ok'},\n",
       " {'accuracy': -0.86, 'loss': 0.3434627652387194, 'status': 'ok'},\n",
       " {'accuracy': -0.856, 'loss': 0.34696642867865535, 'status': 'ok'},\n",
       " {'accuracy': -0.8485, 'loss': 0.36378025569664224, 'status': 'ok'},\n",
       " {'accuracy': -0.86, 'loss': 0.3416659541777657, 'status': 'ok'},\n",
       " {'accuracy': -0.8035, 'loss': 7.08257789096152, 'status': 'ok'},\n",
       " {'accuracy': -0.858, 'loss': 0.360475552825911, 'status': 'ok'},\n",
       " {'accuracy': -0.86, 'loss': 0.3586649530279168, 'status': 'ok'},\n",
       " {'accuracy': -0.859, 'loss': 0.3375042114599044, 'status': 'ok'},\n",
       " {'accuracy': -0.8615, 'loss': 0.34432435558338476, 'status': 'ok'},\n",
       " {'accuracy': -0.854, 'loss': 0.351703549618516, 'status': 'ok'},\n",
       " {'accuracy': -0.8515, 'loss': 0.3635974582045659, 'status': 'ok'},\n",
       " {'accuracy': -0.8595, 'loss': 0.3541156021241945, 'status': 'ok'},\n",
       " {'accuracy': -0.8605, 'loss': 0.3439860339757299, 'status': 'ok'},\n",
       " {'accuracy': -0.8475, 'loss': 0.36012168331852795, 'status': 'ok'},\n",
       " {'accuracy': -0.8555, 'loss': 0.3662218458502554, 'status': 'ok'},\n",
       " {'accuracy': -0.8035, 'loss': 7.08257789096152, 'status': 'ok'},\n",
       " {'accuracy': -0.8035, 'loss': 7.08257789096152, 'status': 'ok'},\n",
       " {'accuracy': -0.8035, 'loss': 7.08257789096152, 'status': 'ok'},\n",
       " {'accuracy': -0.861, 'loss': 0.34010132831914575, 'status': 'ok'},\n",
       " {'accuracy': -0.856, 'loss': 0.36415709974043897, 'status': 'ok'},\n",
       " {'accuracy': -0.8035, 'loss': 7.08257789096152, 'status': 'ok'},\n",
       " {'accuracy': -0.8035, 'loss': 7.08257789096152, 'status': 'ok'},\n",
       " {'accuracy': -0.862, 'loss': 0.3415795374975573, 'status': 'ok'},\n",
       " {'accuracy': -0.865, 'loss': 0.33630187566036784, 'status': 'ok'},\n",
       " {'accuracy': -0.8575, 'loss': 0.3411897607154294, 'status': 'ok'},\n",
       " {'accuracy': -0.8515, 'loss': 0.3600352617992421, 'status': 'ok'}]"
      ]
     },
     "execution_count": 77,
     "metadata": {},
     "output_type": "execute_result"
    }
   ],
   "source": [
    "trials.results"
   ]
  },
  {
   "cell_type": "code",
   "execution_count": 60,
   "metadata": {},
   "outputs": [
    {
     "name": "stdout",
     "output_type": "stream",
     "text": [
      "[{'accuracy': -0.8035, 'loss': 7.08257789096152, 'status': 'ok'}, {'accuracy': -0.8035, 'loss': 7.08257789096152, 'status': 'ok'}, {'accuracy': -0.859, 'loss': 0.35421306650574286, 'status': 'ok'}, {'accuracy': -0.861, 'loss': 0.3496942024290504, 'status': 'ok'}, {'accuracy': -0.8035, 'loss': 7.08257789096152, 'status': 'ok'}, {'accuracy': -0.8535, 'loss': 0.3649782237644119, 'status': 'ok'}, {'accuracy': -0.851, 'loss': 0.3628934043319686, 'status': 'ok'}, {'accuracy': -0.867, 'loss': 0.3439170453087051, 'status': 'ok'}, {'accuracy': -0.8605, 'loss': 0.36252188035667987, 'status': 'ok'}, {'accuracy': -0.8625, 'loss': 0.34639938652604096, 'status': 'ok'}, {'accuracy': -0.854, 'loss': 0.34560904231500095, 'status': 'ok'}, {'accuracy': -0.8525, 'loss': 0.3549265724052794, 'status': 'ok'}, {'accuracy': -0.855, 'loss': 0.36822862292879627, 'status': 'ok'}, {'accuracy': -0.8035, 'loss': 7.08257789096152, 'status': 'ok'}, {'accuracy': -0.862, 'loss': 0.3429148362624013, 'status': 'ok'}, {'accuracy': -0.8035, 'loss': 7.08257789096152, 'status': 'ok'}, {'accuracy': -0.861, 'loss': 0.3444175510645321, 'status': 'ok'}, {'accuracy': -0.8535, 'loss': 0.4032301065276668, 'status': 'ok'}, {'accuracy': -0.858, 'loss': 0.34944433954210574, 'status': 'ok'}, {'accuracy': -0.854, 'loss': 0.6197542069922156, 'status': 'ok'}, {'accuracy': -0.8655, 'loss': 0.3427805476533884, 'status': 'ok'}, {'accuracy': -0.863, 'loss': 0.3564609686633229, 'status': 'ok'}, {'accuracy': -0.8615, 'loss': 0.34336794056103725, 'status': 'ok'}, {'accuracy': -0.8035, 'loss': 7.08257789096152, 'status': 'ok'}, {'accuracy': -0.8575, 'loss': 0.3500233329978249, 'status': 'ok'}, {'accuracy': -0.863, 'loss': 0.3430181582580289, 'status': 'ok'}, {'accuracy': -0.861, 'loss': 0.33978866529058827, 'status': 'ok'}, {'accuracy': -0.8035, 'loss': 7.08257789096152, 'status': 'ok'}, {'accuracy': -0.8035, 'loss': 7.08257789096152, 'status': 'ok'}, {'accuracy': -0.8345, 'loss': 0.3866136904876645, 'status': 'ok'}, {'accuracy': -0.8035, 'loss': 7.08257789096152, 'status': 'ok'}, {'accuracy': -0.8485, 'loss': 0.3649899382306414, 'status': 'ok'}, {'accuracy': -0.8375, 'loss': 0.39443397769154304, 'status': 'ok'}, {'accuracy': -0.8035, 'loss': 7.08257789096152, 'status': 'ok'}, {'accuracy': -0.8035, 'loss': 7.08257789096152, 'status': 'ok'}, {'accuracy': -0.847, 'loss': 0.36738795414986686, 'status': 'ok'}, {'accuracy': -0.8035, 'loss': 7.08257789096152, 'status': 'ok'}, {'accuracy': -0.8035, 'loss': 7.08257789096152, 'status': 'ok'}, {'accuracy': -0.852, 'loss': 0.3538107704289548, 'status': 'ok'}, {'accuracy': -0.8035, 'loss': 7.08257789096152, 'status': 'ok'}, {'accuracy': -0.8605, 'loss': 0.3464685736101989, 'status': 'ok'}, {'accuracy': -0.8585, 'loss': 0.36097755758947314, 'status': 'ok'}, {'accuracy': -0.863, 'loss': 0.3400935118597398, 'status': 'ok'}, {'accuracy': -0.849, 'loss': 0.35182402692964704, 'status': 'ok'}, {'accuracy': -0.8035, 'loss': 7.08257789096152, 'status': 'ok'}, {'accuracy': -0.8035, 'loss': 7.08257789096152, 'status': 'ok'}, {'accuracy': -0.8655, 'loss': 0.34513868032982475, 'status': 'ok'}, {'accuracy': -0.8035, 'loss': 7.08257789096152, 'status': 'ok'}, {'accuracy': -0.8595, 'loss': 0.35123157333983046, 'status': 'ok'}, {'accuracy': -0.8505, 'loss': 0.3670588725081908, 'status': 'ok'}]\n"
     ]
    }
   ],
   "source": [
    "print(trials.results)"
   ]
  },
  {
   "cell_type": "code",
   "execution_count": 79,
   "metadata": {},
   "outputs": [
    {
     "name": "stdout",
     "output_type": "stream",
     "text": [
      "Epoch 1/20, Loss: 0.4718\n",
      "Epoch 2/20, Loss: 0.4252\n",
      "Epoch 3/20, Loss: 0.4063\n",
      "Epoch 4/20, Loss: 0.3964\n",
      "Epoch 5/20, Loss: 0.3790\n",
      "Epoch 6/20, Loss: 0.3738\n",
      "Epoch 7/20, Loss: 0.3671\n",
      "Epoch 8/20, Loss: 0.3670\n",
      "Epoch 9/20, Loss: 0.3681\n",
      "Epoch 10/20, Loss: 0.3640\n",
      "Epoch 11/20, Loss: 0.3583\n",
      "Epoch 12/20, Loss: 0.3600\n",
      "Epoch 13/20, Loss: 0.3581\n",
      "Epoch 14/20, Loss: 0.3546\n",
      "Epoch 15/20, Loss: 0.3537\n",
      "Epoch 16/20, Loss: 0.3527\n",
      "Epoch 17/20, Loss: 0.3487\n",
      "Epoch 18/20, Loss: 0.3504\n",
      "Epoch 19/20, Loss: 0.3485\n",
      "Epoch 20/20, Loss: 0.3488\n"
     ]
    }
   ],
   "source": [
    "# Traininig the model with the best hyperparameters\n",
    "input_dim = X_train.shape[1]\n",
    "hidden_dim = int(best['hidden_dim'])\n",
    "num_trees = int( best['num_trees'])\n",
    "batch_size = int(best['batch_size'])\n",
    "model = BinaryNODEModel(input_dim=input_dim,hidden_dim=hidden_dim, num_trees=num_trees)\n",
    "criterion = nn.BCELoss()  # Binary Cross-Entropy Loss\n",
    "optimizer = optim.Adam(model.parameters(), lr=best['learning_rate'])\n",
    "\n",
    "num_epochs = 20\n",
    "#batch_size = 32\n",
    "\n",
    "train_dataset = torch.utils.data.TensorDataset(X_train, y_train)\n",
    "train_loader = torch.utils.data.DataLoader(train_dataset, batch_size=batch_size, shuffle=True)\n",
    "\n",
    "for epoch in range(num_epochs):\n",
    "    model.train()\n",
    "    running_loss = 0.0\n",
    "    for inputs, labels in train_loader:\n",
    "        \n",
    "        optimizer.zero_grad()\n",
    "        outputs = model(inputs)\n",
    "        loss = criterion(outputs, labels)\n",
    "        loss.backward()\n",
    "        optimizer.step()\n",
    "        running_loss += loss.item()\n",
    "\n",
    "    print(f'Epoch {epoch+1}/{num_epochs}, Loss: {running_loss/len(train_loader):.4f}')\n",
    "\n",
    "\n"
   ]
  },
  {
   "cell_type": "code",
   "execution_count": 81,
   "metadata": {},
   "outputs": [
    {
     "name": "stdout",
     "output_type": "stream",
     "text": [
      "Accuracy on Test Set: 0.8575\n",
      "Log Loss on Test: 5.1362\n"
     ]
    }
   ],
   "source": [
    "\n",
    "# Paso 5: Evaluación en el conjunto de prueba\n",
    "model.eval()\n",
    "with torch.no_grad():\n",
    "    test_outputs = model(X_test)\n",
    "    test_preds = torch.sigmoid(test_outputs)\n",
    "\n",
    "    test_preds = (test_outputs >= 0.5).float()  # Aplicar umbral para obtener predicciones binarias\n",
    "    loss = log_loss(y_test, test_preds)\n",
    "    test_accuracy = accuracy_score(y_test, test_preds)\n",
    "    print(f'Accuracy on Test Set: {test_accuracy:.4f}')\n",
    "    print(f'Log Loss on Test: {loss:.4f}')"
   ]
  },
  {
   "cell_type": "code",
   "execution_count": 35,
   "metadata": {},
   "outputs": [
    {
     "name": "stdout",
     "output_type": "stream",
     "text": [
      "tensor([[0.],\n",
      "        [1.],\n",
      "        [0.],\n",
      "        [1.],\n",
      "        [0.]])\n",
      "Epoch 1/20, Loss: 0.6669\n",
      "Epoch 2/20, Loss: 0.6014\n",
      "Epoch 3/20, Loss: 0.5642\n",
      "Epoch 4/20, Loss: 0.5504\n",
      "Epoch 5/20, Loss: 0.5522\n",
      "Epoch 6/20, Loss: 0.5607\n",
      "Epoch 7/20, Loss: 0.5692\n",
      "Epoch 8/20, Loss: 0.5739\n",
      "Epoch 9/20, Loss: 0.5740\n",
      "Epoch 10/20, Loss: 0.5703\n",
      "Epoch 11/20, Loss: 0.5641\n",
      "Epoch 12/20, Loss: 0.5571\n",
      "Epoch 13/20, Loss: 0.5508\n",
      "Epoch 14/20, Loss: 0.5463\n",
      "Epoch 15/20, Loss: 0.5443\n",
      "Epoch 16/20, Loss: 0.5445\n",
      "Epoch 17/20, Loss: 0.5463\n",
      "Epoch 18/20, Loss: 0.5485\n",
      "Epoch 19/20, Loss: 0.5498\n",
      "Epoch 20/20, Loss: 0.5496\n",
      "Accuracy on Test Set: 0.0000\n"
     ]
    }
   ],
   "source": [
    "import torch\n",
    "import torch.nn as nn\n",
    "import torch.optim as optim\n",
    "from sklearn.model_selection import train_test_split\n",
    "import pandas as pd\n",
    "from sklearn.metrics import accuracy_score\n",
    "\n",
    "# Paso 1: Preparación de los datos desde un DataFrame\n",
    "data = {\n",
    "    'feature1': [0.5, 0.6, 0.1, 0.4, 0.7],\n",
    "    'feature2': [1.2, 1.3, 0.8, 1.1, 1.5],\n",
    "    'feature3': [3.2, 3.3, 3.1, 3.0, 3.4],\n",
    "    'target': [0, 1, 0, 1, 0]  # Binario\n",
    "}\n",
    "df = pd.DataFrame(data)\n",
    "\n",
    "X = df.drop('target', axis=1).values  # Características\n",
    "y = df['target'].values  # Objetivo\n",
    "\n",
    "X = torch.FloatTensor(X)\n",
    "y = torch.FloatTensor(y).unsqueeze(1)  # Asegúrate de que el tensor objetivo tenga una dimensión extra para compatibilidad\n",
    "print(y)\n",
    "X_train, X_test, y_train, y_test = train_test_split(X, y, test_size=0.2, random_state=42)\n",
    "\n",
    "# Paso 2: Definir el modelo NODE para clasificación binaria\n",
    "class BinaryNODEModel(nn.Module):\n",
    "    def __init__(self, input_dim, hidden_dim=64, num_trees=10):\n",
    "        super(BinaryNODEModel, self).__init__()\n",
    "        self.trees = nn.ModuleList([nn.Linear(input_dim, hidden_dim) for _ in range(num_trees)])\n",
    "        self.hidden_dim = hidden_dim\n",
    "        self.output_layer = nn.Linear(hidden_dim * num_trees, 1)  # Una sola neurona para salida binaria\n",
    "        self.sigmoid = nn.Sigmoid()\n",
    "\n",
    "    def forward(self, x):\n",
    "        tree_outputs = [torch.relu(tree(x)) for tree in self.trees]\n",
    "        x = torch.cat(tree_outputs, dim=1)\n",
    "        x = self.output_layer(x)\n",
    "        return self.sigmoid(x)\n",
    "\n",
    "# Paso 3: Instanciar el modelo, función de pérdida y optimizador\n",
    "input_dim = X_train.shape[1]\n",
    "\n",
    "model = BinaryNODEModel(input_dim=input_dim)\n",
    "criterion = nn.BCELoss()  # Binary Cross-Entropy Loss\n",
    "optimizer = optim.Adam(model.parameters(), lr=0.001)\n",
    "\n",
    "# Paso 4: Bucle de entrenamiento\n",
    "num_epochs = 20\n",
    "batch_size = 32\n",
    "\n",
    "train_dataset = torch.utils.data.TensorDataset(X_train, y_train)\n",
    "train_loader = torch.utils.data.DataLoader(train_dataset, batch_size=batch_size, shuffle=True)\n",
    "\n",
    "for epoch in range(num_epochs):\n",
    "    model.train()\n",
    "    running_loss = 0.0\n",
    "    for inputs, labels in train_loader:\n",
    "        optimizer.zero_grad()\n",
    "        outputs = model(inputs)\n",
    "        loss = criterion(outputs, labels)\n",
    "        loss.backward()\n",
    "        optimizer.step()\n",
    "        running_loss += loss.item()\n",
    "\n",
    "    print(f'Epoch {epoch+1}/{num_epochs}, Loss: {running_loss/len(train_loader):.4f}')\n",
    "\n",
    "# Paso 5: Evaluación en el conjunto de prueba\n",
    "model.eval()\n",
    "with torch.no_grad():\n",
    "    test_outputs = model(X_test)\n",
    "    test_preds = (test_outputs >= 0.5).float()  # Aplicar umbral para obtener predicciones binarias\n",
    "    test_accuracy = accuracy_score(y_test, test_preds)\n",
    "    print(f'Accuracy on Test Set: {test_accuracy:.4f}')\n"
   ]
  }
 ],
 "metadata": {
  "language_info": {
   "name": "python"
  }
 },
 "nbformat": 4,
 "nbformat_minor": 2
}
