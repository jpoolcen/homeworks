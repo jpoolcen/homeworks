{
 "cells": [
  {
   "cell_type": "markdown",
   "metadata": {},
   "source": [
    "## TabNet \n",
    "\n",
    "### Parameters\n",
    "\n",
    "+ n_d: width decision predition layer[8,64], \n",
    "+ n_a:width attention [8,64], \n",
    "+ n_steps: steps in the architecture [3,10], \n",
    "+ gamma: coefficiente for feature reuse [1,2], close to 1 least corrlated default 1.3,\n",
    "+ n_independent [1,5]: number of independent gated linear units, 2\n",
    "+ n_shared [1,5], 2, \n",
    "+ epsilon=1e-15, \n",
    "+ momentum:0.01 to 0.4, default 0.02\n",
    "+ lambda_sparse, seed, clip_value, verbose"
   ]
  },
  {
   "cell_type": "code",
   "execution_count": 53,
   "metadata": {},
   "outputs": [],
   "source": [
    "# importing necessary libraries\n",
    "import numpy as np \n",
    "import pandas as pd \n",
    "import seaborn as sns \n",
    "import matplotlib.pyplot as plt\n",
    "from sklearn.pipeline import Pipeline\n",
    "from sklearn.impute import SimpleImputer\n",
    "from sklearn.compose import ColumnTransformer\n",
    "from sklearn.preprocessing import StandardScaler, OneHotEncoder\n",
    "from sklearn.model_selection import train_test_split\n",
    "from sklearn.metrics import mean_squared_error\n",
    "from sklearn.preprocessing import LabelEncoder\n",
    "from sklearn.metrics import accuracy_score\n",
    "from sklearn.preprocessing import LabelBinarizer\n",
    "from sklearn.metrics import accuracy_score, confusion_matrix, classification_report, log_loss\n",
    "\n",
    "import os\n",
    "\n",
    "#TabNet librariees\n",
    "import torch\n",
    "from pytorch_tabnet.tab_model import TabNetClassifier\n",
    "\n",
    "## hyperparameters bayesian optimization\n",
    "from hyperopt import hp, tpe, Trials, fmin, STATUS_OK\n",
    "\n",
    "import warnings\n",
    "warnings.filterwarnings('ignore')\n",
    "\n",
    "#https://www.kaggle.com/code/enigmak/tabnet-deep-neural-network-for-tabular-data\n"
   ]
  },
  {
   "cell_type": "markdown",
   "metadata": {},
   "source": [
    "\n",
    "## Experiments with Gesture Dataset\n",
    "\n",
    "----"
   ]
  },
  {
   "cell_type": "code",
   "execution_count": 58,
   "metadata": {},
   "outputs": [],
   "source": [
    "## Preprocessing\n",
    "base_path = 'homeworks/data/project/gesture_phase/'\n",
    "\n",
    "# Load the data\n",
    "df = pd.read_csv(base_path + 'gesture_phase.csv')\n",
    "\n",
    "\n",
    "## Select features and target\n",
    "X = df.values[:, :-1]\n",
    "y_target = df.values[:, -1]\n",
    "le = LabelEncoder()\n",
    "y = le.fit_transform(y_target)\n",
    "\n",
    "\n",
    "## Standarize the data\n",
    "scaler = StandardScaler()\n",
    "X_standardized = scaler.fit_transform(X)\n",
    "\n",
    "## Splitting the data\n",
    "\n",
    "X_train_val, X_test, y_train_val, y_test = train_test_split(X_standardized, y, test_size=0.2, random_state=42)\n",
    "\n",
    "## Train/Validation split\n",
    "X_train, X_val, y_train, y_val = train_test_split(X_train_val, y_train_val, test_size=0.125, random_state=42)\n",
    "\n"
   ]
  },
  {
   "cell_type": "code",
   "execution_count": 82,
   "metadata": {},
   "outputs": [
    {
     "name": "stdout",
     "output_type": "stream",
     "text": [
      "5\n",
      "[0 1 2 3 4] [0 1 2 3 4] [0 1 2 3 4]\n"
     ]
    }
   ],
   "source": [
    "num_clases =len(np.unique(y_train))\n",
    "print(num_clases)\n",
    "\n",
    "print(np.unique(y_test),np.unique(y_train),np.unique(y_val))"
   ]
  },
  {
   "cell_type": "code",
   "execution_count": 101,
   "metadata": {},
   "outputs": [
    {
     "name": "stdout",
     "output_type": "stream",
     "text": [
      "epoch 0  | loss: 1.6004  |  0:00:00s\n",
      "epoch 1  | loss: 1.44446 |  0:00:00s\n",
      "epoch 2  | loss: 1.38468 |  0:00:01s\n",
      "epoch 3  | loss: 1.35008 |  0:00:01s\n",
      "epoch 4  | loss: 1.3175  |  0:00:01s\n",
      "epoch 5  | loss: 1.30777 |  0:00:02s\n",
      "epoch 6  | loss: 1.28891 |  0:00:02s\n",
      "epoch 7  | loss: 1.27964 |  0:00:02s\n",
      "epoch 8  | loss: 1.26798 |  0:00:03s\n",
      "epoch 9  | loss: 1.27251 |  0:00:03s\n",
      "epoch 10 | loss: 1.26128 |  0:00:03s\n",
      "epoch 11 | loss: 1.26056 |  0:00:04s\n",
      "epoch 12 | loss: 1.25521 |  0:00:04s\n",
      "epoch 13 | loss: 1.25925 |  0:00:04s\n",
      "epoch 14 | loss: 1.25473 |  0:00:05s\n",
      "epoch 15 | loss: 1.24919 |  0:00:05s\n",
      "epoch 16 | loss: 1.24625 |  0:00:05s\n",
      "epoch 17 | loss: 1.24245 |  0:00:06s\n",
      "epoch 18 | loss: 1.24274 |  0:00:06s\n",
      "epoch 19 | loss: 1.24413 |  0:00:06s\n",
      "epoch 20 | loss: 1.23443 |  0:00:07s\n",
      "epoch 21 | loss: 1.23507 |  0:00:07s\n",
      "epoch 22 | loss: 1.23677 |  0:00:07s\n",
      "epoch 23 | loss: 1.23518 |  0:00:08s\n",
      "epoch 24 | loss: 1.23051 |  0:00:08s\n",
      "epoch 25 | loss: 1.23017 |  0:00:08s\n",
      "epoch 26 | loss: 1.22678 |  0:00:09s\n",
      "epoch 27 | loss: 1.22726 |  0:00:09s\n",
      "epoch 28 | loss: 1.23073 |  0:00:09s\n",
      "epoch 29 | loss: 1.22687 |  0:00:10s\n",
      "epoch 30 | loss: 1.22834 |  0:00:10s\n",
      "epoch 31 | loss: 1.21907 |  0:00:10s\n",
      "epoch 32 | loss: 1.23112 |  0:00:11s\n",
      "epoch 33 | loss: 1.22609 |  0:00:11s\n",
      "epoch 34 | loss: 1.22111 |  0:00:11s\n",
      "epoch 35 | loss: 1.21784 |  0:00:12s\n",
      "epoch 36 | loss: 1.21923 |  0:00:12s\n",
      "epoch 37 | loss: 1.22069 |  0:00:12s\n",
      "epoch 38 | loss: 1.21519 |  0:00:13s\n",
      "epoch 39 | loss: 1.21272 |  0:00:13s\n",
      "epoch 40 | loss: 1.21147 |  0:00:13s\n",
      "epoch 41 | loss: 1.20976 |  0:00:14s\n",
      "epoch 42 | loss: 1.20748 |  0:00:14s\n",
      "epoch 43 | loss: 1.21082 |  0:00:14s\n",
      "epoch 44 | loss: 1.21225 |  0:00:15s\n",
      "epoch 45 | loss: 1.21281 |  0:00:15s\n",
      "epoch 46 | loss: 1.20747 |  0:00:15s\n",
      "epoch 47 | loss: 1.21223 |  0:00:16s\n",
      "epoch 48 | loss: 1.20692 |  0:00:16s\n",
      "epoch 49 | loss: 1.20571 |  0:00:16s\n",
      "epoch 50 | loss: 1.20316 |  0:00:17s\n",
      "epoch 51 | loss: 1.19794 |  0:00:17s\n",
      "epoch 52 | loss: 1.19716 |  0:00:18s\n",
      "epoch 53 | loss: 1.20196 |  0:00:18s\n",
      "epoch 54 | loss: 1.1983  |  0:00:18s\n",
      "epoch 55 | loss: 1.19875 |  0:00:19s\n",
      "epoch 56 | loss: 1.19891 |  0:00:19s\n",
      "epoch 57 | loss: 1.19747 |  0:00:20s\n",
      "epoch 58 | loss: 1.18246 |  0:00:20s\n",
      "epoch 59 | loss: 1.19561 |  0:00:20s\n",
      "epoch 60 | loss: 1.19037 |  0:00:21s\n",
      "epoch 61 | loss: 1.18685 |  0:00:21s\n",
      "epoch 62 | loss: 1.18575 |  0:00:22s\n",
      "epoch 63 | loss: 1.18212 |  0:00:22s\n",
      "epoch 64 | loss: 1.18526 |  0:00:22s\n",
      "epoch 65 | loss: 1.18601 |  0:00:23s\n",
      "epoch 66 | loss: 1.18309 |  0:00:23s\n",
      "epoch 67 | loss: 1.18748 |  0:00:23s\n",
      "epoch 68 | loss: 1.18388 |  0:00:24s\n",
      "epoch 69 | loss: 1.17873 |  0:00:24s\n",
      "epoch 70 | loss: 1.18823 |  0:00:25s\n",
      "epoch 71 | loss: 1.18835 |  0:00:25s\n",
      "epoch 72 | loss: 1.17696 |  0:00:25s\n",
      "epoch 73 | loss: 1.17187 |  0:00:26s\n",
      "epoch 74 | loss: 1.17617 |  0:00:26s\n",
      "epoch 75 | loss: 1.17187 |  0:00:26s\n",
      "epoch 76 | loss: 1.17745 |  0:00:27s\n",
      "epoch 77 | loss: 1.17911 |  0:00:27s\n",
      "epoch 78 | loss: 1.17676 |  0:00:28s\n",
      "epoch 79 | loss: 1.17404 |  0:00:28s\n",
      "epoch 80 | loss: 1.16911 |  0:00:28s\n",
      "epoch 81 | loss: 1.17137 |  0:00:29s\n",
      "epoch 82 | loss: 1.16757 |  0:00:29s\n",
      "epoch 83 | loss: 1.17282 |  0:00:29s\n",
      "epoch 84 | loss: 1.16786 |  0:00:30s\n",
      "epoch 85 | loss: 1.1667  |  0:00:30s\n",
      "epoch 86 | loss: 1.18051 |  0:00:30s\n",
      "epoch 87 | loss: 1.16866 |  0:00:31s\n",
      "epoch 88 | loss: 1.17077 |  0:00:31s\n",
      "epoch 89 | loss: 1.17707 |  0:00:32s\n",
      "epoch 90 | loss: 1.17707 |  0:00:32s\n",
      "epoch 91 | loss: 1.17936 |  0:00:32s\n",
      "epoch 92 | loss: 1.18756 |  0:00:33s\n",
      "epoch 93 | loss: 1.17387 |  0:00:33s\n",
      "epoch 94 | loss: 1.1704  |  0:00:33s\n",
      "epoch 95 | loss: 1.16847 |  0:00:34s\n",
      "epoch 96 | loss: 1.16928 |  0:00:34s\n",
      "epoch 97 | loss: 1.16105 |  0:00:35s\n",
      "epoch 98 | loss: 1.15975 |  0:00:35s\n",
      "epoch 99 | loss: 1.17484 |  0:00:35s\n"
     ]
    }
   ],
   "source": [
    "tabnet_clf = TabNetClassifier()\n",
    "# Entrenar el modelo\n",
    "tabnet_clf.fit(X_train, y_train, max_epochs=100, patience=10, batch_size=256, virtual_batch_size=128,num_workers=0)"
   ]
  },
  {
   "cell_type": "code",
   "execution_count": 98,
   "metadata": {},
   "outputs": [],
   "source": [
    "### Hyperparameters Tuning\n",
    "\"\"\"\n",
    "space = {\n",
    "    'n_d': hp.choice('n_d', range(1, 64)),\n",
    "    'n_a': hp.choice('n_a', range(1, 64)),\n",
    "    'n_steps': hp.choice('n_steps', range(1, 10)),\n",
    "    'gamma': hp.uniform('gamma', 1.0, 2.0),\n",
    "    'n_independent': hp.choice('n_independent', range(1, 10)),\n",
    "    'n_shared': hp.choice('n_shared', range(1, 10)),\n",
    "    'lambda_sparse': hp.loguniform('lambda_sparse', -5, 0),\n",
    "    'optimizer_params': {\n",
    "        'lr': hp.loguniform('lr', -5, 0),\n",
    "        'weight_decay': hp.loguniform('weight_decay', -5, 0)\n",
    "    },\n",
    "    'max_epochs': 50,\n",
    "    'patience': 10,\n",
    "    'batch_size': 256,\n",
    "    'virtual_batch_size': 128\n",
    "}\n",
    "\n",
    "def objective(params):\n",
    "    model = TabNetClassifier(\n",
    "        n_d=int(params['n_d']),\n",
    "        n_a=int(params['n_a']),\n",
    "        n_steps=int(params['n_steps']),\n",
    "        gamma=params['gamma'],\n",
    "        n_independent=int(params['n_independent']),\n",
    "        n_shared=int(params['n_shared']),\n",
    "        lambda_sparse=params['lambda_sparse'],\n",
    "        optimizer_params=params['optimizer_params'],\n",
    "        output_dim=5,\n",
    "       \n",
    "       \n",
    "    )\n",
    "    model.fit(X_train, y_train, max_epochs=params['max_epochs'], \n",
    "    patience=params['patience'], batch_size=params['batch_size'],\n",
    "    #eval_set=[(X_val, y_val)],   # Aquí se especifica el conjunto de validación\n",
    "    #eval_name=['val'],\n",
    "     virtual_batch_size=params['virtual_batch_size'], num_workers=0)\n",
    "    labels = np.unique(y_train )\n",
    "    preds = model.predict(X_test)\n",
    "    \n",
    "    y_probas = model.predict_proba(X_test)\n",
    "\n",
    "    loss = log_loss(y_test, y_probas)\n",
    "    y_pred_classes = np.argmax(y_probas, axis=1)\n",
    "    print(\"Clases predichas en el conjunto de validación:\", np.unique(y_pred_classes))\n",
    "    # Calcula la métrica de evaluación, asegurando que las etiquetas estén bien definidas\n",
    "    #accuracy = accuracy_score(y_val, y_pred)\n",
    "    #report = classification_report(y_val, y_pred, labels=labels, output_dict=True)\n",
    "    loss = log_loss(y_test, preds)\n",
    "    return {'loss': loss, 'status': STATUS_OK}\n",
    "\"\"\"\""
   ]
  },
  {
   "cell_type": "code",
   "execution_count": 99,
   "metadata": {},
   "outputs": [
    {
     "name": "stdout",
     "output_type": "stream",
     "text": [
      "epoch 0  | loss: 2.32689 |  0:00:02s                  \n",
      "epoch 1  | loss: 1.6474  |  0:00:04s                  \n",
      "epoch 2  | loss: 1.54464 |  0:00:06s                  \n",
      "epoch 3  | loss: 1.52023 |  0:00:08s                  \n",
      "epoch 4  | loss: 1.51504 |  0:00:10s                  \n",
      "epoch 5  | loss: 1.50143 |  0:00:12s                  \n",
      "epoch 6  | loss: 1.51093 |  0:00:15s                  \n",
      "epoch 7  | loss: 1.50339 |  0:00:18s                  \n",
      "epoch 8  | loss: 1.50164 |  0:00:20s                  \n",
      "epoch 9  | loss: 1.49769 |  0:00:23s                  \n",
      "epoch 10 | loss: 1.50238 |  0:00:26s                  \n",
      "epoch 11 | loss: 1.49635 |  0:00:30s                  \n",
      "epoch 12 | loss: 1.50393 |  0:00:37s                  \n",
      "epoch 13 | loss: 1.49692 |  0:00:44s                  \n",
      "epoch 14 | loss: 1.49815 |  0:00:52s                  \n",
      "epoch 15 | loss: 1.50568 |  0:01:01s                  \n",
      "epoch 16 | loss: 1.49621 |  0:01:10s                  \n",
      "epoch 17 | loss: 1.5298  |  0:01:20s                  \n",
      "epoch 18 | loss: 1.54215 |  0:01:29s                  \n",
      "epoch 19 | loss: 1.54035 |  0:01:38s                  \n",
      "epoch 20 | loss: 1.53445 |  0:01:46s                  \n",
      "epoch 21 | loss: 1.54769 |  0:01:55s                  \n",
      "epoch 22 | loss: 1.54371 |  0:02:05s                  \n",
      "epoch 23 | loss: 1.54351 |  0:02:15s                  \n",
      "epoch 24 | loss: 1.53851 |  0:02:23s                  \n",
      "epoch 25 | loss: 1.53608 |  0:02:29s                  \n",
      "epoch 26 | loss: 1.53414 |  0:02:36s                  \n",
      "epoch 27 | loss: 1.5365  |  0:02:43s                  \n",
      "epoch 28 | loss: 1.53874 |  0:02:50s                  \n",
      "epoch 29 | loss: 1.53665 |  0:02:59s                  \n",
      "epoch 30 | loss: 1.53561 |  0:03:10s                  \n",
      "epoch 31 | loss: 1.53775 |  0:03:20s                  \n",
      "epoch 32 | loss: 1.53819 |  0:03:30s                  \n",
      "epoch 33 | loss: 1.53888 |  0:03:39s                  \n",
      "epoch 34 | loss: 1.54034 |  0:03:48s                  \n",
      "epoch 35 | loss: 1.5367  |  0:03:57s                  \n",
      "epoch 36 | loss: 1.54463 |  0:04:05s                  \n",
      "epoch 37 | loss: 1.54006 |  0:04:11s                  \n",
      "epoch 38 | loss: 1.54803 |  0:04:17s                  \n",
      "epoch 39 | loss: 1.54142 |  0:04:23s                  \n",
      "epoch 40 | loss: 1.53864 |  0:04:28s                  \n",
      "epoch 41 | loss: 1.53848 |  0:04:34s                  \n",
      "epoch 42 | loss: 1.54205 |  0:04:39s                  \n",
      "epoch 43 | loss: 1.54157 |  0:04:44s                  \n",
      "epoch 44 | loss: 1.5402  |  0:04:49s                  \n",
      "epoch 45 | loss: 1.53888 |  0:04:54s                  \n",
      "epoch 46 | loss: 1.53835 |  0:05:00s                  \n",
      "epoch 47 | loss: 1.53664 |  0:05:06s                  \n",
      "epoch 48 | loss: 1.54234 |  0:05:12s                  \n",
      "epoch 49 | loss: 1.53886 |  0:05:20s                  \n",
      "Clases predichas en el conjunto de validación:        \n",
      "[4]                                                   \n",
      "  0%|          | 0/10 [05:22<?, ?trial/s, best loss=?]"
     ]
    },
    {
     "name": "stderr",
     "output_type": "stream",
     "text": [
      "job exception: y_true and y_pred contain different number of classes 5, 2. Please provide the true labels explicitly through the labels argument. Classes found in y_true: [0 1 2 3 4]\n",
      "\n"
     ]
    },
    {
     "name": "stdout",
     "output_type": "stream",
     "text": [
      "  0%|          | 0/10 [05:22<?, ?trial/s, best loss=?]\n"
     ]
    },
    {
     "ename": "ValueError",
     "evalue": "y_true and y_pred contain different number of classes 5, 2. Please provide the true labels explicitly through the labels argument. Classes found in y_true: [0 1 2 3 4]",
     "output_type": "error",
     "traceback": [
      "\u001b[0;31m---------------------------------------------------------------------------\u001b[0m",
      "\u001b[0;31mValueError\u001b[0m                                Traceback (most recent call last)",
      "Cell \u001b[0;32mIn[99], line 2\u001b[0m\n\u001b[1;32m      1\u001b[0m trials \u001b[38;5;241m=\u001b[39m Trials()\n\u001b[0;32m----> 2\u001b[0m best \u001b[38;5;241m=\u001b[39m \u001b[43mfmin\u001b[49m\u001b[43m(\u001b[49m\u001b[43mfn\u001b[49m\u001b[38;5;241;43m=\u001b[39;49m\u001b[43mobjective\u001b[49m\u001b[43m,\u001b[49m\u001b[43m \u001b[49m\u001b[43mspace\u001b[49m\u001b[38;5;241;43m=\u001b[39;49m\u001b[43mspace\u001b[49m\u001b[43m,\u001b[49m\u001b[43m \u001b[49m\u001b[43malgo\u001b[49m\u001b[38;5;241;43m=\u001b[39;49m\u001b[43mtpe\u001b[49m\u001b[38;5;241;43m.\u001b[39;49m\u001b[43msuggest\u001b[49m\u001b[43m,\u001b[49m\u001b[43m \u001b[49m\u001b[43mmax_evals\u001b[49m\u001b[38;5;241;43m=\u001b[39;49m\u001b[38;5;241;43m10\u001b[39;49m\u001b[43m,\u001b[49m\u001b[43m \u001b[49m\u001b[43mtrials\u001b[49m\u001b[38;5;241;43m=\u001b[39;49m\u001b[43mtrials\u001b[49m\u001b[43m)\u001b[49m\n",
      "File \u001b[0;32m/home/zeus/miniconda3/envs/cloudspace/lib/python3.10/site-packages/hyperopt/fmin.py:540\u001b[0m, in \u001b[0;36mfmin\u001b[0;34m(fn, space, algo, max_evals, timeout, loss_threshold, trials, rstate, allow_trials_fmin, pass_expr_memo_ctrl, catch_eval_exceptions, verbose, return_argmin, points_to_evaluate, max_queue_len, show_progressbar, early_stop_fn, trials_save_file)\u001b[0m\n\u001b[1;32m    537\u001b[0m     fn \u001b[38;5;241m=\u001b[39m __objective_fmin_wrapper(fn)\n\u001b[1;32m    539\u001b[0m \u001b[38;5;28;01mif\u001b[39;00m allow_trials_fmin \u001b[38;5;129;01mand\u001b[39;00m \u001b[38;5;28mhasattr\u001b[39m(trials, \u001b[38;5;124m\"\u001b[39m\u001b[38;5;124mfmin\u001b[39m\u001b[38;5;124m\"\u001b[39m):\n\u001b[0;32m--> 540\u001b[0m     \u001b[38;5;28;01mreturn\u001b[39;00m \u001b[43mtrials\u001b[49m\u001b[38;5;241;43m.\u001b[39;49m\u001b[43mfmin\u001b[49m\u001b[43m(\u001b[49m\n\u001b[1;32m    541\u001b[0m \u001b[43m        \u001b[49m\u001b[43mfn\u001b[49m\u001b[43m,\u001b[49m\n\u001b[1;32m    542\u001b[0m \u001b[43m        \u001b[49m\u001b[43mspace\u001b[49m\u001b[43m,\u001b[49m\n\u001b[1;32m    543\u001b[0m \u001b[43m        \u001b[49m\u001b[43malgo\u001b[49m\u001b[38;5;241;43m=\u001b[39;49m\u001b[43malgo\u001b[49m\u001b[43m,\u001b[49m\n\u001b[1;32m    544\u001b[0m \u001b[43m        \u001b[49m\u001b[43mmax_evals\u001b[49m\u001b[38;5;241;43m=\u001b[39;49m\u001b[43mmax_evals\u001b[49m\u001b[43m,\u001b[49m\n\u001b[1;32m    545\u001b[0m \u001b[43m        \u001b[49m\u001b[43mtimeout\u001b[49m\u001b[38;5;241;43m=\u001b[39;49m\u001b[43mtimeout\u001b[49m\u001b[43m,\u001b[49m\n\u001b[1;32m    546\u001b[0m \u001b[43m        \u001b[49m\u001b[43mloss_threshold\u001b[49m\u001b[38;5;241;43m=\u001b[39;49m\u001b[43mloss_threshold\u001b[49m\u001b[43m,\u001b[49m\n\u001b[1;32m    547\u001b[0m \u001b[43m        \u001b[49m\u001b[43mmax_queue_len\u001b[49m\u001b[38;5;241;43m=\u001b[39;49m\u001b[43mmax_queue_len\u001b[49m\u001b[43m,\u001b[49m\n\u001b[1;32m    548\u001b[0m \u001b[43m        \u001b[49m\u001b[43mrstate\u001b[49m\u001b[38;5;241;43m=\u001b[39;49m\u001b[43mrstate\u001b[49m\u001b[43m,\u001b[49m\n\u001b[1;32m    549\u001b[0m \u001b[43m        \u001b[49m\u001b[43mpass_expr_memo_ctrl\u001b[49m\u001b[38;5;241;43m=\u001b[39;49m\u001b[43mpass_expr_memo_ctrl\u001b[49m\u001b[43m,\u001b[49m\n\u001b[1;32m    550\u001b[0m \u001b[43m        \u001b[49m\u001b[43mverbose\u001b[49m\u001b[38;5;241;43m=\u001b[39;49m\u001b[43mverbose\u001b[49m\u001b[43m,\u001b[49m\n\u001b[1;32m    551\u001b[0m \u001b[43m        \u001b[49m\u001b[43mcatch_eval_exceptions\u001b[49m\u001b[38;5;241;43m=\u001b[39;49m\u001b[43mcatch_eval_exceptions\u001b[49m\u001b[43m,\u001b[49m\n\u001b[1;32m    552\u001b[0m \u001b[43m        \u001b[49m\u001b[43mreturn_argmin\u001b[49m\u001b[38;5;241;43m=\u001b[39;49m\u001b[43mreturn_argmin\u001b[49m\u001b[43m,\u001b[49m\n\u001b[1;32m    553\u001b[0m \u001b[43m        \u001b[49m\u001b[43mshow_progressbar\u001b[49m\u001b[38;5;241;43m=\u001b[39;49m\u001b[43mshow_progressbar\u001b[49m\u001b[43m,\u001b[49m\n\u001b[1;32m    554\u001b[0m \u001b[43m        \u001b[49m\u001b[43mearly_stop_fn\u001b[49m\u001b[38;5;241;43m=\u001b[39;49m\u001b[43mearly_stop_fn\u001b[49m\u001b[43m,\u001b[49m\n\u001b[1;32m    555\u001b[0m \u001b[43m        \u001b[49m\u001b[43mtrials_save_file\u001b[49m\u001b[38;5;241;43m=\u001b[39;49m\u001b[43mtrials_save_file\u001b[49m\u001b[43m,\u001b[49m\n\u001b[1;32m    556\u001b[0m \u001b[43m    \u001b[49m\u001b[43m)\u001b[49m\n\u001b[1;32m    558\u001b[0m \u001b[38;5;28;01mif\u001b[39;00m trials \u001b[38;5;129;01mis\u001b[39;00m \u001b[38;5;28;01mNone\u001b[39;00m:\n\u001b[1;32m    559\u001b[0m     \u001b[38;5;28;01mif\u001b[39;00m os\u001b[38;5;241m.\u001b[39mpath\u001b[38;5;241m.\u001b[39mexists(trials_save_file):\n",
      "File \u001b[0;32m/home/zeus/miniconda3/envs/cloudspace/lib/python3.10/site-packages/hyperopt/base.py:671\u001b[0m, in \u001b[0;36mTrials.fmin\u001b[0;34m(self, fn, space, algo, max_evals, timeout, loss_threshold, max_queue_len, rstate, verbose, pass_expr_memo_ctrl, catch_eval_exceptions, return_argmin, show_progressbar, early_stop_fn, trials_save_file)\u001b[0m\n\u001b[1;32m    666\u001b[0m \u001b[38;5;66;03m# -- Stop-gap implementation!\u001b[39;00m\n\u001b[1;32m    667\u001b[0m \u001b[38;5;66;03m#    fmin should have been a Trials method in the first place\u001b[39;00m\n\u001b[1;32m    668\u001b[0m \u001b[38;5;66;03m#    but for now it's still sitting in another file.\u001b[39;00m\n\u001b[1;32m    669\u001b[0m \u001b[38;5;28;01mfrom\u001b[39;00m \u001b[38;5;21;01m.\u001b[39;00m\u001b[38;5;21;01mfmin\u001b[39;00m \u001b[38;5;28;01mimport\u001b[39;00m fmin\n\u001b[0;32m--> 671\u001b[0m \u001b[38;5;28;01mreturn\u001b[39;00m \u001b[43mfmin\u001b[49m\u001b[43m(\u001b[49m\n\u001b[1;32m    672\u001b[0m \u001b[43m    \u001b[49m\u001b[43mfn\u001b[49m\u001b[43m,\u001b[49m\n\u001b[1;32m    673\u001b[0m \u001b[43m    \u001b[49m\u001b[43mspace\u001b[49m\u001b[43m,\u001b[49m\n\u001b[1;32m    674\u001b[0m \u001b[43m    \u001b[49m\u001b[43malgo\u001b[49m\u001b[38;5;241;43m=\u001b[39;49m\u001b[43malgo\u001b[49m\u001b[43m,\u001b[49m\n\u001b[1;32m    675\u001b[0m \u001b[43m    \u001b[49m\u001b[43mmax_evals\u001b[49m\u001b[38;5;241;43m=\u001b[39;49m\u001b[43mmax_evals\u001b[49m\u001b[43m,\u001b[49m\n\u001b[1;32m    676\u001b[0m \u001b[43m    \u001b[49m\u001b[43mtimeout\u001b[49m\u001b[38;5;241;43m=\u001b[39;49m\u001b[43mtimeout\u001b[49m\u001b[43m,\u001b[49m\n\u001b[1;32m    677\u001b[0m \u001b[43m    \u001b[49m\u001b[43mloss_threshold\u001b[49m\u001b[38;5;241;43m=\u001b[39;49m\u001b[43mloss_threshold\u001b[49m\u001b[43m,\u001b[49m\n\u001b[1;32m    678\u001b[0m \u001b[43m    \u001b[49m\u001b[43mtrials\u001b[49m\u001b[38;5;241;43m=\u001b[39;49m\u001b[38;5;28;43mself\u001b[39;49m\u001b[43m,\u001b[49m\n\u001b[1;32m    679\u001b[0m \u001b[43m    \u001b[49m\u001b[43mrstate\u001b[49m\u001b[38;5;241;43m=\u001b[39;49m\u001b[43mrstate\u001b[49m\u001b[43m,\u001b[49m\n\u001b[1;32m    680\u001b[0m \u001b[43m    \u001b[49m\u001b[43mverbose\u001b[49m\u001b[38;5;241;43m=\u001b[39;49m\u001b[43mverbose\u001b[49m\u001b[43m,\u001b[49m\n\u001b[1;32m    681\u001b[0m \u001b[43m    \u001b[49m\u001b[43mmax_queue_len\u001b[49m\u001b[38;5;241;43m=\u001b[39;49m\u001b[43mmax_queue_len\u001b[49m\u001b[43m,\u001b[49m\n\u001b[1;32m    682\u001b[0m \u001b[43m    \u001b[49m\u001b[43mallow_trials_fmin\u001b[49m\u001b[38;5;241;43m=\u001b[39;49m\u001b[38;5;28;43;01mFalse\u001b[39;49;00m\u001b[43m,\u001b[49m\u001b[43m  \u001b[49m\u001b[38;5;66;43;03m# -- prevent recursion\u001b[39;49;00m\n\u001b[1;32m    683\u001b[0m \u001b[43m    \u001b[49m\u001b[43mpass_expr_memo_ctrl\u001b[49m\u001b[38;5;241;43m=\u001b[39;49m\u001b[43mpass_expr_memo_ctrl\u001b[49m\u001b[43m,\u001b[49m\n\u001b[1;32m    684\u001b[0m \u001b[43m    \u001b[49m\u001b[43mcatch_eval_exceptions\u001b[49m\u001b[38;5;241;43m=\u001b[39;49m\u001b[43mcatch_eval_exceptions\u001b[49m\u001b[43m,\u001b[49m\n\u001b[1;32m    685\u001b[0m \u001b[43m    \u001b[49m\u001b[43mreturn_argmin\u001b[49m\u001b[38;5;241;43m=\u001b[39;49m\u001b[43mreturn_argmin\u001b[49m\u001b[43m,\u001b[49m\n\u001b[1;32m    686\u001b[0m \u001b[43m    \u001b[49m\u001b[43mshow_progressbar\u001b[49m\u001b[38;5;241;43m=\u001b[39;49m\u001b[43mshow_progressbar\u001b[49m\u001b[43m,\u001b[49m\n\u001b[1;32m    687\u001b[0m \u001b[43m    \u001b[49m\u001b[43mearly_stop_fn\u001b[49m\u001b[38;5;241;43m=\u001b[39;49m\u001b[43mearly_stop_fn\u001b[49m\u001b[43m,\u001b[49m\n\u001b[1;32m    688\u001b[0m \u001b[43m    \u001b[49m\u001b[43mtrials_save_file\u001b[49m\u001b[38;5;241;43m=\u001b[39;49m\u001b[43mtrials_save_file\u001b[49m\u001b[43m,\u001b[49m\n\u001b[1;32m    689\u001b[0m \u001b[43m\u001b[49m\u001b[43m)\u001b[49m\n",
      "File \u001b[0;32m/home/zeus/miniconda3/envs/cloudspace/lib/python3.10/site-packages/hyperopt/fmin.py:586\u001b[0m, in \u001b[0;36mfmin\u001b[0;34m(fn, space, algo, max_evals, timeout, loss_threshold, trials, rstate, allow_trials_fmin, pass_expr_memo_ctrl, catch_eval_exceptions, verbose, return_argmin, points_to_evaluate, max_queue_len, show_progressbar, early_stop_fn, trials_save_file)\u001b[0m\n\u001b[1;32m    583\u001b[0m rval\u001b[38;5;241m.\u001b[39mcatch_eval_exceptions \u001b[38;5;241m=\u001b[39m catch_eval_exceptions\n\u001b[1;32m    585\u001b[0m \u001b[38;5;66;03m# next line is where the fmin is actually executed\u001b[39;00m\n\u001b[0;32m--> 586\u001b[0m \u001b[43mrval\u001b[49m\u001b[38;5;241;43m.\u001b[39;49m\u001b[43mexhaust\u001b[49m\u001b[43m(\u001b[49m\u001b[43m)\u001b[49m\n\u001b[1;32m    588\u001b[0m \u001b[38;5;28;01mif\u001b[39;00m return_argmin:\n\u001b[1;32m    589\u001b[0m     \u001b[38;5;28;01mif\u001b[39;00m \u001b[38;5;28mlen\u001b[39m(trials\u001b[38;5;241m.\u001b[39mtrials) \u001b[38;5;241m==\u001b[39m \u001b[38;5;241m0\u001b[39m:\n",
      "File \u001b[0;32m/home/zeus/miniconda3/envs/cloudspace/lib/python3.10/site-packages/hyperopt/fmin.py:364\u001b[0m, in \u001b[0;36mFMinIter.exhaust\u001b[0;34m(self)\u001b[0m\n\u001b[1;32m    362\u001b[0m \u001b[38;5;28;01mdef\u001b[39;00m \u001b[38;5;21mexhaust\u001b[39m(\u001b[38;5;28mself\u001b[39m):\n\u001b[1;32m    363\u001b[0m     n_done \u001b[38;5;241m=\u001b[39m \u001b[38;5;28mlen\u001b[39m(\u001b[38;5;28mself\u001b[39m\u001b[38;5;241m.\u001b[39mtrials)\n\u001b[0;32m--> 364\u001b[0m     \u001b[38;5;28;43mself\u001b[39;49m\u001b[38;5;241;43m.\u001b[39;49m\u001b[43mrun\u001b[49m\u001b[43m(\u001b[49m\u001b[38;5;28;43mself\u001b[39;49m\u001b[38;5;241;43m.\u001b[39;49m\u001b[43mmax_evals\u001b[49m\u001b[43m \u001b[49m\u001b[38;5;241;43m-\u001b[39;49m\u001b[43m \u001b[49m\u001b[43mn_done\u001b[49m\u001b[43m,\u001b[49m\u001b[43m \u001b[49m\u001b[43mblock_until_done\u001b[49m\u001b[38;5;241;43m=\u001b[39;49m\u001b[38;5;28;43mself\u001b[39;49m\u001b[38;5;241;43m.\u001b[39;49m\u001b[43masynchronous\u001b[49m\u001b[43m)\u001b[49m\n\u001b[1;32m    365\u001b[0m     \u001b[38;5;28mself\u001b[39m\u001b[38;5;241m.\u001b[39mtrials\u001b[38;5;241m.\u001b[39mrefresh()\n\u001b[1;32m    366\u001b[0m     \u001b[38;5;28;01mreturn\u001b[39;00m \u001b[38;5;28mself\u001b[39m\n",
      "File \u001b[0;32m/home/zeus/miniconda3/envs/cloudspace/lib/python3.10/site-packages/hyperopt/fmin.py:300\u001b[0m, in \u001b[0;36mFMinIter.run\u001b[0;34m(self, N, block_until_done)\u001b[0m\n\u001b[1;32m    297\u001b[0m     time\u001b[38;5;241m.\u001b[39msleep(\u001b[38;5;28mself\u001b[39m\u001b[38;5;241m.\u001b[39mpoll_interval_secs)\n\u001b[1;32m    298\u001b[0m \u001b[38;5;28;01melse\u001b[39;00m:\n\u001b[1;32m    299\u001b[0m     \u001b[38;5;66;03m# -- loop over trials and do the jobs directly\u001b[39;00m\n\u001b[0;32m--> 300\u001b[0m     \u001b[38;5;28;43mself\u001b[39;49m\u001b[38;5;241;43m.\u001b[39;49m\u001b[43mserial_evaluate\u001b[49m\u001b[43m(\u001b[49m\u001b[43m)\u001b[49m\n\u001b[1;32m    302\u001b[0m \u001b[38;5;28mself\u001b[39m\u001b[38;5;241m.\u001b[39mtrials\u001b[38;5;241m.\u001b[39mrefresh()\n\u001b[1;32m    303\u001b[0m \u001b[38;5;28;01mif\u001b[39;00m \u001b[38;5;28mself\u001b[39m\u001b[38;5;241m.\u001b[39mtrials_save_file \u001b[38;5;241m!=\u001b[39m \u001b[38;5;124m\"\u001b[39m\u001b[38;5;124m\"\u001b[39m:\n",
      "File \u001b[0;32m/home/zeus/miniconda3/envs/cloudspace/lib/python3.10/site-packages/hyperopt/fmin.py:178\u001b[0m, in \u001b[0;36mFMinIter.serial_evaluate\u001b[0;34m(self, N)\u001b[0m\n\u001b[1;32m    176\u001b[0m ctrl \u001b[38;5;241m=\u001b[39m base\u001b[38;5;241m.\u001b[39mCtrl(\u001b[38;5;28mself\u001b[39m\u001b[38;5;241m.\u001b[39mtrials, current_trial\u001b[38;5;241m=\u001b[39mtrial)\n\u001b[1;32m    177\u001b[0m \u001b[38;5;28;01mtry\u001b[39;00m:\n\u001b[0;32m--> 178\u001b[0m     result \u001b[38;5;241m=\u001b[39m \u001b[38;5;28;43mself\u001b[39;49m\u001b[38;5;241;43m.\u001b[39;49m\u001b[43mdomain\u001b[49m\u001b[38;5;241;43m.\u001b[39;49m\u001b[43mevaluate\u001b[49m\u001b[43m(\u001b[49m\u001b[43mspec\u001b[49m\u001b[43m,\u001b[49m\u001b[43m \u001b[49m\u001b[43mctrl\u001b[49m\u001b[43m)\u001b[49m\n\u001b[1;32m    179\u001b[0m \u001b[38;5;28;01mexcept\u001b[39;00m \u001b[38;5;167;01mException\u001b[39;00m \u001b[38;5;28;01mas\u001b[39;00m e:\n\u001b[1;32m    180\u001b[0m     logger\u001b[38;5;241m.\u001b[39merror(\u001b[38;5;124m\"\u001b[39m\u001b[38;5;124mjob exception: \u001b[39m\u001b[38;5;132;01m%s\u001b[39;00m\u001b[38;5;124m\"\u001b[39m \u001b[38;5;241m%\u001b[39m \u001b[38;5;28mstr\u001b[39m(e))\n",
      "File \u001b[0;32m/home/zeus/miniconda3/envs/cloudspace/lib/python3.10/site-packages/hyperopt/base.py:892\u001b[0m, in \u001b[0;36mDomain.evaluate\u001b[0;34m(self, config, ctrl, attach_attachments)\u001b[0m\n\u001b[1;32m    883\u001b[0m \u001b[38;5;28;01melse\u001b[39;00m:\n\u001b[1;32m    884\u001b[0m     \u001b[38;5;66;03m# -- the \"work\" of evaluating `config` can be written\u001b[39;00m\n\u001b[1;32m    885\u001b[0m     \u001b[38;5;66;03m#    either into the pyll part (self.expr)\u001b[39;00m\n\u001b[1;32m    886\u001b[0m     \u001b[38;5;66;03m#    or the normal Python part (self.fn)\u001b[39;00m\n\u001b[1;32m    887\u001b[0m     pyll_rval \u001b[38;5;241m=\u001b[39m pyll\u001b[38;5;241m.\u001b[39mrec_eval(\n\u001b[1;32m    888\u001b[0m         \u001b[38;5;28mself\u001b[39m\u001b[38;5;241m.\u001b[39mexpr,\n\u001b[1;32m    889\u001b[0m         memo\u001b[38;5;241m=\u001b[39mmemo,\n\u001b[1;32m    890\u001b[0m         print_node_on_error\u001b[38;5;241m=\u001b[39m\u001b[38;5;28mself\u001b[39m\u001b[38;5;241m.\u001b[39mrec_eval_print_node_on_error,\n\u001b[1;32m    891\u001b[0m     )\n\u001b[0;32m--> 892\u001b[0m     rval \u001b[38;5;241m=\u001b[39m \u001b[38;5;28;43mself\u001b[39;49m\u001b[38;5;241;43m.\u001b[39;49m\u001b[43mfn\u001b[49m\u001b[43m(\u001b[49m\u001b[43mpyll_rval\u001b[49m\u001b[43m)\u001b[49m\n\u001b[1;32m    894\u001b[0m \u001b[38;5;28;01mif\u001b[39;00m \u001b[38;5;28misinstance\u001b[39m(rval, (\u001b[38;5;28mfloat\u001b[39m, \u001b[38;5;28mint\u001b[39m, np\u001b[38;5;241m.\u001b[39mnumber)):\n\u001b[1;32m    895\u001b[0m     dict_rval \u001b[38;5;241m=\u001b[39m {\u001b[38;5;124m\"\u001b[39m\u001b[38;5;124mloss\u001b[39m\u001b[38;5;124m\"\u001b[39m: \u001b[38;5;28mfloat\u001b[39m(rval), \u001b[38;5;124m\"\u001b[39m\u001b[38;5;124mstatus\u001b[39m\u001b[38;5;124m\"\u001b[39m: STATUS_OK}\n",
      "Cell \u001b[0;32mIn[98], line 51\u001b[0m, in \u001b[0;36mobjective\u001b[0;34m(params)\u001b[0m\n\u001b[1;32m     47\u001b[0m \u001b[38;5;28mprint\u001b[39m(\u001b[38;5;124m\"\u001b[39m\u001b[38;5;124mClases predichas en el conjunto de validación:\u001b[39m\u001b[38;5;124m\"\u001b[39m, np\u001b[38;5;241m.\u001b[39munique(y_pred_classes))\n\u001b[1;32m     48\u001b[0m \u001b[38;5;66;03m# Calcula la métrica de evaluación, asegurando que las etiquetas estén bien definidas\u001b[39;00m\n\u001b[1;32m     49\u001b[0m \u001b[38;5;66;03m#accuracy = accuracy_score(y_val, y_pred)\u001b[39;00m\n\u001b[1;32m     50\u001b[0m \u001b[38;5;66;03m#report = classification_report(y_val, y_pred, labels=labels, output_dict=True)\u001b[39;00m\n\u001b[0;32m---> 51\u001b[0m loss \u001b[38;5;241m=\u001b[39m \u001b[43mlog_loss\u001b[49m\u001b[43m(\u001b[49m\u001b[43my_test\u001b[49m\u001b[43m,\u001b[49m\u001b[43m \u001b[49m\u001b[43mpreds\u001b[49m\u001b[43m)\u001b[49m\n\u001b[1;32m     52\u001b[0m \u001b[38;5;28;01mreturn\u001b[39;00m {\u001b[38;5;124m'\u001b[39m\u001b[38;5;124mloss\u001b[39m\u001b[38;5;124m'\u001b[39m: loss, \u001b[38;5;124m'\u001b[39m\u001b[38;5;124mstatus\u001b[39m\u001b[38;5;124m'\u001b[39m: STATUS_OK}\n",
      "File \u001b[0;32m/home/zeus/miniconda3/envs/cloudspace/lib/python3.10/site-packages/sklearn/utils/_param_validation.py:214\u001b[0m, in \u001b[0;36mvalidate_params.<locals>.decorator.<locals>.wrapper\u001b[0;34m(*args, **kwargs)\u001b[0m\n\u001b[1;32m    208\u001b[0m \u001b[38;5;28;01mtry\u001b[39;00m:\n\u001b[1;32m    209\u001b[0m     \u001b[38;5;28;01mwith\u001b[39;00m config_context(\n\u001b[1;32m    210\u001b[0m         skip_parameter_validation\u001b[38;5;241m=\u001b[39m(\n\u001b[1;32m    211\u001b[0m             prefer_skip_nested_validation \u001b[38;5;129;01mor\u001b[39;00m global_skip_validation\n\u001b[1;32m    212\u001b[0m         )\n\u001b[1;32m    213\u001b[0m     ):\n\u001b[0;32m--> 214\u001b[0m         \u001b[38;5;28;01mreturn\u001b[39;00m \u001b[43mfunc\u001b[49m\u001b[43m(\u001b[49m\u001b[38;5;241;43m*\u001b[39;49m\u001b[43margs\u001b[49m\u001b[43m,\u001b[49m\u001b[43m \u001b[49m\u001b[38;5;241;43m*\u001b[39;49m\u001b[38;5;241;43m*\u001b[39;49m\u001b[43mkwargs\u001b[49m\u001b[43m)\u001b[49m\n\u001b[1;32m    215\u001b[0m \u001b[38;5;28;01mexcept\u001b[39;00m InvalidParameterError \u001b[38;5;28;01mas\u001b[39;00m e:\n\u001b[1;32m    216\u001b[0m     \u001b[38;5;66;03m# When the function is just a wrapper around an estimator, we allow\u001b[39;00m\n\u001b[1;32m    217\u001b[0m     \u001b[38;5;66;03m# the function to delegate validation to the estimator, but we replace\u001b[39;00m\n\u001b[1;32m    218\u001b[0m     \u001b[38;5;66;03m# the name of the estimator by the name of the function in the error\u001b[39;00m\n\u001b[1;32m    219\u001b[0m     \u001b[38;5;66;03m# message to avoid confusion.\u001b[39;00m\n\u001b[1;32m    220\u001b[0m     msg \u001b[38;5;241m=\u001b[39m re\u001b[38;5;241m.\u001b[39msub(\n\u001b[1;32m    221\u001b[0m         \u001b[38;5;124mr\u001b[39m\u001b[38;5;124m\"\u001b[39m\u001b[38;5;124mparameter of \u001b[39m\u001b[38;5;124m\\\u001b[39m\u001b[38;5;124mw+ must be\u001b[39m\u001b[38;5;124m\"\u001b[39m,\n\u001b[1;32m    222\u001b[0m         \u001b[38;5;124mf\u001b[39m\u001b[38;5;124m\"\u001b[39m\u001b[38;5;124mparameter of \u001b[39m\u001b[38;5;132;01m{\u001b[39;00mfunc\u001b[38;5;241m.\u001b[39m\u001b[38;5;18m__qualname__\u001b[39m\u001b[38;5;132;01m}\u001b[39;00m\u001b[38;5;124m must be\u001b[39m\u001b[38;5;124m\"\u001b[39m,\n\u001b[1;32m    223\u001b[0m         \u001b[38;5;28mstr\u001b[39m(e),\n\u001b[1;32m    224\u001b[0m     )\n",
      "File \u001b[0;32m/home/zeus/miniconda3/envs/cloudspace/lib/python3.10/site-packages/sklearn/metrics/_classification.py:2903\u001b[0m, in \u001b[0;36mlog_loss\u001b[0;34m(y_true, y_pred, eps, normalize, sample_weight, labels)\u001b[0m\n\u001b[1;32m   2901\u001b[0m \u001b[38;5;28;01mif\u001b[39;00m \u001b[38;5;28mlen\u001b[39m(lb\u001b[38;5;241m.\u001b[39mclasses_) \u001b[38;5;241m!=\u001b[39m y_pred\u001b[38;5;241m.\u001b[39mshape[\u001b[38;5;241m1\u001b[39m]:\n\u001b[1;32m   2902\u001b[0m     \u001b[38;5;28;01mif\u001b[39;00m labels \u001b[38;5;129;01mis\u001b[39;00m \u001b[38;5;28;01mNone\u001b[39;00m:\n\u001b[0;32m-> 2903\u001b[0m         \u001b[38;5;28;01mraise\u001b[39;00m \u001b[38;5;167;01mValueError\u001b[39;00m(\n\u001b[1;32m   2904\u001b[0m             \u001b[38;5;124m\"\u001b[39m\u001b[38;5;124my_true and y_pred contain different number of \u001b[39m\u001b[38;5;124m\"\u001b[39m\n\u001b[1;32m   2905\u001b[0m             \u001b[38;5;124m\"\u001b[39m\u001b[38;5;124mclasses \u001b[39m\u001b[38;5;132;01m{0}\u001b[39;00m\u001b[38;5;124m, \u001b[39m\u001b[38;5;132;01m{1}\u001b[39;00m\u001b[38;5;124m. Please provide the true \u001b[39m\u001b[38;5;124m\"\u001b[39m\n\u001b[1;32m   2906\u001b[0m             \u001b[38;5;124m\"\u001b[39m\u001b[38;5;124mlabels explicitly through the labels argument. \u001b[39m\u001b[38;5;124m\"\u001b[39m\n\u001b[1;32m   2907\u001b[0m             \u001b[38;5;124m\"\u001b[39m\u001b[38;5;124mClasses found in \u001b[39m\u001b[38;5;124m\"\u001b[39m\n\u001b[1;32m   2908\u001b[0m             \u001b[38;5;124m\"\u001b[39m\u001b[38;5;124my_true: \u001b[39m\u001b[38;5;132;01m{2}\u001b[39;00m\u001b[38;5;124m\"\u001b[39m\u001b[38;5;241m.\u001b[39mformat(\n\u001b[1;32m   2909\u001b[0m                 transformed_labels\u001b[38;5;241m.\u001b[39mshape[\u001b[38;5;241m1\u001b[39m], y_pred\u001b[38;5;241m.\u001b[39mshape[\u001b[38;5;241m1\u001b[39m], lb\u001b[38;5;241m.\u001b[39mclasses_\n\u001b[1;32m   2910\u001b[0m             )\n\u001b[1;32m   2911\u001b[0m         )\n\u001b[1;32m   2912\u001b[0m     \u001b[38;5;28;01melse\u001b[39;00m:\n\u001b[1;32m   2913\u001b[0m         \u001b[38;5;28;01mraise\u001b[39;00m \u001b[38;5;167;01mValueError\u001b[39;00m(\n\u001b[1;32m   2914\u001b[0m             \u001b[38;5;124m\"\u001b[39m\u001b[38;5;124mThe number of classes in labels is different \u001b[39m\u001b[38;5;124m\"\u001b[39m\n\u001b[1;32m   2915\u001b[0m             \u001b[38;5;124m\"\u001b[39m\u001b[38;5;124mfrom that in y_pred. Classes found in \u001b[39m\u001b[38;5;124m\"\u001b[39m\n\u001b[1;32m   2916\u001b[0m             \u001b[38;5;124m\"\u001b[39m\u001b[38;5;124mlabels: \u001b[39m\u001b[38;5;132;01m{0}\u001b[39;00m\u001b[38;5;124m\"\u001b[39m\u001b[38;5;241m.\u001b[39mformat(lb\u001b[38;5;241m.\u001b[39mclasses_)\n\u001b[1;32m   2917\u001b[0m         )\n",
      "\u001b[0;31mValueError\u001b[0m: y_true and y_pred contain different number of classes 5, 2. Please provide the true labels explicitly through the labels argument. Classes found in y_true: [0 1 2 3 4]"
     ]
    }
   ],
   "source": [
    "#trials = Trials()\n",
    "#best = fmin(fn=objective, space=space, algo=tpe.suggest, max_evals=10, trials=trials)"
   ]
  },
  {
   "cell_type": "code",
   "execution_count": 102,
   "metadata": {},
   "outputs": [
    {
     "name": "stdout",
     "output_type": "stream",
     "text": [
      "Log Loss: 1.2185115778588016\n",
      "Accuracy: 0.5027848101265823\n",
      "Classfication Report:               precision    recall  f1-score   support\n",
      "\n",
      "           0       0.54      0.83      0.65       551\n",
      "           1       0.22      0.02      0.04       197\n",
      "           2       0.43      0.56      0.49       418\n",
      "           3       0.46      0.32      0.38       215\n",
      "           4       0.56      0.39      0.46       594\n",
      "\n",
      "    accuracy                           0.50      1975\n",
      "   macro avg       0.44      0.42      0.40      1975\n",
      "weighted avg       0.48      0.50      0.47      1975\n",
      "\n"
     ]
    }
   ],
   "source": [
    "## Evaluation of the model\n",
    "\n",
    "y_pred = tabnet_clf.predict(X_test)\n",
    "y_proba = tabnet_clf.predict_proba(X_test)\n",
    "loss = log_loss(y_test, y_proba)\n",
    "print('Log Loss:', loss)\n",
    "print('Accuracy:', accuracy_score(y_test, y_pred))\n",
    "print('Classfication Report:', classification_report(y_test, y_pred))"
   ]
  },
  {
   "cell_type": "code",
   "execution_count": 106,
   "metadata": {},
   "outputs": [
    {
     "data": {
      "image/png": "[encoded data removed]",
      "text/plain": [
       "<Figure size 1200x800 with 1 Axes>"
      ]
     },
     "metadata": {},
     "output_type": "display_data"
    }
   ],
   "source": [
    "## Feature importance\n",
    "importances = tabnet_clf.feature_importances_\n",
    "features = df.columns[:-1]  # Suponiendo que la última columna es el target\n",
    "\n",
    "# Ordenar las importancias y los nombres de las características\n",
    "indices = np.argsort(importances)\n",
    "sorted_importances = importances[indices]\n",
    "sorted_features = features[indices]\n",
    "\n",
    "plt.figure(figsize=(12, 8))\n",
    "plt.barh(range(X.shape[1]), sorted_importances, color='skyblue')\n",
    "plt.yticks(range(X.shape[1]), sorted_features)\n",
    "plt.xlabel('Feature Importance')\n",
    "plt.ylabel('Feature')\n",
    "plt.title('TabNet Feature Importance')\n",
    "plt.savefig('feature_importance_tabnet.png')\n",
    "plt.show()"
   ]
  },
  {
   "cell_type": "code",
   "execution_count": 46,
   "metadata": {},
   "outputs": [
    {
     "name": "stdout",
     "output_type": "stream",
     "text": [
      "Log Loss: 1.2185115778588016\n",
      "Accuracy: 0.5027848101265823\n",
      "Classfication Report:               precision    recall  f1-score   support\n",
      "\n",
      "           0       0.54      0.83      0.65       551\n",
      "           1       0.22      0.02      0.04       197\n",
      "           2       0.43      0.56      0.49       418\n",
      "           3       0.46      0.32      0.38       215\n",
      "           4       0.56      0.39      0.46       594\n",
      "\n",
      "    accuracy                           0.50      1975\n",
      "   macro avg       0.44      0.42      0.40      1975\n",
      "weighted avg       0.48      0.50      0.47      1975\n",
      "\n"
     ]
    }
   ],
   "source": [
    "y_pred = tabnet_clf.predict(X_test)\n",
    "y_proba = tabnet_clf.predict_proba(X_test)\n",
    "loss = log_loss(y_test, y_proba)\n",
    "print('Log Loss:', loss)\n",
    "print('Accuracy:', accuracy_score(y_test, y_pred))\n",
    "print('Classfication Report:', classification_report(y_test, y_pred))"
   ]
  },
  {
   "cell_type": "markdown",
   "metadata": {},
   "source": [
    "## Experiments Forest Cover Type\n",
    "----"
   ]
  },
  {
   "cell_type": "code",
   "execution_count": 108,
   "metadata": {},
   "outputs": [],
   "source": [
    "base_pah = 'homeworks/data/project/'\n",
    "df_forest = pd.read_csv(base_pah + 'forest_cover.csv')"
   ]
  },
  {
   "cell_type": "code",
   "execution_count": 109,
   "metadata": {},
   "outputs": [
    {
     "data": {
      "text/plain": [
       "Index(['Id', 'Elevation', 'Aspect', 'Slope',\n",
       "       'Horizontal_Distance_To_Hydrology', 'Vertical_Distance_To_Hydrology',\n",
       "       'Horizontal_Distance_To_Roadways', 'Hillshade_9am', 'Hillshade_Noon',\n",
       "       'Hillshade_3pm', 'Horizontal_Distance_To_Fire_Points',\n",
       "       'Wilderness_Area1', 'Wilderness_Area2', 'Wilderness_Area3',\n",
       "       'Wilderness_Area4', 'Soil_Type1', 'Soil_Type2', 'Soil_Type3',\n",
       "       'Soil_Type4', 'Soil_Type5', 'Soil_Type6', 'Soil_Type7', 'Soil_Type8',\n",
       "       'Soil_Type9', 'Soil_Type10', 'Soil_Type11', 'Soil_Type12',\n",
       "       'Soil_Type13', 'Soil_Type14', 'Soil_Type15', 'Soil_Type16',\n",
       "       'Soil_Type17', 'Soil_Type18', 'Soil_Type19', 'Soil_Type20',\n",
       "       'Soil_Type21', 'Soil_Type22', 'Soil_Type23', 'Soil_Type24',\n",
       "       'Soil_Type25', 'Soil_Type26', 'Soil_Type27', 'Soil_Type28',\n",
       "       'Soil_Type29', 'Soil_Type30', 'Soil_Type31', 'Soil_Type32',\n",
       "       'Soil_Type33', 'Soil_Type34', 'Soil_Type35', 'Soil_Type36',\n",
       "       'Soil_Type37', 'Soil_Type38', 'Soil_Type39', 'Soil_Type40',\n",
       "       'Cover_Type'],\n",
       "      dtype='object')"
      ]
     },
     "execution_count": 109,
     "metadata": {},
     "output_type": "execute_result"
    }
   ],
   "source": [
    "df_forest.columns"
   ]
  },
  {
   "cell_type": "code",
   "execution_count": 110,
   "metadata": {},
   "outputs": [],
   "source": [
    "df_forest = df_forest.drop('Id', axis=1)\n",
    "df_forest = df_forest.dropna()\n",
    "X=df_forest.drop('Cover_Type', axis=1)\n",
    "y=df_forest['Cover_Type']\n",
    "\n",
    "\n",
    "X = df_forest.values[:, :-1]\n",
    "y_target = df_forest.values[:, -1]\n",
    "# Initialize the LabelEncoder\n",
    "le = LabelEncoder()\n",
    "\n",
    "# Fit and transform the data\n",
    "y = le.fit_transform(y_target)\n",
    "\n",
    "scaler = StandardScaler()\n",
    "\n",
    "# Ajustar y transformar los datos\n",
    "X_standardized = scaler.fit_transform(X)\n",
    "\n",
    "X_train, X_temp, y_train, y_temp = train_test_split(X_standardized, y, test_size=0.3, random_state=42)\n",
    "\n",
    "# Dividir el resto en validación y prueba\n",
    "X_val, X_test, y_val, y_test = train_test_split(X_temp, y_temp, test_size=2/3, random_state=42)"
   ]
  },
  {
   "cell_type": "code",
   "execution_count": 111,
   "metadata": {},
   "outputs": [
    {
     "name": "stdout",
     "output_type": "stream",
     "text": [
      "epoch 0  | loss: 1.64072 |  0:00:00s\n",
      "epoch 1  | loss: 1.06819 |  0:00:01s\n",
      "epoch 2  | loss: 0.95204 |  0:00:01s\n",
      "epoch 3  | loss: 0.90292 |  0:00:02s\n",
      "epoch 4  | loss: 0.86034 |  0:00:02s\n",
      "epoch 5  | loss: 0.84085 |  0:00:03s\n",
      "epoch 6  | loss: 0.79502 |  0:00:04s\n",
      "epoch 7  | loss: 0.77066 |  0:00:04s\n",
      "epoch 8  | loss: 0.75043 |  0:00:05s\n",
      "epoch 9  | loss: 0.74447 |  0:00:05s\n",
      "epoch 10 | loss: 0.7439  |  0:00:06s\n",
      "epoch 11 | loss: 0.72343 |  0:00:07s\n",
      "epoch 12 | loss: 0.70218 |  0:00:07s\n",
      "epoch 13 | loss: 0.68285 |  0:00:08s\n",
      "epoch 14 | loss: 0.68476 |  0:00:08s\n",
      "epoch 15 | loss: 0.66305 |  0:00:09s\n",
      "epoch 16 | loss: 0.66326 |  0:00:10s\n",
      "epoch 17 | loss: 0.65553 |  0:00:10s\n",
      "epoch 18 | loss: 0.64123 |  0:00:11s\n",
      "epoch 19 | loss: 0.64581 |  0:00:11s\n",
      "epoch 20 | loss: 0.63244 |  0:00:12s\n",
      "epoch 21 | loss: 0.6273  |  0:00:13s\n",
      "epoch 22 | loss: 0.62003 |  0:00:13s\n",
      "epoch 23 | loss: 0.62392 |  0:00:14s\n",
      "epoch 24 | loss: 0.6114  |  0:00:14s\n",
      "epoch 25 | loss: 0.60137 |  0:00:15s\n",
      "epoch 26 | loss: 0.62584 |  0:00:16s\n",
      "epoch 27 | loss: 0.61883 |  0:00:16s\n",
      "epoch 28 | loss: 0.62159 |  0:00:17s\n",
      "epoch 29 | loss: 0.60009 |  0:00:17s\n",
      "epoch 30 | loss: 0.60931 |  0:00:18s\n",
      "epoch 31 | loss: 0.59285 |  0:00:19s\n",
      "epoch 32 | loss: 0.58534 |  0:00:19s\n",
      "epoch 33 | loss: 0.58137 |  0:00:20s\n",
      "epoch 34 | loss: 0.59529 |  0:00:20s\n",
      "epoch 35 | loss: 0.57952 |  0:00:21s\n",
      "epoch 36 | loss: 0.56918 |  0:00:21s\n",
      "epoch 37 | loss: 0.55613 |  0:00:22s\n",
      "epoch 38 | loss: 0.55374 |  0:00:23s\n",
      "epoch 39 | loss: 0.55917 |  0:00:23s\n",
      "epoch 40 | loss: 0.55215 |  0:00:24s\n",
      "epoch 41 | loss: 0.55897 |  0:00:24s\n",
      "epoch 42 | loss: 0.54651 |  0:00:25s\n",
      "epoch 43 | loss: 0.5448  |  0:00:26s\n",
      "epoch 44 | loss: 0.54099 |  0:00:26s\n",
      "epoch 45 | loss: 0.54279 |  0:00:27s\n",
      "epoch 46 | loss: 0.54549 |  0:00:27s\n",
      "epoch 47 | loss: 0.55617 |  0:00:28s\n",
      "epoch 48 | loss: 0.53932 |  0:00:29s\n",
      "epoch 49 | loss: 0.52116 |  0:00:29s\n",
      "epoch 50 | loss: 0.53006 |  0:00:30s\n",
      "epoch 51 | loss: 0.52502 |  0:00:30s\n",
      "epoch 52 | loss: 0.51522 |  0:00:31s\n",
      "epoch 53 | loss: 0.51649 |  0:00:32s\n",
      "epoch 54 | loss: 0.52742 |  0:00:32s\n",
      "epoch 55 | loss: 0.51709 |  0:00:33s\n",
      "epoch 56 | loss: 0.50959 |  0:00:33s\n",
      "epoch 57 | loss: 0.5     |  0:00:34s\n",
      "epoch 58 | loss: 0.52232 |  0:00:35s\n",
      "epoch 59 | loss: 0.50236 |  0:00:35s\n",
      "epoch 60 | loss: 0.51654 |  0:00:36s\n",
      "epoch 61 | loss: 0.51574 |  0:00:36s\n",
      "epoch 62 | loss: 0.50101 |  0:00:37s\n",
      "epoch 63 | loss: 0.48793 |  0:00:37s\n",
      "epoch 64 | loss: 0.4875  |  0:00:38s\n",
      "epoch 65 | loss: 0.49278 |  0:00:39s\n",
      "epoch 66 | loss: 0.50648 |  0:00:39s\n",
      "epoch 67 | loss: 0.49253 |  0:00:40s\n",
      "epoch 68 | loss: 0.48633 |  0:00:40s\n",
      "epoch 69 | loss: 0.4888  |  0:00:41s\n",
      "epoch 70 | loss: 0.49263 |  0:00:42s\n",
      "epoch 71 | loss: 0.48167 |  0:00:42s\n",
      "epoch 72 | loss: 0.49594 |  0:00:43s\n",
      "epoch 73 | loss: 0.48575 |  0:00:43s\n",
      "epoch 74 | loss: 0.48023 |  0:00:44s\n",
      "epoch 75 | loss: 0.48005 |  0:00:45s\n",
      "epoch 76 | loss: 0.46328 |  0:00:45s\n",
      "epoch 77 | loss: 0.48736 |  0:00:46s\n",
      "epoch 78 | loss: 0.47044 |  0:00:46s\n",
      "epoch 79 | loss: 0.47477 |  0:00:47s\n",
      "epoch 80 | loss: 0.48611 |  0:00:48s\n",
      "epoch 81 | loss: 0.46477 |  0:00:48s\n",
      "epoch 82 | loss: 0.45834 |  0:00:49s\n",
      "epoch 83 | loss: 0.46229 |  0:00:49s\n",
      "epoch 84 | loss: 0.46778 |  0:00:50s\n",
      "epoch 85 | loss: 0.47213 |  0:00:51s\n",
      "epoch 86 | loss: 0.47606 |  0:00:51s\n",
      "epoch 87 | loss: 0.46434 |  0:00:52s\n",
      "epoch 88 | loss: 0.47385 |  0:00:52s\n",
      "epoch 89 | loss: 0.46138 |  0:00:53s\n",
      "epoch 90 | loss: 0.45475 |  0:00:54s\n",
      "epoch 91 | loss: 0.46345 |  0:00:54s\n",
      "epoch 92 | loss: 0.4505  |  0:00:55s\n",
      "epoch 93 | loss: 0.45062 |  0:00:55s\n",
      "epoch 94 | loss: 0.45543 |  0:00:56s\n",
      "epoch 95 | loss: 0.43318 |  0:00:56s\n",
      "epoch 96 | loss: 0.45728 |  0:00:57s\n",
      "epoch 97 | loss: 0.44611 |  0:00:58s\n",
      "epoch 98 | loss: 0.44757 |  0:00:58s\n",
      "epoch 99 | loss: 0.44431 |  0:00:59s\n"
     ]
    }
   ],
   "source": [
    "# Crear el modelo TabNetClassifier\n",
    "tabnet_clf = TabNetClassifier()\n",
    "\n",
    "# Entrenar el modelo\n",
    "tabnet_clf.fit(X_train, y_train, max_epochs=100, patience=10, batch_size=256, virtual_batch_size=128)\n"
   ]
  },
  {
   "cell_type": "code",
   "execution_count": 112,
   "metadata": {},
   "outputs": [
    {
     "name": "stdout",
     "output_type": "stream",
     "text": [
      "Log Loss: 0.5029583309231057\n"
     ]
    }
   ],
   "source": [
    "# Realizar predicciones en el conjunto de prueba\n",
    "y_pred = tabnet_clf.predict(X_test)\n",
    "y_proba = tabnet_clf.predict_proba(X_test)\n",
    "loss = log_loss(y_test, y_proba)\n",
    "print('Log Loss:', loss)\n"
   ]
  },
  {
   "cell_type": "code",
   "execution_count": 114,
   "metadata": {},
   "outputs": [
    {
     "name": "stdout",
     "output_type": "stream",
     "text": [
      "              precision    recall  f1-score   support\n",
      "\n",
      "           0       0.77      0.58      0.66       409\n",
      "           1       0.68      0.72      0.70       459\n",
      "           2       0.78      0.72      0.75       435\n",
      "           3       0.93      0.95      0.94       437\n",
      "           4       0.85      0.90      0.88       430\n",
      "           5       0.74      0.83      0.79       416\n",
      "           6       0.92      0.97      0.94       438\n",
      "\n",
      "    accuracy                           0.81      3024\n",
      "   macro avg       0.81      0.81      0.81      3024\n",
      "weighted avg       0.81      0.81      0.81      3024\n",
      "\n"
     ]
    }
   ],
   "source": [
    "# Generar el informe de clasificación\n",
    "report = classification_report(y_test, y_pred)\n",
    "print(report)\n"
   ]
  },
  {
   "cell_type": "code",
   "execution_count": 39,
   "metadata": {},
   "outputs": [
    {
     "data": {
      "image/png": "[encoded data removed]",
      "text/plain": [
       "<Figure size 640x480 with 1 Axes>"
      ]
     },
     "metadata": {},
     "output_type": "display_data"
    }
   ],
   "source": [
    "from matplotlib import pyplot as plt\n",
    "\n",
    "plt.plot(tabnet_clf.history['loss'][5:], label='Train')\n",
    "#plt.plot(tabnet_clf.history['val_0_logloss'][5:], label='Validation')\n",
    "plt.title('TabNet loss')\n",
    "plt.ylabel('loss')\n",
    "plt.xlabel('epoch')\n",
    "plt.legend(loc='upper right')\n",
    "plt.savefig('loss_curve_covertype_tabnet.png')\n",
    "plt.show()"
   ]
  },
  {
   "cell_type": "code",
   "execution_count": 41,
   "metadata": {},
   "outputs": [
    {
     "name": "stdout",
     "output_type": "stream",
     "text": [
      "              precision    recall  f1-score   support\n",
      "\n",
      "           0       0.77      0.58      0.66       409\n",
      "           1       0.68      0.72      0.70       459\n",
      "           2       0.78      0.72      0.75       435\n",
      "           3       0.93      0.95      0.94       437\n",
      "           4       0.85      0.90      0.88       430\n",
      "           5       0.74      0.83      0.79       416\n",
      "           6       0.92      0.97      0.94       438\n",
      "\n",
      "    accuracy                           0.81      3024\n",
      "   macro avg       0.81      0.81      0.81      3024\n",
      "weighted avg       0.81      0.81      0.81      3024\n",
      "\n"
     ]
    }
   ],
   "source": [
    "report = classification_report(y_true=y_test, y_pred=tabnet_clf.predict(X_test))\n",
    "print(report)"
   ]
  },
  {
   "cell_type": "markdown",
   "metadata": {},
   "source": [
    "## Experiments with Shrutime\n"
   ]
  },
  {
   "cell_type": "code",
   "execution_count": 116,
   "metadata": {},
   "outputs": [],
   "source": [
    "## Preprocessing\n",
    "base_path = 'homeworks/data/project/'\n",
    "df = pd.read_csv(base_path + 'shrutime_encoded.csv')\n",
    "X = df.values[:, :-1]\n",
    "y_target = df.values[:, -1]\n",
    "# Initialize the LabelEncoder\n",
    "le = LabelEncoder()\n",
    "# Fit and transform the data\n",
    "y = le.fit_transform(y_target)\n",
    "\n",
    "\n",
    "scaler = StandardScaler()\n",
    "\n",
    "X_standardized = scaler.fit_transform(X)\n",
    "\n",
    "## Splitting the data\n",
    "\n",
    "X_train_val, X_test, y_train_val, y_test = train_test_split(X_standardized, y, test_size=0.2, random_state=42)\n",
    "\n",
    "## Split into train and validation sets\n",
    "\n",
    "# Paso 2: Dividir el 80% de entrenamiento + validación en 70% entrenamiento y 10% validación\n",
    "X_train, X_val, y_train, y_val = train_test_split(X_train_val, y_train_val, test_size=0.125, random_state=42)\n"
   ]
  },
  {
   "cell_type": "code",
   "execution_count": 117,
   "metadata": {},
   "outputs": [
    {
     "name": "stdout",
     "output_type": "stream",
     "text": [
      "epoch 0  | loss: 0.59866 | val_0_logloss: 0.47418 |  0:00:00s\n",
      "epoch 1  | loss: 0.47193 | val_0_logloss: 0.47444 |  0:00:01s\n",
      "epoch 2  | loss: 0.44447 | val_0_logloss: 0.44857 |  0:00:02s\n",
      "epoch 3  | loss: 0.41925 | val_0_logloss: 0.36928 |  0:00:02s\n",
      "epoch 4  | loss: 0.40727 | val_0_logloss: 0.37969 |  0:00:03s\n",
      "epoch 5  | loss: 0.38251 | val_0_logloss: 0.35643 |  0:00:04s\n",
      "epoch 6  | loss: 0.37855 | val_0_logloss: 0.3434  |  0:00:05s\n",
      "epoch 7  | loss: 0.37958 | val_0_logloss: 0.3383  |  0:00:06s\n",
      "epoch 8  | loss: 0.37099 | val_0_logloss: 0.33982 |  0:00:07s\n",
      "epoch 9  | loss: 0.37424 | val_0_logloss: 0.35694 |  0:00:07s\n",
      "epoch 10 | loss: 0.37252 | val_0_logloss: 0.35158 |  0:00:08s\n",
      "epoch 11 | loss: 0.36677 | val_0_logloss: 0.34469 |  0:00:09s\n",
      "epoch 12 | loss: 0.36289 | val_0_logloss: 0.3448  |  0:00:10s\n",
      "epoch 13 | loss: 0.36351 | val_0_logloss: 0.36261 |  0:00:10s\n",
      "epoch 14 | loss: 0.36686 | val_0_logloss: 0.34023 |  0:00:11s\n",
      "epoch 15 | loss: 0.36277 | val_0_logloss: 0.35037 |  0:00:12s\n",
      "epoch 16 | loss: 0.35838 | val_0_logloss: 0.33868 |  0:00:13s\n",
      "epoch 17 | loss: 0.35963 | val_0_logloss: 0.34439 |  0:00:13s\n",
      "\n",
      "Early stopping occurred at epoch 17 with best_epoch = 7 and best_val_0_logloss = 0.3383\n"
     ]
    }
   ],
   "source": [
    "clf = TabNetClassifier(n_d=6, n_a=6,epsilon=0.01,n_steps=8,seed=42,verbose=1,)  \n",
    "clf.fit(\n",
    "  X_train, y_train,\n",
    "  eval_set=[(X_val, y_val)],\n",
    "   patience=10,\n",
    "    batch_size=256,\n",
    "    virtual_batch_size=128,\n",
    "    eval_metric=[\"logloss\"]\n",
    ")\n",
    "preds = clf.predict(X_test)"
   ]
  },
  {
   "cell_type": "code",
   "execution_count": 119,
   "metadata": {},
   "outputs": [
    {
     "name": "stdout",
     "output_type": "stream",
     "text": [
      "              precision    recall  f1-score   support\n",
      "\n",
      "           0       0.88      0.95      0.91      1607\n",
      "           1       0.69      0.49      0.57       393\n",
      "\n",
      "    accuracy                           0.86      2000\n",
      "   macro avg       0.79      0.72      0.74      2000\n",
      "weighted avg       0.85      0.86      0.85      2000\n",
      "\n"
     ]
    }
   ],
   "source": [
    "report = classification_report(y_true=y_test, y_pred=preds)\n",
    "print(report)"
   ]
  }
 ],
 "metadata": {
  "language_info": {
   "name": "python"
  }
 },
 "nbformat": 4,
 "nbformat_minor": 2
}
